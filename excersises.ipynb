{
 "cells": [
  {
   "cell_type": "markdown",
   "id": "11d0e9b2-6513-4873-8629-32e9441ec089",
   "metadata": {},
   "source": [
    "#1)Program to find prime number\n",
    "##A prime number is a natural number greater than 1 that has only two factors: 1 and itself (e.g., 2, 3, 5, 7, 11)."
   ]
  },
  {
   "cell_type": "code",
   "execution_count": 21,
   "id": "aa5edbf8-3429-4b29-96b6-4c0747b300f3",
   "metadata": {},
   "outputs": [
    {
     "name": "stdin",
     "output_type": "stream",
     "text": [
      "enter the number 17\n"
     ]
    },
    {
     "name": "stdout",
     "output_type": "stream",
     "text": [
      "17 is a prime number\n"
     ]
    }
   ],
   "source": [
    "'''\n",
    "We take the square root (√n) as the upper limit for checking divisibility to improve efficiency. Here's why:\n",
    "1. Factors Always Appear in Pairs\n",
    "Every composite number has factor pairs: n=a×b\n",
    "If both a and b were greater than √n, their product would exceed 𝑛\n",
    "n, which contradicts their definition as factors.\n",
    "Hence, at least one of the factors must be ≤ √n.\n",
    "2. Example with n = 36\n",
    "Factors of 36: (1,36), (2,18), (3,12), (4,9), (6,6)\n",
    "Notice that all smaller factors (1,2,3,4,6) are ≤ √36 = 6.\n",
    "If 36 had a factor > 6, it would pair with a number < 6, which we would have already checked.\n",
    "'''\n",
    "def is_prime(n):\n",
    "    if n <= 1:\n",
    "        return False\n",
    "    for i in range(2, int(n**0.5) + 1):\n",
    "        if n % i == 0:\n",
    "            return False\n",
    "    return True       \n",
    "\n",
    "num=int(input('enter the number'));\n",
    "if is_prime(num):\n",
    "    print(f\"{num} is a prime number\")\n",
    "else:\n",
    "  print(f\"{num} is not a prime number.\")\n",
    " '''\n",
    "  Time Complexity: O(√n)\n",
    "  Space Complexity: O(1)\n",
    "We use only a few integer variables (n, i for loop, and a boolean return value).\n",
    "No extra data structures (arrays, lists, etc.) are used.\n",
    " '''"
   ]
  },
  {
   "cell_type": "markdown",
   "id": "5be7d06b-c4f7-4a55-824d-91bafda0c668",
   "metadata": {},
   "source": [
    "# Program to check max of 3 numbers "
   ]
  },
  {
   "cell_type": "code",
   "execution_count": 23,
   "id": "1a379fbc-ecce-4f09-a1e6-de89b284ede7",
   "metadata": {},
   "outputs": [
    {
     "name": "stdin",
     "output_type": "stream",
     "text": [
      "Enter the 1st number: 37\n",
      "Enter the 2nd number: 54\n",
      "Enter the 3rd number: 22\n"
     ]
    },
    {
     "name": "stdout",
     "output_type": "stream",
     "text": [
      "maximun number is 54\n"
     ]
    }
   ],
   "source": [
    "#Using Ternary Operator\n",
    "a=int(input('Enter the 1st number:'))\n",
    "b=int(input('Enter the 2nd number:'))\n",
    "c=int(input('Enter the 3rd number:'))\n",
    "\n",
    "max_num=a if (a>=b and a>=c) else  (b if b>=c else c )\n",
    "print(f\"maximun number is {max_num}\")\n"
   ]
  },
  {
   "cell_type": "code",
   "execution_count": null,
   "id": "b052efda-d648-46c3-96dc-3ed10de71edc",
   "metadata": {},
   "outputs": [],
   "source": []
  }
 ],
 "metadata": {
  "kernelspec": {
   "display_name": "Python 3 (ipykernel)",
   "language": "python",
   "name": "python3"
  },
  "language_info": {
   "codemirror_mode": {
    "name": "ipython",
    "version": 3
   },
   "file_extension": ".py",
   "mimetype": "text/x-python",
   "name": "python",
   "nbconvert_exporter": "python",
   "pygments_lexer": "ipython3",
   "version": "3.12.9"
  }
 },
 "nbformat": 4,
 "nbformat_minor": 5
}
