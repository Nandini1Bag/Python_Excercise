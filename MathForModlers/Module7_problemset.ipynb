{
 "cells": [
  {
   "cell_type": "markdown",
   "id": "457d29c9-19ea-4058-9a60-465caa6690b5",
   "metadata": {},
   "source": [
    "#### 1)Let f(x,y) =10x -9y +2 . Find the following values of f(x,y) for the given coordinates.\n",
    "#### f(0,3) = ? , f(-2,2)=? , f(5,0) = ?, f(-1,1)=?"
   ]
  },
  {
   "cell_type": "code",
   "execution_count": 1,
   "id": "1e18b0cd-3006-4735-a840-d4d80721581c",
   "metadata": {},
   "outputs": [
    {
     "name": "stdout",
     "output_type": "stream",
     "text": [
      "f(0, 3) = -25\n",
      "f(-2, 2) = -36\n",
      "f(5, 0) = 52\n",
      "f(-1, 1) = -17\n"
     ]
    }
   ],
   "source": [
    "# Define the function\n",
    "def f(x, y):\n",
    "    return 10 * x - 9 * y + 2\n",
    "\n",
    "# Coordinates to evaluate\n",
    "coordinates = [(0, 3), (-2, 2), (5, 0), (-1, 1)]\n",
    "\n",
    "# Evaluate and print results\n",
    "for x, y in coordinates:\n",
    "    result = f(x, y)\n",
    "    print(f\"f({x}, {y}) = {result}\")\n"
   ]
  },
  {
   "cell_type": "markdown",
   "id": "b00f5089-ced8-42c1-9d77-94e819cb783f",
   "metadata": {},
   "source": [
    "#### 2) Let f(x,y) =√ x^2 -y^2  Which of the following regions are in the domain of f ? (graph)"
   ]
  },
  {
   "cell_type": "code",
   "execution_count": 3,
   "id": "f7a8365e-e46e-427d-95d3-1b577aec807e",
   "metadata": {},
   "outputs": [
    {
     "data": {
      "image/png": "[encoded data removed]",
      "text/plain": [
       "<Figure size 600x600 with 1 Axes>"
      ]
     },
     "metadata": {},
     "output_type": "display_data"
    }
   ],
   "source": [
    "import numpy as np\n",
    "import matplotlib.pyplot as plt\n",
    "\n",
    "# Create a grid of x and y values\n",
    "x = np.linspace(-3, 3, 400)\n",
    "y = np.linspace(-3, 3, 400)\n",
    "X, Y = np.meshgrid(x, y)\n",
    "\n",
    "# Compute the region where x^2 - y^2 >= 0\n",
    "Z = X**2 - Y**2\n",
    "domain_mask = Z >= 0\n",
    "\n",
    "# Plotting\n",
    "plt.figure(figsize=(6, 6))\n",
    "plt.contourf(X, Y, domain_mask, levels=1, colors=['lightgreen'])\n",
    "plt.xlabel('x')\n",
    "plt.ylabel('y')\n",
    "plt.title('Domain of f(x, y) = √(x² - y²)')\n",
    "plt.axhline(0, color='gray', linestyle='--')\n",
    "plt.axvline(0, color='gray', linestyle='--')\n",
    "plt.grid(True)\n",
    "plt.show()\n"
   ]
  },
  {
   "cell_type": "markdown",
   "id": "2ad9cf08-be66-451f-95a6-0db5ab78010a",
   "metadata": {},
   "source": [
    "#### 3)Find the limit. Enter DNE if the limit does not exist.\n",
    "#### lim (x,y) -> (0 ,0 )   (x^2 y)/(x^2 + 8y^2)= ?"
   ]
  },
  {
   "cell_type": "code",
   "execution_count": 3,
   "id": "22e20379-92c0-4762-9776-52b1d870e790",
   "metadata": {},
   "outputs": [
    {
     "name": "stdout",
     "output_type": "stream",
     "text": [
      "Limit along y = 0: 0\n",
      "Limit along x = 0: 0\n",
      "Limit along y = x: 0\n",
      "Limit along y = x^2: 0\n",
      "Limit using polar coordinates: 0\n"
     ]
    }
   ],
   "source": [
    "import sympy as sp\n",
    "\n",
    "# Define the variables\n",
    "x, y = sp.symbols('x y')\n",
    "\n",
    "# Define the function\n",
    "f = (x**2 * y) / (x**2 + 8 * y**2)\n",
    "\n",
    "# Compute the limit as (x, y) → (0, 0) along various paths\n",
    "# Path 1: y = 0\n",
    "limit_path1 = sp.limit(f.subs(y, 0), x, 0)\n",
    "\n",
    "# Path 2: x = 0\n",
    "limit_path2 = sp.limit(f.subs(x, 0), y, 0)\n",
    "\n",
    "# Path 3: y = x\n",
    "limit_path3 = sp.limit(f.subs(y, x), x, 0)\n",
    "\n",
    "# Path 4: y = x**2\n",
    "limit_path4 = sp.limit(f.subs(y, x**2), x, 0)\n",
    "\n",
    "# Use polar coordinates to confirm general limit\n",
    "r, theta = sp.symbols('r theta')\n",
    "x_polar = r * sp.cos(theta)\n",
    "y_polar = r * sp.sin(theta)\n",
    "f_polar = (x_polar**2 * y_polar) / (x_polar**2 + 8 * y_polar**2)\n",
    "f_polar_simplified = sp.simplify(f_polar)\n",
    "limit_polar = sp.limit(f_polar_simplified, r, 0)\n",
    "\n",
    "# Print all results\n",
    "print(\"Limit along y = 0:\", limit_path1)\n",
    "print(\"Limit along x = 0:\", limit_path2)\n",
    "print(\"Limit along y = x:\", limit_path3)\n",
    "print(\"Limit along y = x^2:\", limit_path4)\n",
    "print(\"Limit using polar coordinates:\", limit_polar)\n"
   ]
  },
  {
   "cell_type": "markdown",
   "id": "3a2192a5-f8e8-40c9-832c-9b23fa0887d4",
   "metadata": {},
   "source": [
    "#### 4) Given f(x,y)=y ln (4x-3y), find   fx(x,y) =? fy(x,y) = ?"
   ]
  },
  {
   "cell_type": "code",
   "execution_count": 5,
   "id": "ff19f2fb-9d83-4b82-ad95-f5192c0bdf9c",
   "metadata": {},
   "outputs": [
    {
     "name": "stdout",
     "output_type": "stream",
     "text": [
      "4*y/(4*x - 3*y)\n",
      "-3*y/(4*x - 3*y) + log(4*x - 3*y)\n"
     ]
    }
   ],
   "source": [
    "from sympy import symbols, diff, ln    \n",
    "x, y = symbols('x y')         \n",
    "f = y * ln(4*x - 3*y)\n",
    "f_x = diff(f, x) \n",
    "print(f_x)  # 4*x*y/(4*x - 3*y)\\n\n",
    "f_y = diff(f, y)                 \n",
    "print(f_y)  # ln(4*x - 3*y) - 3*y/(4*x - 3*y)\\n"
   ]
  },
  {
   "cell_type": "markdown",
   "id": "e03e84a9-5d5c-41a5-baba-aadf3c9e5d51",
   "metadata": {},
   "source": [
    "#### 5) Suppose that the manufacturing cost of a particular item is approximated by M(x,y)=x^3-2x^2y^6+4y^4, where \n",
    "####  x is the cost of materials and y is the cost of labor. Find the following: Mx(x,y) =? My(x,y) = ?  Mxx(x,y) =? Mxy(x,y) = ? \n"
   ]
  },
  {
   "cell_type": "code",
   "execution_count": 7,
   "id": "8b24a3f8-99c8-456a-b605-5e4141b4e279",
   "metadata": {},
   "outputs": [
    {
     "name": "stdout",
     "output_type": "stream",
     "text": [
      "M_x(x,y) = 3*x**2 - 4*x*y**6\n",
      "M_y(x,y) = -12*x**2*y**5 + 16*y**3\n",
      "M_xx(x,y) = 6*x - 4*y**6\n",
      "M_xy(x,y) = -24*x*y**5\n"
     ]
    }
   ],
   "source": [
    "from sympy import symbols, diff\n",
    "\n",
    "# Define variables\n",
    "x, y = symbols('x y')\n",
    "\n",
    "# Define the function\n",
    "M = x**3 - 2*x**2 * y**6 + 4*y**4\n",
    "\n",
    "# First partial derivatives\n",
    "Mx = diff(M, x)\n",
    "My = diff(M, y)\n",
    "\n",
    "# Second partial derivative with respect to x\n",
    "Mxx = diff(Mx, x)\n",
    "\n",
    "# Mixed partial derivative (first x then y)\n",
    "Mxy = diff(Mx, y)\n",
    "\n",
    "# Print results\n",
    "print(\"M_x(x,y) =\", Mx)\n",
    "print(\"M_y(x,y) =\", My)\n",
    "print(\"M_xx(x,y) =\", Mxx)\n",
    "print(\"M_xy(x,y) =\", Mxy)\n"
   ]
  },
  {
   "cell_type": "markdown",
   "id": "5fa0cb56-6846-4699-95c8-58dbe6adf436",
   "metadata": {},
   "source": [
    "#### 6)Find the tangent plane to the equation z=2e^(x^2-2y) at the point (4,8,2) z = ?"
   ]
  },
  {
   "cell_type": "code",
   "execution_count": 9,
   "id": "fbfa0ebd-2367-4d6e-b8ac-d5e91204a8b4",
   "metadata": {},
   "outputs": [
    {
     "name": "stdout",
     "output_type": "stream",
     "text": [
      "Tangent plane equation: z = 16*x - 4*y - 30\n"
     ]
    }
   ],
   "source": [
    "from sympy import symbols, exp, diff, simplify\n",
    "\n",
    "# Define variables\n",
    "x, y = symbols('x y')\n",
    "\n",
    "# Define the function\n",
    "z = 2 * exp(x**2 - 2*y)\n",
    "\n",
    "# Compute partial derivatives\n",
    "fx = diff(z, x)\n",
    "fy = diff(z, y)\n",
    "\n",
    "# Point of tangency\n",
    "x0, y0, z0 = 4, 8, 2\n",
    "\n",
    "# Evaluate partial derivatives at (4, 8)\n",
    "fx_val = fx.subs({x: x0, y: y0})\n",
    "fy_val = fy.subs({x: x0, y: y0})\n",
    "\n",
    "# Define the tangent plane\n",
    "tangent_plane = z0 + fx_val * (x - x0) + fy_val * (y - y0)\n",
    "\n",
    "# Simplify and print the result\n",
    "tangent_plane = simplify(tangent_plane)\n",
    "print(\"Tangent plane equation: z =\", tangent_plane)\n"
   ]
  },
  {
   "cell_type": "markdown",
   "id": "4a64146f-5287-49ec-bc3a-702773e80164",
   "metadata": {},
   "source": [
    "#### 7)Find the linear approximation to f(x,y)=4 √ (xy/4) at the point (8,2,8), and use it to approximate \n",
    "#### f(8.12,2.25). f(8.12,2.25) =? Round your answer to four decimal places as needed."
   ]
  },
  {
   "cell_type": "code",
   "execution_count": 1,
   "id": "78cd8722-5135-494d-b021-d31b51cc32c2",
   "metadata": {},
   "outputs": [
    {
     "name": "stdout",
     "output_type": "stream",
     "text": [
      "Approximate value of f(8.12, 2.25): 8.5600\n"
     ]
    }
   ],
   "source": [
    "import math\n",
    "\n",
    "# Original function: f(x, y) = 2 * sqrt(xy)\n",
    "def f(x, y):\n",
    "    return 2 * math.sqrt(x * y)\n",
    "\n",
    "# Partial derivatives\n",
    "def fx(x, y):\n",
    "    return y / math.sqrt(x * y)\n",
    "\n",
    "def fy(x, y):\n",
    "    return x / math.sqrt(x * y)\n",
    "\n",
    "# Point of approximation\n",
    "a, b = 8, 2\n",
    "\n",
    "# Compute function value and partials at (8, 2)\n",
    "f_val = f(a, b)\n",
    "fx_val = fx(a, b)\n",
    "fy_val = fy(a, b)\n",
    "\n",
    "# Linear approximation formula\n",
    "def linear_approx(x, y):\n",
    "    return f_val + fx_val * (x - a) + fy_val * (y - b)\n",
    "\n",
    "# Approximate f(8.12, 2.25)\n",
    "approx_value = linear_approx(8.12, 2.25)\n",
    "\n",
    "# Round to 4 decimal places\n",
    "print(f\"Approximate value of f(8.12, 2.25): {approx_value:.4f}\")\n"
   ]
  },
  {
   "cell_type": "markdown",
   "id": "3b481e50-9f9e-4600-aaad-6bc7bc634291",
   "metadata": {},
   "source": [
    "#### 8)Find dz/dt given: z = xe^6y , x=t^3 , y=4+2t  . Your answer should only involve the variable t"
   ]
  },
  {
   "cell_type": "code",
   "execution_count": 5,
   "id": "a3a740e2-564d-4079-9888-d77a4aea3877",
   "metadata": {},
   "outputs": [
    {
     "name": "stdout",
     "output_type": "stream",
     "text": [
      "dz/dt = t**2*(12*t + 3)*exp(12*t + 24)\n"
     ]
    }
   ],
   "source": [
    "import sympy as sp\n",
    "\n",
    "# Define variable\n",
    "t = sp.Symbol('t')\n",
    "\n",
    "# Define x(t), y(t)\n",
    "x = t**3\n",
    "y = 4 + 2*t\n",
    "\n",
    "# Define z = x * e^(6y)\n",
    "z = x * sp.exp(6 * y)\n",
    "\n",
    "# Compute dz/dt\n",
    "dz_dt = sp.diff(z, t)\n",
    "dz_dt_simplified = sp.simplify(dz_dt)\n",
    "\n",
    "# Display result\n",
    "print(\"dz/dt =\", dz_dt_simplified)\n"
   ]
  },
  {
   "cell_type": "markdown",
   "id": "c74fe56a-5f8b-4f31-b70c-ed3be5ab5261",
   "metadata": {},
   "source": [
    "#### 9) The pressure P (in kilopascals), volume V (in liters), and temperature T (in kelvins) of a mole of an ideal gas are\n",
    "#### related by the equation PV= 8.31T , where P,V , and T are all functions of time (in seconds). At some point in time \n",
    "#### the temperature is 270 K and increasing at a rate of 0.1 K/s and the pressure is 17 and increasing at a rate of 0.09 kPa/s. Find the rate at which #### the volume is changing at that time."
   ]
  },
  {
   "cell_type": "code",
   "execution_count": 9,
   "id": "fea27e43-f430-4f35-b48e-216975f3addd",
   "metadata": {},
   "outputs": [
    {
     "name": "stdout",
     "output_type": "stream",
     "text": [
      "dV/dt ≈ -0.6498 L/s\n"
     ]
    }
   ],
   "source": [
    "# Given values\n",
    "P = 17                     # Pressure in kPa\n",
    "dP_dt = 0.09               # Rate of change of pressure in kPa/s\n",
    "T = 270                    # Temperature in Kelvin\n",
    "dT_dt = 0.1                # Rate of change of temperature in K/s\n",
    "R = 8.31                   # Ideal gas constant for 1 mole in kPa·L/K\n",
    "\n",
    "# Step 1: Calculate V from PV = RT\n",
    "V = (R * T) / P\n",
    "\n",
    "# Step 2: Apply chain rule and product rule\n",
    "# d/dt (PV)= d/dt (RT) =>  𝑃⋅𝑑𝑉/𝑑𝑡 + 𝑉⋅𝑑𝑃/𝑑𝑡 = 𝑅⋅𝑑𝑇/𝑑𝑡  =>  dV/dt = (R * dT/dt - V * dP/dt) / P\n",
    "dV_dt = (R * dT_dt - V * dP_dt) / P\n",
    "\n",
    "# Step 3: Print the result rounded to 4 decimal places\n",
    "print(f\"dV/dt ≈ {dV_dt:.4f} L/s\")\n"
   ]
  },
  {
   "cell_type": "markdown",
   "id": "8b52a1aa-6aba-4f6b-9d21-49974f3382c5",
   "metadata": {},
   "source": [
    "#### 10)Suppose that f(x,y)=x^4 + y^4 -xy.Then the minimum value of f is ?"
   ]
  },
  {
   "cell_type": "code",
   "execution_count": 15,
   "id": "eba549b2-3809-44d6-a96f-c9e25337c1e4",
   "metadata": {},
   "outputs": [
    {
     "name": "stdout",
     "output_type": "stream",
     "text": [
      "Critical points: [{x: -1/2, y: -1/2}, {x: 0, y: 0}, {x: 1/2, y: 1/2}, {x: -I/2, y: I/2}, {x: I/2, y: -I/2}, {x: sqrt(2)*(-1 - I)/4, y: sqrt(2)/4 - sqrt(2)*I/4}, {x: sqrt(2)*(-1 + I)/4, y: sqrt(2)/4 + sqrt(2)*I/4}, {x: sqrt(2)*(1 - I)/4, y: -sqrt(2)/4 - sqrt(2)*I/4}, {x: sqrt(2)*(1 + I)/4, y: -sqrt(2)/4 + sqrt(2)*I/4}]\n",
      "Minimum value of f(x,y): -1/8\n"
     ]
    }
   ],
   "source": [
    "import sympy as sp\n",
    "\n",
    "x, y = sp.symbols('x y')\n",
    "f = x**4 + y**4 - x*y\n",
    "\n",
    "# First derivatives\n",
    "fx = sp.diff(f, x)\n",
    "fy = sp.diff(f, y)\n",
    "\n",
    "# Solve fx=0 and fy=0 for critical points\n",
    "critical_points = sp.solve([fx, fy], (x, y), dict=True)\n",
    "\n",
    "# Evaluate f at each critical point\n",
    "values = [f.subs(pt) for pt in critical_points]\n",
    "\n",
    "# Find minimum value\n",
    "min_value = min(values)\n",
    "\n",
    "print(\"Critical points:\", critical_points)\n",
    "print(\"Minimum value of f(x,y):\", min_value)\n"
   ]
  },
  {
   "cell_type": "markdown",
   "id": "5a373dfc-b792-4769-b9f6-f8dec9af928d",
   "metadata": {},
   "source": [
    "#### 11)Let f(x,y)=x^3 + y^3 + 6x^2 - 6y^2 -1. List the saddle points =?\n",
    "#### A local minimum occurs at ? The value of the local minimum is ?\n",
    "#### A local maximum occurs at ? The value of the local maximum is ?"
   ]
  },
  {
   "cell_type": "code",
   "execution_count": 1,
   "id": "f1344634-80eb-429b-8a22-0e884528e802",
   "metadata": {},
   "outputs": [
    {
     "name": "stdout",
     "output_type": "stream",
     "text": [
      "Point: (-4, 0)\n",
      "  f(x, y) = 31\n",
      "  D = 144\n",
      "  → Local Maximum\n",
      "\n",
      "Point: (-4, 4)\n",
      "  f(x, y) = -1\n",
      "  D = -144\n",
      "  → Saddle Point\n",
      "\n",
      "Point: (0, 0)\n",
      "  f(x, y) = -1\n",
      "  D = -144\n",
      "  → Saddle Point\n",
      "\n",
      "Point: (0, 4)\n",
      "  f(x, y) = -33\n",
      "  D = 144\n",
      "  → Local Minimum\n",
      "\n"
     ]
    }
   ],
   "source": [
    "import sympy as sp\n",
    "\n",
    "# Define symbols\n",
    "x, y = sp.symbols('x y')\n",
    "\n",
    "# Define the function\n",
    "f = x**3 + y**3 + 6*x**2 - 6*y**2 - 1\n",
    "\n",
    "# Compute first partial derivatives\n",
    "f_x = sp.diff(f, x)\n",
    "f_y = sp.diff(f, y)\n",
    "\n",
    "# Solve for critical points\n",
    "critical_points = sp.solve([f_x, f_y], (x, y), dict=True)\n",
    "\n",
    "# Second derivatives\n",
    "f_xx = sp.diff(f_x, x)\n",
    "f_yy = sp.diff(f_y, y)\n",
    "f_xy = sp.diff(f_x, y)\n",
    "\n",
    "# Classify critical points\n",
    "for point in critical_points:\n",
    "    x0, y0 = point[x], point[y]\n",
    "    D = f_xx.subs(point) * f_yy.subs(point) - f_xy.subs(point)**2\n",
    "    f_val = f.subs(point)\n",
    "    \n",
    "    print(f\"Point: ({x0}, {y0})\")\n",
    "    print(f\"  f(x, y) = {f_val}\")\n",
    "    print(f\"  D = {D}\")\n",
    "    \n",
    "    if D < 0:\n",
    "        print(\"  → Saddle Point\\n\")\n",
    "    elif D > 0:\n",
    "        if f_xx.subs(point) > 0:\n",
    "            print(\"  → Local Minimum\\n\")\n",
    "        else:\n",
    "            print(\"  → Local Maximum\\n\")\n",
    "    else:\n",
    "        print(\"  → Inconclusive\\n\")\n"
   ]
  },
  {
   "cell_type": "markdown",
   "id": "35aeb7aa-5e03-496f-8997-1f263e2fdd35",
   "metadata": {},
   "source": [
    "#### 12)Given S(x,y)=2x+6y-8x^2-9y^2-5xy , answer the following questions:\n",
    "#### (a) Find the first partial derivatives of S. Sx(x,y),Sy(x,y)=?\n",
    "#### (b) Find the values of x and y  that maximize S. Round to four decimal places as needed. x = ? y = ?"
   ]
  },
  {
   "cell_type": "code",
   "execution_count": 5,
   "id": "fa2a7f05-e2a4-4dc0-9b99-acd40352abe9",
   "metadata": {},
   "outputs": [
    {
     "name": "stdout",
     "output_type": "stream",
     "text": [
      "First partial derivatives:\n",
      "Sx(x, y) = -16*x - 5*y + 2\n",
      "Sy(x, y) = -5*x - 18*y + 6\n",
      "\n",
      "Critical point(s) that maximize S:\n",
      "x = 0.0228, y = 0.327\n"
     ]
    }
   ],
   "source": [
    "import sympy as sp\n",
    "\n",
    "# Define the variables\n",
    "x, y = sp.symbols('x y')\n",
    "\n",
    "# Define the function S(x, y)\n",
    "S = 2*x + 6*y - 8*x**2 - 9*y**2 - 5*x*y\n",
    "\n",
    "# Part (a): First partial derivatives\n",
    "Sx = sp.diff(S, x)\n",
    "Sy = sp.diff(S, y)\n",
    "\n",
    "print(\"First partial derivatives:\")\n",
    "print(f\"Sx(x, y) = {Sx}\")\n",
    "print(f\"Sy(x, y) = {Sy}\")\n",
    "\n",
    "# Part (b): Solve for critical points (where Sx = 0 and Sy = 0)\n",
    "critical_points = sp.solve([Sx, Sy], (x, y), dict=True)\n",
    "\n",
    "print(\"\\nCritical point(s) that maximize S:\")\n",
    "for point in critical_points:\n",
    "    x_val = round(float(point[x]), 4)\n",
    "    y_val = round(float(point[y]), 4)\n",
    "    print(f\"x = {x_val}, y = {y_val}\")\n"
   ]
  },
  {
   "cell_type": "markdown",
   "id": "bee6f302-c2bb-4c08-846c-c4eef9da071b",
   "metadata": {},
   "source": [
    "#### 13)An open-top rectangular box is being constructed to hold a volume of 150 in3. The base of the box is made from \n",
    "#### a material costing 8 cents/in2. The front of the box must be decorated, and will cost 10 cents/in2. \n",
    "#### The remainder of the sides will cost 2 cents/in2.\n",
    "#### Find the dimensions that will minimize the cost of constructing this box. Round your answers to two decimal places as needed.\n",
    "#### Front width: ?   in.  Depth: ?   in. Height: ?   in."
   ]
  },
  {
   "cell_type": "code",
   "execution_count": 7,
   "id": "19ac2343-3522-4d47-ad98-21b7acdae07e",
   "metadata": {},
   "outputs": [
    {
     "name": "stdout",
     "output_type": "stream",
     "text": [
      "Front width: 2.92 in\n",
      "Depth: 8.77 in\n",
      "Height: 5.86 in\n"
     ]
    }
   ],
   "source": [
    "import sympy as sp\n",
    "\n",
    "# Define variables\n",
    "w, d = sp.symbols('w d', positive=True, real=True)\n",
    "\n",
    "# Define cost function with h eliminated using the volume constraint\n",
    "C = 8*w*d + 1800/d + 600/w\n",
    "\n",
    "# Compute partial derivatives\n",
    "Cw = sp.diff(C, w)\n",
    "Cd = sp.diff(C, d)\n",
    "\n",
    "# Solve the system of equations (Cw = 0, Cd = 0)\n",
    "solutions = sp.solve([Cw, Cd], (w, d), dict=True)\n",
    "\n",
    "# Calculate corresponding height h = 150 / (w * d)\n",
    "for sol in solutions:\n",
    "    w_val = round(float(sol[w]), 2)\n",
    "    d_val = round(float(sol[d]), 2)\n",
    "    h_val = round(150 / (w_val * d_val), 2)\n",
    "    \n",
    "    print(f\"Front width: {w_val} in\")\n",
    "    print(f\"Depth: {d_val} in\")\n",
    "    print(f\"Height: {h_val} in\")\n"
   ]
  },
  {
   "cell_type": "markdown",
   "id": "e9df24f2-74e0-4736-a9d6-ec865bd7594b",
   "metadata": {},
   "source": [
    "#### 14)A firm manufactures a commodity at two different factories, Factory X and Factory Y. \n",
    "#### The total cost (in dollars) of manufacturing depends on the quantities, x and y\n",
    "#### produced at each factory, respectively, and is expressed by the joint cost function: c(x,y)=2x^2+xy+4y^2+2400\n",
    "#### A) If the company's objective is to produce 900 units per month while minimizing the total monthly cost of production, \n",
    "#### how many units should be produced at each factory? (Round your answer to whole units, i.e. no decimal places.)\n",
    "#### To minimize costs, the company should produce:\n",
    "#### ? at Factory X and  ? at Factory Y\n",
    "#### B) For this combination of units, their minimal costs will be ?  dollars. (Do not enter any commas in your answer.)"
   ]
  },
  {
   "cell_type": "code",
   "execution_count": 9,
   "id": "80f936f2-3bc1-4491-a146-589792106a35",
   "metadata": {},
   "outputs": [
    {
     "name": "stdout",
     "output_type": "stream",
     "text": [
      "Factory X: 630 units\n",
      "Factory Y: 270 units\n",
      "Minimum Cost: 1257900 dollars\n"
     ]
    }
   ],
   "source": [
    "import sympy as sp\n",
    "\n",
    "# Define variables\n",
    "x, y, lam = sp.symbols('x y lam')\n",
    "\n",
    "# Define the cost function and constraint\n",
    "cost = 2*x**2 + x*y + 4*y**2 + 2400\n",
    "constraint = x + y - 900\n",
    "\n",
    "# Lagrangian\n",
    "L = cost - lam * constraint\n",
    "\n",
    "# Compute gradients\n",
    "grad_x = sp.diff(L, x)\n",
    "grad_y = sp.diff(L, y)\n",
    "grad_lam = sp.diff(L, lam)\n",
    "\n",
    "# Solve the system of equations\n",
    "solution = sp.solve([grad_x, grad_y, grad_lam], (x, y, lam), dict=True)\n",
    "\n",
    "# Extract and evaluate\n",
    "sol = solution[0]\n",
    "x_val = int(round(float(sol[x])))\n",
    "y_val = int(round(float(sol[y])))\n",
    "min_cost = int(round(float(cost.subs({x: x_val, y: y_val}))))\n",
    "\n",
    "print(f\"Factory X: {x_val} units\")\n",
    "print(f\"Factory Y: {y_val} units\")\n",
    "print(f\"Minimum Cost: {min_cost} dollars\")\n"
   ]
  },
  {
   "cell_type": "markdown",
   "id": "61145467-4fad-4cc0-be97-a6fcd6e2ce8e",
   "metadata": {},
   "source": [
    "#### 15)A chemical manufacturing plant can produce z units of chemical Z given p units of chemical P and \n",
    "#### r units of chemical R, where: z= 140 p^6 r^0.4\n",
    "#### Chemical P costs dollar 100 a unit and chemical R costs (dollar)800 a unit. The company wants to produce as many \n",
    "#### units of chemical Z as possible with a total budget of $40,000.\n",
    "#### A) How many units each chemical (P and R) should be \"purchased\" to maximize production of chemical Z subject to the budgetary constraint?\n",
    "#### Units of chemical P, p = ? \n",
    "#### Units of chemical R, r = ? \n",
    "#### B) What is the maximum number of units of chemical Z under the given budgetary conditions? (Round your answer to the nearest whole unit.)\n",
    "#### Max production, z= ? units"
   ]
  },
  {
   "cell_type": "code",
   "execution_count": 11,
   "id": "f0d2d8cb-656d-45e8-aad4-857763294047",
   "metadata": {},
   "outputs": [
    {
     "name": "stdout",
     "output_type": "stream",
     "text": [
      "Units of chemical P, p = 240.0\n",
      "Units of chemical R, r = 20.0\n",
      "Max production, z = 12436 units\n"
     ]
    }
   ],
   "source": [
    "import sympy as sp\n",
    "\n",
    "# Define symbols\n",
    "p, r, lam = sp.symbols('p r lam', positive=True, real=True)\n",
    "\n",
    "# Define z (objective function) and constraint\n",
    "z = 140 * p**0.6 * r**0.4\n",
    "constraint = 100*p + 800*r - 40000\n",
    "\n",
    "# Lagrangian\n",
    "L = z - lam * constraint\n",
    "\n",
    "# Derivatives\n",
    "dp = sp.diff(L, p)\n",
    "dr = sp.diff(L, r)\n",
    "dlam = sp.diff(L, lam)\n",
    "\n",
    "# Solve system\n",
    "solutions = sp.solve([dp, dr, dlam], (p, r, lam), dict=True)\n",
    "sol = solutions[0]\n",
    "\n",
    "# Evaluate p, r, z\n",
    "p_val = float(sol[p])\n",
    "r_val = float(sol[r])\n",
    "z_val = float(z.subs({p: p_val, r: r_val}))\n",
    "\n",
    "# Round results\n",
    "print(f\"Units of chemical P, p = {round(p_val, 2)}\")\n",
    "print(f\"Units of chemical R, r = {round(r_val, 2)}\")\n",
    "print(f\"Max production, z = {round(z_val)} units\")\n"
   ]
  },
  {
   "cell_type": "code",
   "execution_count": null,
   "id": "bd71d369-1d20-40c5-9ccc-5fc3d1cc719b",
   "metadata": {},
   "outputs": [],
   "source": []
  }
 ],
 "metadata": {
  "kernelspec": {
   "display_name": "Python 3 (ipykernel)",
   "language": "python",
   "name": "python3"
  },
  "language_info": {
   "codemirror_mode": {
    "name": "ipython",
    "version": 3
   },
   "file_extension": ".py",
   "mimetype": "text/x-python",
   "name": "python",
   "nbconvert_exporter": "python",
   "pygments_lexer": "ipython3",
   "version": "3.12.9"
  }
 },
 "nbformat": 4,
 "nbformat_minor": 5
}
