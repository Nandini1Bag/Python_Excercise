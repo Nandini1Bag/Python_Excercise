{
 "cells": [
  {
   "cell_type": "markdown",
   "id": "b2325694-8a6e-4729-b4a7-dd149809364e",
   "metadata": {},
   "source": [
    "#### 2)Find the following limit: limx->10 =(x^3-11x^2+13x-30)/x-10"
   ]
  },
  {
   "cell_type": "code",
   "execution_count": 47,
   "id": "acbc85a3-a9c3-4663-87cf-8fc787622922",
   "metadata": {},
   "outputs": [
    {
     "name": "stdout",
     "output_type": "stream",
     "text": [
      "93\n"
     ]
    }
   ],
   "source": [
    "from sympy import symbols, limit\n",
    "\n",
    "# Define the variable\n",
    "x = symbols('x')\n",
    "\n",
    "# Define the expression\n",
    "expr = (x**3 - 11*x**2 + 13*x - 30) / (x - 10)\n",
    "\n",
    "# Calculate the limit as x approaches 10\n",
    "limit_value = limit(expr, x, 10)\n",
    "print(limit_value)\n"
   ]
  },
  {
   "cell_type": "markdown",
   "id": "a9ef6453-6b00-4f8f-b34c-355128b9bb44",
   "metadata": {},
   "source": [
    "#### 3)Let f(x)={ -90/x+9 if x<1 , -9 if x=1 ,27/x-4 if x >1  }  Compute the limits and determine the function value. Write \"DNE\" if the limit does not   #### exist or the value is undefined. find lim x->1^-1 f(x) , lim x->1^+1 f(x),f(1)  ?\n"
   ]
  },
  {
   "cell_type": "code",
   "execution_count": 50,
   "id": "76d51b90-3846-4fd0-9891-3c4a5d7a74a4",
   "metadata": {},
   "outputs": [
    {
     "name": "stdout",
     "output_type": "stream",
     "text": [
      "Limit analysis around x = 1:\n",
      "lim x→1⁻ f(x) = -9\n",
      "lim x→1⁺ f(x) = -9\n",
      "f(1) = -9\n",
      "Conclusion: f is continuous at x = 1.\n",
      "\n",
      "Discontinuous at x = [-9, 4]\n"
     ]
    }
   ],
   "source": [
    "import sympy as sp\n",
    "\n",
    "# Define the symbol\n",
    "x = sp.Symbol('x')\n",
    "\n",
    "# Define the three pieces\n",
    "f_left = -90 / (x + 9)     # for x < 1\n",
    "f_middle = -9              # at x = 1\n",
    "f_right = 27 / (x - 4)     # for x > 1\n",
    "\n",
    "# Compute left and right-hand limits as x approaches 1\n",
    "lim_left_1 = sp.limit(f_left, x, 1, dir='-')\n",
    "lim_right_1 = sp.limit(f_right, x, 1, dir='+')\n",
    "f_1 = f_middle\n",
    "\n",
    "# Print limits around x = 1\n",
    "print(\"Limit analysis around x = 1:\")\n",
    "print(f\"lim x→1⁻ f(x) = {lim_left_1}\")\n",
    "print(f\"lim x→1⁺ f(x) = {lim_right_1}\")\n",
    "print(f\"f(1) = {f_1}\")\n",
    "\n",
    "# Check continuity at x = 1\n",
    "if lim_left_1 == lim_right_1 == f_1:\n",
    "    print(\"Conclusion: f is continuous at x = 1.\")\n",
    "else:\n",
    "    print(\"Conclusion: f is NOT continuous at x = 1.\")\n",
    "\n",
    "# Check for other discontinuities\n",
    "lim_left_neg9 = sp.limit(f_left, x, -9, dir='-')\n",
    "lim_right_neg9 = sp.limit(f_left, x, -9, dir='+')\n",
    "lim_left_4 = sp.limit(f_right, x, 4, dir='-')\n",
    "lim_right_4 = sp.limit(f_right, x, 4, dir='+')\n",
    "\n",
    "discontinuities = []\n",
    "if not sp.Eq(lim_left_neg9, lim_right_neg9):\n",
    "    discontinuities.append(-9)\n",
    "if not (lim_left_1 == lim_right_1 == f_1):\n",
    "    discontinuities.append(1)\n",
    "if not sp.Eq(lim_left_4, lim_right_4):\n",
    "    discontinuities.append(4)\n",
    "\n",
    "print(f\"\\nDiscontinuous at x = {discontinuities}\")\n"
   ]
  },
  {
   "cell_type": "markdown",
   "id": "e8642630-2648-4f05-a17d-d3e685d2d900",
   "metadata": {},
   "source": [
    "#### 5)A ball is thrown into the air with an initial velocity of 48 ft/s. Its height in feet after t seconds is given by \n",
    "#### y=48t-16t^2  (a) Find the average velocity for the time period beginning at 1 seconds and lasting for the following number of seconds (round your #### answers to four decimals as needed): .01 sec,0.005 sec,.002 sec,.001 sec\n",
    "#### (b) Estimate the instantaneous velocity when t=1"
   ]
  },
  {
   "cell_type": "code",
   "execution_count": 53,
   "id": "52c4ef45-2593-4ccb-97f3-52d8a6e88782",
   "metadata": {},
   "outputs": [
    {
     "name": "stdout",
     "output_type": "stream",
     "text": [
      "Average Velocities:\n",
      "h = 0.01: 15.84 ft/s\n",
      "h = 0.005: 15.92 ft/s\n",
      "h = 0.002: 15.968 ft/s\n",
      "h = 0.001: 15.984 ft/s\n",
      "\n",
      "Instantaneous Velocity at t = 1: 16 ft/s\n"
     ]
    }
   ],
   "source": [
    "# Define the height function\n",
    "def y(t):\n",
    "    return 48*t - 16*t**2\n",
    "\n",
    "# Define the derivative (instantaneous velocity)\n",
    "def y_prime(t):\n",
    "    return 48 - 32*t\n",
    "\n",
    "# Given initial time t1\n",
    "t1 = 1\n",
    "\n",
    "# Define the values for h\n",
    "h_values = [0.01, 0.005, 0.002, 0.001]\n",
    "\n",
    "# Calculate average velocities for each h\n",
    "average_velocities = [(h, round((y(t1 + h) - y(t1)) / h, 4)) for h in h_values]\n",
    "\n",
    "# Calculate instantaneous velocity at t = 1 (derivative)\n",
    "instantaneous_velocity = y_prime(t1)\n",
    "\n",
    "# Output results\n",
    "print(\"Average Velocities:\")\n",
    "for h, avg_velocity in average_velocities:\n",
    "    print(f\"h = {h}: {avg_velocity} ft/s\")\n",
    "\n",
    "print(\"\\nInstantaneous Velocity at t = 1:\", instantaneous_velocity, \"ft/s\")\n"
   ]
  },
  {
   "cell_type": "code",
   "execution_count": 55,
   "id": "5e178e01-2a09-472d-8b95-e7786a121d34",
   "metadata": {},
   "outputs": [
    {
     "name": "stdout",
     "output_type": "stream",
     "text": [
      "Average Velocities:\n",
      "h = 0.01: -0.16 ft/s\n",
      "h = 0.005: -0.08 ft/s\n",
      "h = 0.002: -0.032 ft/s\n",
      "h = 0.001: -0.016 ft/s\n",
      "\n",
      "Instantaneous Velocity at t = 2: 0 ft/s\n"
     ]
    }
   ],
   "source": [
    "# Define the height function\n",
    "def y(t):\n",
    "    return 64*t - 16*t**2\n",
    "\n",
    "# Define the derivative (instantaneous velocity)\n",
    "def y_prime(t):\n",
    "    return 64 - 32*t\n",
    "\n",
    "# Starting time\n",
    "t1 = 2\n",
    "\n",
    "# List of time intervals (h values)\n",
    "h_values = [0.01, 0.005, 0.002, 0.001]\n",
    "\n",
    "# Compute average velocities for each h\n",
    "average_velocities = [(h, round((y(t1 + h) - y(t1)) / h, 4)) for h in h_values]\n",
    "\n",
    "# Compute instantaneous velocity at t = 2\n",
    "instantaneous_velocity = y_prime(t1)\n",
    "\n",
    "# Print results\n",
    "print(\"Average Velocities:\")\n",
    "for h, velocity in average_velocities:\n",
    "    print(f\"h = {h}: {velocity} ft/s\")\n",
    "\n",
    "print(f\"\\nInstantaneous Velocity at t = {t1}: {instantaneous_velocity} ft/s\")\n"
   ]
  },
  {
   "cell_type": "markdown",
   "id": "e49c7a58-0780-41a1-8b26-19907af1065d",
   "metadata": {},
   "source": [
    "#### 6)An antibiotic is applied to a culture of bacteria. The number of bacteria cells remaining in the culture is given by \n",
    "#### p(t)=9000/4t^2+3 , for t>=0 where t represents elapsed time in seconds.\n",
    "#### Determine the rate of change with respect to time:d(t) \n",
    "#### Determine the rate of change at t=6:   cells per second. (Round your answer to 4 decimals as needed.)\n"
   ]
  },
  {
   "cell_type": "code",
   "execution_count": 58,
   "id": "5c65777a-c6f7-4c36-9c9a-2a8a08c06b07",
   "metadata": {},
   "outputs": [
    {
     "name": "stdout",
     "output_type": "stream",
     "text": [
      "dp/dt = -72000*t/(4*t**2 + 3)**2\n",
      "Rate of change at t = 6: -19.9917 cells per second\n"
     ]
    }
   ],
   "source": [
    "import sympy as sp\n",
    "\n",
    "# Define the symbol and the function\n",
    "t = sp.Symbol('t', real=True)\n",
    "p = 9000 / (4*t**2 + 3)\n",
    "\n",
    "# Calculate the derivative of p with respect to t\n",
    "dp_dt = sp.diff(p, t)\n",
    "\n",
    "# Evaluate the derivative at t = 6\n",
    "rate_at_t6 = dp_dt.subs(t, 6).evalf()\n",
    "\n",
    "# Display the derivative and the rate at t = 6\n",
    "print(\"dp/dt =\", dp_dt)\n",
    "print(\"Rate of change at t = 6:\", round(rate_at_t6, 4), \"cells per second\")\n"
   ]
  },
  {
   "cell_type": "markdown",
   "id": "e5184265-c69d-4a06-8219-9dede5b2926b",
   "metadata": {},
   "source": [
    "#### 7)Winter Fun© has determined that the total revenue (in dollars) for its west coast factory from the sale of x Blazing Blue snowmobiles is given by\n",
    "#### R(x)=2400x/ln(8x+8) Find the marginal revenue when 125 Blazing Blue snowmobiles are sold.\n",
    "#### a)R'(125)Round to two decimals as needed."
   ]
  },
  {
   "cell_type": "code",
   "execution_count": 61,
   "id": "112ff459-c71a-4c90-8c5b-267ee8792aee",
   "metadata": {},
   "outputs": [
    {
     "name": "stdout",
     "output_type": "stream",
     "text": [
      "297.252917482887\n"
     ]
    }
   ],
   "source": [
    "x = sp.Symbol('x')\n",
    "R = (2400 * x) / sp.log(8 * x + 8)\n",
    "\n",
    "R_prime = sp.diff(R, x)\n",
    "marginal_revenue = R_prime.subs(x, 125).evalf()\n",
    "print(marginal_revenue)\n"
   ]
  },
  {
   "cell_type": "markdown",
   "id": "c90b9708-ed93-4c24-bf83-ccd4aa50203b",
   "metadata": {},
   "source": [
    "#### 8)A swallow is sitting on a tree branch a certain height above the ground and decides to fly away. Its height (in meters) above the ground can be   modeled by the function h(t)=-3t^2 + 2t +68, where t is elapsed time in seconds after the swallow takes flight.\n",
    "#### 1)Find the height above the ground of the swallow before taking flight\n",
    "#### 2)Find the height above the ground of the swallow at t=3.51sec \n",
    "#### 3)Find the initial velocity of the swallow   4)Find the velocity of the swallow at t=3.51sec \n",
    "#### 5)Find the initial acceleration of the swallow 6)Find the acceleration of the swallow at t=3.51sec "
   ]
  },
  {
   "cell_type": "code",
   "execution_count": 64,
   "id": "0fa342c6-393b-49ad-a328-a4915b50723e",
   "metadata": {},
   "outputs": [
    {
     "name": "stdout",
     "output_type": "stream",
     "text": [
      "Height h(t): -3*t**2 + 2*t + 68\n",
      "Velocity v(t): 2 - 6*t\n",
      "Acceleration a(t): -6\n",
      "\n",
      "1. Height before taking flight (at t=0): 68 meters\n",
      "\n",
      "2. Height at t = 3.51 seconds: 38.0597000000000 meters\n",
      "\n",
      "3. Initial velocity at t=0: 2 m/s\n",
      "\n",
      "4. Velocity at t = 3.51 seconds: -19.0600000000000 m/s\n",
      "\n",
      "5. Initial acceleration at t=0: -6 m/s^2\n",
      "\n",
      "6. Acceleration at t = 3.51 seconds: -6 m/s^2\n"
     ]
    }
   ],
   "source": [
    "import sympy as sp\n",
    "\n",
    "# V = d/t, V is the velocity, d is the distance, and t is the time.\n",
    "# a = Δv/Δt , a is Acceleration ,(Δv) is the change in velocity,(Δt)is the change in time (Δt). \n",
    "# Define the symbolic variable\n",
    "t = sp.symbols('t')\n",
    "\n",
    "# Define the height function h(t)\n",
    "h = -3*t**2 + 2*t + 68\n",
    "\n",
    "# Compute velocity v(t) as the derivative of h(t)\n",
    "v = sp.diff(h, t)\n",
    "\n",
    "# Compute acceleration a(t) as the derivative of v(t)\n",
    "a = sp.diff(v, t)\n",
    "\n",
    "# Display the results for the general expressions\n",
    "print(\"Height h(t):\", h)\n",
    "print(\"Velocity v(t):\", v)\n",
    "print(\"Acceleration a(t):\", a)\n",
    "\n",
    "# Evaluate at specific times\n",
    "# 1. Height before taking flight (at t=0)\n",
    "h_val_0 = h.subs(t, 0)\n",
    "print(f\"\\n1. Height before taking flight (at t=0): {h_val_0} meters\")\n",
    "\n",
    "# 2. Height at t = 3.51\n",
    "t_value = 3.51\n",
    "h_val_3_51 = h.subs(t, t_value)\n",
    "print(f\"\\n2. Height at t = {t_value} seconds: {h_val_3_51} meters\")\n",
    "\n",
    "# 3. Velocity at t = 0 (initial velocity)\n",
    "v_val_0 = v.subs(t, 0)\n",
    "print(f\"\\n3. Initial velocity at t=0: {v_val_0} m/s\")\n",
    "\n",
    "# 4. Velocity at t = 3.51\n",
    "v_val_3_51 = v.subs(t, t_value)\n",
    "print(f\"\\n4. Velocity at t = {t_value} seconds: {v_val_3_51} m/s\")\n",
    "\n",
    "# 5. Acceleration at t = 0 (initial acceleration)\n",
    "a_val_0 = a.subs(t, 0)\n",
    "print(f\"\\n5. Initial acceleration at t=0: {a_val_0} m/s^2\")\n",
    "\n",
    "# 6. Acceleration at t = 3.51\n",
    "a_val_3_51 = a.subs(t, t_value)\n",
    "print(f\"\\n6. Acceleration at t = {t_value} seconds: {a_val_3_51} m/s^2\")\n"
   ]
  },
  {
   "cell_type": "markdown",
   "id": "a3b7d214-bd3a-4659-b265-1577fe15cca4",
   "metadata": {},
   "source": [
    "#### 9)The amount of funds available for a particular endowment fund (in thousands of dollars) after t years is given by:\n",
    "#### f(t)= e^0.41t+6  Find the rate of change in the endowment fund after 4 years."
   ]
  },
  {
   "cell_type": "code",
   "execution_count": 67,
   "id": "3c9b3b5e-0ebb-4eb7-8987-19575a18b1fe",
   "metadata": {},
   "outputs": [
    {
     "name": "stdout",
     "output_type": "stream",
     "text": [
      "Function f(t): exp(0.41*t + 6)\n",
      "Derivative f'(t): 0.41*exp(0.41*t + 6)\n",
      "Rate of change at t = 4 years: 852.69 thousand dollars/year\n"
     ]
    }
   ],
   "source": [
    "# Define the variable\n",
    "t = sp.symbols('t')\n",
    "\n",
    "# Define the function\n",
    "f = sp.exp(0.41 * t + 6)\n",
    "\n",
    "# Derivative of f(t)\n",
    "f_prime = sp.diff(f, t)\n",
    "\n",
    "# Evaluate derivative at t = 4\n",
    "rate_at_4 = f_prime.subs(t, 4).evalf()\n",
    "\n",
    "# Print results\n",
    "print(\"Function f(t):\", f)\n",
    "print(\"Derivative f'(t):\", f_prime)\n",
    "print(f\"Rate of change at t = 4 years: {rate_at_4:.2f} thousand dollars/year\")\n"
   ]
  },
  {
   "cell_type": "markdown",
   "id": "5a52fb85-f7c1-4435-83ee-1a5c09575d88",
   "metadata": {},
   "source": [
    "#### 10)Use the chain rule to find the derivative of f(x)=8(5x^5+4x^3)^-1/2  find derivative"
   ]
  },
  {
   "cell_type": "code",
   "execution_count": 70,
   "id": "b5d86b56-2f16-4d61-9c9a-b838a7ce6258",
   "metadata": {},
   "outputs": [
    {
     "name": "stdout",
     "output_type": "stream",
     "text": [
      "x**2*(-100.0*x**2 - 48.0)/(x**3*(5*x**2 + 4))**1.5\n"
     ]
    }
   ],
   "source": [
    "import sympy as sp\n",
    "\n",
    "# Define the symbol\n",
    "x = sp.symbols('x')\n",
    "\n",
    "# Define the function f(x) = 8*(5x^5 + 4x^3)^(-1/2)\n",
    "f = 8 * (5 * x**5 + 4 * x**3)**(-1/2)\n",
    "\n",
    "# Differentiate f(x)\n",
    "f_prime = sp.diff(f, x)\n",
    "\n",
    "# Simplify the result (optional)\n",
    "f_prime_simplified = sp.simplify(f_prime)\n",
    "\n",
    "# Display the derivative\n",
    "print(f_prime_simplified)\n"
   ]
  },
  {
   "cell_type": "markdown",
   "id": "2643e76c-3a6f-4896-a341-1713c9c9bcbe",
   "metadata": {},
   "source": [
    "#### 11)The labor costs to produce luxury yachts can be modeled by f(x)=(x^2+3x+5)^2 , where x represents the number of yachts produced.\n",
    "#### Find the marginal cost to produce 10 yachts $   , Find the marginal cost to produce 30 yachts"
   ]
  },
  {
   "cell_type": "code",
   "execution_count": 73,
   "id": "d9cf8b8c-c6df-4f91-a7ab-004344e3c4c3",
   "metadata": {},
   "outputs": [
    {
     "name": "stdout",
     "output_type": "stream",
     "text": [
      "Marginal cost at x = 10: 6210\n",
      "Marginal cost at x = 30: 125370\n"
     ]
    }
   ],
   "source": [
    "# Define the symbol\n",
    "x = sp.symbols('x')\n",
    "\n",
    "# Define the function f(x) = (x^2 + 3x + 5)^2\n",
    "f = (x**2 + 3*x + 5)**2\n",
    "\n",
    "# Differentiate f(x) to get the marginal cost function\n",
    "f_prime = sp.diff(f, x)\n",
    "\n",
    "# Evaluate the marginal cost at x = 10 and x = 30\n",
    "marginal_cost_at_10 = f_prime.subs(x, 10)\n",
    "marginal_cost_at_30 = f_prime.subs(x, 30)\n",
    "\n",
    "# Display the results\n",
    "print(f\"Marginal cost at x = 10: {marginal_cost_at_10}\")\n",
    "print(f\"Marginal cost at x = 30: {marginal_cost_at_30}\")\n"
   ]
  },
  {
   "cell_type": "markdown",
   "id": "6b2e2be5-780a-4f9f-9389-63fd877669c4",
   "metadata": {},
   "source": [
    "#### 12)If f(x)=g(h(x)), then f'(3)\n",
    "#### The chain rule states that if 𝑓(𝑥)=g(h(x)), then:𝑓′(𝑥)=𝑔′(ℎ(𝑥))⋅ℎ′(𝑥)  graph is given"
   ]
  },
  {
   "cell_type": "markdown",
   "id": "1a8bc388-513d-4afd-8cb3-3869264ef572",
   "metadata": {},
   "source": [
    "#### 13)Use the following table to answer the questions below.\n",
    "####  x     1\t2\t3\t4\n",
    "####  f(x)  1\t3\t2\t4\n",
    "####  f'(x) 3\t4\t2\t1\n",
    "####  g(x)  3\t4\t1\t2\n",
    "####  g'(x) 1\t3\t4\t2\n",
    "#### Find h'(2) if h(x) =f(x)g(x)"
   ]
  },
  {
   "cell_type": "code",
   "execution_count": 77,
   "id": "3d3a4beb-96a0-4a39-9572-b6136e1ae660",
   "metadata": {},
   "outputs": [
    {
     "name": "stdout",
     "output_type": "stream",
     "text": [
      "h'(2) for h(x) = f(x)g(x) is 25\n",
      "h'(2) for h(x) = f(g(x)) is  3\n"
     ]
    }
   ],
   "source": [
    "# Given values from the table\n",
    "f_prime_at_1 = 3\n",
    "f_prime_at_2 = 4\n",
    "f_prime_at_3 = 2\n",
    "f_prime_at_4 = 1\n",
    "f_at_2 = 3\n",
    "f_prime_at_2 = 4\n",
    "g_at_2 = 4\n",
    "g_prime_at_2 = 3\n",
    "\n",
    "\n",
    "# Applying the product rule: h'(2) = f'(2) * g(2) + f(2) * g'(2)\n",
    "h_prime_at_2_product_rule = f_prime_at_2 * g_at_2 + f_at_2 * g_prime_at_2\n",
    "\n",
    "# Display the result\n",
    "print(f\"h'(2) for h(x) = f(x)g(x) is {h_prime_at_2_product_rule}\")\n",
    "# Applying the chain rule: h'(2) = f'(g(2)) * g'(2)\n",
    "# f'(g(2)) = f'(4)\n",
    "f_prime_at_g_2 = f_prime_at_4  # f'(4) from the table\n",
    "h_prime_at_2 = f_prime_at_g_2 * g_prime_at_2\n",
    "\n",
    "# Display the result\n",
    "print(f\"h'(2) for h(x) = f(g(x)) is  {h_prime_at_2}\")\n"
   ]
  },
  {
   "cell_type": "markdown",
   "id": "eb154c81-53fb-4a72-af42-2d6cb3c8424c",
   "metadata": {},
   "source": [
    "#### 14)The number of per capita cumulative cases of COVID-19 in a particular country can be modeled by g(t)=ln(11t^7), where \n",
    "#### t represents the number of days after the first 100 days.a) Find  g'(t). b) Determine the rate of change in the number of cases after 174 days."
   ]
  },
  {
   "cell_type": "code",
   "execution_count": 87,
   "id": "4fae08eb-7b2e-4a31-bff0-29a856cb0387",
   "metadata": {},
   "outputs": [
    {
     "name": "stdout",
     "output_type": "stream",
     "text": [
      "g'(t) = 7/t\n",
      "Rate of change in the number of cases after 194 days: 0.0946\n"
     ]
    }
   ],
   "source": [
    "import sympy as sp\n",
    "\n",
    "# Define the variable t\n",
    "t = sp.symbols('t')\n",
    "\n",
    "# Define the function g(t) = ln(11 * t^7)\n",
    "g_t = sp.ln(11 * t**7)\n",
    "\n",
    "# Compute the derivative of g(t)\n",
    "g_prime_t = sp.diff(g_t, t)\n",
    "\n",
    "# Evaluate the derivative at t = 174-100=74\n",
    "# t represents the number of days after the first 100 days. So, for 174 days, the value of t is:t=174−100=74 days\n",
    "rate_of_change_at_194 = g_prime_t.subs(t, (174-100)) \n",
    "\n",
    "# Display the results\n",
    "print(f\"g'(t) = {g_prime_t}\")\n",
    "print(f\"Rate of change in the number of cases after 194 days: {rate_of_change_at_194:.4f}\")\n"
   ]
  },
  {
   "cell_type": "markdown",
   "id": "6052d471-83ff-4bde-a086-b57a93f29071",
   "metadata": {},
   "source": [
    "#### 15)The depth (in feet) of water at a dock changes with the rise and fall of tides. The depth is modeled by the function  \n",
    "#### D(t)=2cos(pie*t/4+3*pie/4)+3 where t is the number of hours after midnight. Find the rate at which the depth is changing at 2 a.m.  Round your answer  to 4 decimal places."
   ]
  },
  {
   "cell_type": "code",
   "execution_count": 85,
   "id": "2d3c5168-398b-48c9-86cb-b668460b02bc",
   "metadata": {},
   "outputs": [
    {
     "name": "stdout",
     "output_type": "stream",
     "text": [
      "D'(t) = -pi*cos(pi*t/4 + pi/4)/2\n",
      "Rate of change at 2 a.m. (t=2): 1.1107\n"
     ]
    }
   ],
   "source": [
    "import sympy as sp\n",
    "\n",
    "# Define the variable t\n",
    "t = sp.symbols('t')\n",
    "\n",
    "# Define the function D(t)\n",
    "D_t = 2 * sp.cos((sp.pi * t / 4) + (3 * sp.pi / 4)) + 3\n",
    "\n",
    "# Compute the derivative of D(t)\n",
    "D_prime_t = sp.diff(D_t, t)\n",
    "\n",
    "# Evaluate the derivative at t = 2\n",
    "rate_of_change_at_2_am = D_prime_t.subs(t, 2)\n",
    "\n",
    "# Display the results\n",
    "print(f\"D'(t) = {D_prime_t}\")\n",
    "print(f\"Rate of change at 2 a.m. (t=2): {rate_of_change_at_2_am:.4f}\")\n"
   ]
  },
  {
   "cell_type": "code",
   "execution_count": null,
   "id": "4ecfc787-096a-4b0b-a516-8a63d85e3087",
   "metadata": {},
   "outputs": [],
   "source": []
  },
  {
   "cell_type": "code",
   "execution_count": null,
   "id": "fd3d8d88-399a-4413-bf7e-56a1d7a7f5bf",
   "metadata": {},
   "outputs": [],
   "source": []
  }
 ],
 "metadata": {
  "kernelspec": {
   "display_name": "Python 3 (ipykernel)",
   "language": "python",
   "name": "python3"
  },
  "language_info": {
   "codemirror_mode": {
    "name": "ipython",
    "version": 3
   },
   "file_extension": ".py",
   "mimetype": "text/x-python",
   "name": "python",
   "nbconvert_exporter": "python",
   "pygments_lexer": "ipython3",
   "version": "3.12.9"
  }
 },
 "nbformat": 4,
 "nbformat_minor": 5
}
