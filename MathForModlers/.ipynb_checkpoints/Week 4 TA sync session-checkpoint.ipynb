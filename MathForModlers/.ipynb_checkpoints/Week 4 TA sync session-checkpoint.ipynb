{
 "cells": [
  {
   "cell_type": "markdown",
   "id": "0a3716bb-94d8-4f69-ae8e-729efd75ed5a",
   "metadata": {},
   "source": [
    "# Week 4 TA sync session"
   ]
  },
  {
   "cell_type": "markdown",
   "id": "f809f702",
   "metadata": {
    "heading_collapsed": true
   },
   "source": [
    "## 4.0 Agenda"
   ]
  },
  {
   "cell_type": "markdown",
   "id": "aacdc4d9",
   "metadata": {
    "hidden": true
   },
   "source": [
    "In this TA sync session, we will learn python implementation of the below topics:\n",
    "- Find limit of a function at a specified value (including at infinity)\n",
    "- Find continuity of a function at a given value or range\n",
    "- Finding average and instantaneous rate of change for a function\n",
    "- Finding derivatives of a function & applying  chain rule"
   ]
  },
  {
   "cell_type": "markdown",
   "id": "be728e8b",
   "metadata": {},
   "source": [
    "## 4.1 Limit of a function"
   ]
  },
  {
   "cell_type": "code",
   "execution_count": 1,
   "id": "2a79fe5d-40d5-463c-b30d-334e09fde499",
   "metadata": {
    "ExecuteTime": {
     "end_time": "2024-10-18T15:33:36.786613Z",
     "start_time": "2024-10-18T15:33:36.782469Z"
    }
   },
   "outputs": [],
   "source": [
    "# Let us define a function using lambda method\n",
    "f = lambda x: (x**3 - 2*x**2)/(x-2)"
   ]
  },
  {
   "cell_type": "code",
   "execution_count": 2,
   "id": "3d7c1342",
   "metadata": {
    "ExecuteTime": {
     "end_time": "2024-10-18T15:33:36.837386Z",
     "start_time": "2024-10-18T15:33:36.790175Z"
    }
   },
   "outputs": [
    {
     "name": "stdout",
     "output_type": "stream",
     "text": [
      "Type of object f: <class 'function'>\n"
     ]
    }
   ],
   "source": [
    "print('Type of object f:',type(f))"
   ]
  },
  {
   "cell_type": "code",
   "execution_count": 3,
   "id": "2ef36c25",
   "metadata": {
    "ExecuteTime": {
     "end_time": "2024-10-18T15:33:37.797572Z",
     "start_time": "2024-10-18T15:33:36.840187Z"
    }
   },
   "outputs": [
    {
     "name": "stdout",
     "output_type": "stream",
     "text": [
      "\n",
      "Values in array x1: [-4.  -3.6 -3.2 -2.8 -2.4 -2.  -1.6 -1.2 -0.8 -0.4  0.   0.4  0.8  1.2\n",
      "  1.6  2.4  2.8  3.2  3.6  4. ]\n",
      "\n",
      "Values in array f(x1): [16.   12.96 10.24  7.84  5.76  4.    2.56  1.44  0.64  0.16 -0.    0.16\n",
      "  0.64  1.44  2.56  5.76  7.84 10.24 12.96 16.  ] \n",
      "\n"
     ]
    },
    {
     "data": {
      "image/png": "[encoded data removed]",
      "text/plain": [
       "<Figure size 640x480 with 1 Axes>"
      ]
     },
     "metadata": {},
     "output_type": "display_data"
    }
   ],
   "source": [
    "#Let us also plot the chart\n",
    "\n",
    "#import essential libraries\n",
    "import numpy as np\n",
    "import matplotlib.pyplot as plt\n",
    "\n",
    "#Create a linear series for x values\n",
    "x1 = np.linspace(-4,4,21)\n",
    "\n",
    "#Remove the value 2 from the series\n",
    "x1 = np.delete(x1,15)\n",
    "\n",
    "#Let us look at all the values of array x1 & h(x1)\n",
    "print('\\nValues in array x1:',x1)\n",
    "print('\\nValues in array f(x1):',f(x1),'\\n')\n",
    "\n",
    "#plot the chart of the function except where x = 2\n",
    "plt.plot(x1, f(x1))\n",
    "plt.grid(which='major')\n",
    "plt.title('Function: y =(x**3 - 2*x**2)/(x-2)');\n",
    "plt.show()"
   ]
  },
  {
   "cell_type": "code",
   "execution_count": 4,
   "id": "d1aeda77",
   "metadata": {
    "ExecuteTime": {
     "end_time": "2024-10-18T15:33:37.807121Z",
     "start_time": "2024-10-18T15:33:37.802572Z"
    }
   },
   "outputs": [
    {
     "ename": "ZeroDivisionError",
     "evalue": "division by zero",
     "output_type": "error",
     "traceback": [
      "\u001b[31m---------------------------------------------------------------------------\u001b[39m",
      "\u001b[31mZeroDivisionError\u001b[39m                         Traceback (most recent call last)",
      "\u001b[36mCell\u001b[39m\u001b[36m \u001b[39m\u001b[32mIn[4]\u001b[39m\u001b[32m, line 1\u001b[39m\n\u001b[32m----> \u001b[39m\u001b[32m1\u001b[39m \u001b[43mf\u001b[49m\u001b[43m(\u001b[49m\u001b[32;43m2\u001b[39;49m\u001b[43m)\u001b[49m\n",
      "\u001b[36mCell\u001b[39m\u001b[36m \u001b[39m\u001b[32mIn[1]\u001b[39m\u001b[32m, line 2\u001b[39m, in \u001b[36m<lambda>\u001b[39m\u001b[34m(x)\u001b[39m\n\u001b[32m      1\u001b[39m \u001b[38;5;66;03m# Let us define a function using lambda method\u001b[39;00m\n\u001b[32m----> \u001b[39m\u001b[32m2\u001b[39m f = \u001b[38;5;28;01mlambda\u001b[39;00m x: \u001b[43m(\u001b[49m\u001b[43mx\u001b[49m\u001b[43m*\u001b[49m\u001b[43m*\u001b[49m\u001b[32;43m3\u001b[39;49m\u001b[43m \u001b[49m\u001b[43m-\u001b[49m\u001b[43m \u001b[49m\u001b[32;43m2\u001b[39;49m\u001b[43m*\u001b[49m\u001b[43mx\u001b[49m\u001b[43m*\u001b[49m\u001b[43m*\u001b[49m\u001b[32;43m2\u001b[39;49m\u001b[43m)\u001b[49m\u001b[43m/\u001b[49m\u001b[43m(\u001b[49m\u001b[43mx\u001b[49m\u001b[43m-\u001b[49m\u001b[32;43m2\u001b[39;49m\u001b[43m)\u001b[49m\n",
      "\u001b[31mZeroDivisionError\u001b[39m: division by zero"
     ]
    }
   ],
   "source": [
    "f(2)"
   ]
  },
  {
   "cell_type": "code",
   "execution_count": 8,
   "id": "288ee478-e4be-4061-91f6-bbb9fe1173d7",
   "metadata": {
    "ExecuteTime": {
     "end_time": "2024-10-18T15:33:37.819189Z",
     "start_time": "2024-10-18T15:33:37.810846Z"
    }
   },
   "outputs": [
    {
     "name": "stdout",
     "output_type": "stream",
     "text": [
      "Exception!!!!!\n"
     ]
    }
   ],
   "source": [
    "#Try & find the function value when x = 2\n",
    "try:\n",
    "    print(f(2))\n",
    "except:\n",
    "    print('Exception!!!!!')"
   ]
  },
  {
   "cell_type": "code",
   "execution_count": 9,
   "id": "25103060-372d-4be4-be83-803a46a274a8",
   "metadata": {
    "ExecuteTime": {
     "end_time": "2024-10-18T15:33:38.429940Z",
     "start_time": "2024-10-18T15:33:37.824414Z"
    }
   },
   "outputs": [
    {
     "name": "stdout",
     "output_type": "stream",
     "text": [
      "Original function:\n"
     ]
    },
    {
     "data": {
      "text/latex": [
       "$\\displaystyle \\frac{x^{3} - 2 x^{2}}{x - 2}$"
      ],
      "text/plain": [
       "(x**3 - 2*x**2)/(x - 2)"
      ]
     },
     "metadata": {},
     "output_type": "display_data"
    },
    {
     "name": "stdout",
     "output_type": "stream",
     "text": [
      "\n",
      "Limit of the function f1 as x tends to 2 : 4\n"
     ]
    }
   ],
   "source": [
    "#Let us use sympy limit function to find the value\n",
    "\n",
    "# import sympy \n",
    "import sympy as sp\n",
    "\n",
    "#Ref: https://docs.sympy.org/latest/index.html\n",
    "#Ref: https://docs.sympy.org/latest/tutorials/intro-tutorial/manipulation.html\n",
    "\n",
    "x = sp.symbols('x')\n",
    "\n",
    "f1 = (x**3 - 2*x**2)/(x-2)\n",
    "\n",
    "print('Original function:')\n",
    "display(f1)\n",
    "limit_f1 = sp.limit(f1, x, 2)\n",
    "     \n",
    "# Use sympy.limit() method \n",
    "print(\"\\nLimit of the function f1 as x tends to 2 : {}\".format(limit_f1))"
   ]
  },
  {
   "cell_type": "code",
   "execution_count": 12,
   "id": "903a7790-7f30-4639-8f98-c0a402084edb",
   "metadata": {
    "ExecuteTime": {
     "end_time": "2024-10-18T15:33:38.451764Z",
     "start_time": "2024-10-18T15:33:38.432844Z"
    }
   },
   "outputs": [
    {
     "name": "stdout",
     "output_type": "stream",
     "text": [
      "Value of function f at 2.000001: 4.000004000355601\n",
      "Limit of the given function as x tends to 2 : 4.0\n"
     ]
    }
   ],
   "source": [
    "#Let us take one more example here\n",
    "\n",
    "#import mpmath library package\n",
    "import mpmath as mp\n",
    "\n",
    "#Ref: https://mpmath.org/doc/current/index.html\n",
    "\n",
    "# Let us define a function using lambda method\n",
    "f = lambda x: (x**3 - 2*x**2)/(x-2)\n",
    "\n",
    "x = 2.000001\n",
    "y = f(x)\n",
    "print('Value of function f at {}: {}'.format(x,y))\n",
    "\n",
    "#Find limit of the original 'f' function defined first\n",
    "l = mp.limit(f, 2)\n",
    "\n",
    "# Use sympy.limit() method  \n",
    "print(\"Limit of the given function as x tends to 2 : {}\".format(l))"
   ]
  },
  {
   "cell_type": "markdown",
   "id": "ba5afc5b-cece-4157-9eff-4766b498e24b",
   "metadata": {
    "heading_collapsed": true
   },
   "source": [
    "## 4.2 Limits at infinity"
   ]
  },
  {
   "cell_type": "code",
   "execution_count": 13,
   "id": "244e780e-b2fd-4525-a353-f7b58afca596",
   "metadata": {
    "ExecuteTime": {
     "end_time": "2024-10-18T15:33:38.468675Z",
     "start_time": "2024-10-18T15:33:38.455846Z"
    },
    "hidden": true
   },
   "outputs": [
    {
     "name": "stdout",
     "output_type": "stream",
     "text": [
      "Limit of the function f(x) = 1/x as x tends to infinity : 0\n"
     ]
    }
   ],
   "source": [
    "x = sp.symbols('x')\n",
    "f3 = 1/x\n",
    "# Use sympy.limit() method  \n",
    "print(\"Limit of the function f(x) = {} as x tends to infinity : {}\".format(f3,sp.limit(f3, x, sp.oo)))  "
   ]
  },
  {
   "cell_type": "code",
   "execution_count": 19,
   "id": "9d6ba3ad-3edf-4790-ba46-73446da5bd9c",
   "metadata": {
    "ExecuteTime": {
     "end_time": "2024-10-18T15:33:38.495788Z",
     "start_time": "2024-10-18T15:33:38.474480Z"
    },
    "hidden": true
   },
   "outputs": [
    {
     "name": "stdout",
     "output_type": "stream",
     "text": [
      "Limit of the function f(x) = 1/x as x tends to infinity : 8.5563925773619e-33\n"
     ]
    }
   ],
   "source": [
    "import numpy as np\n",
    "f4 = lambda x: 1/x\n",
    "l = mp.limit(f4, mp.inf)\n",
    "print(\"Limit of the function f(x) = {} as x tends to infinity : {}\".format(f3,l))  "
   ]
  },
  {
   "cell_type": "markdown",
   "id": "c11df80e-a7d9-4563-8081-f11e6961abd6",
   "metadata": {
    "heading_collapsed": true
   },
   "source": [
    "## 4.3 Find continuity at single value"
   ]
  },
  {
   "cell_type": "markdown",
   "id": "c22b274b",
   "metadata": {
    "hidden": true
   },
   "source": [
    "f(x) is continuous at value a if:\n",
    "- f(a) is defined,\n",
    "- lim x->a f(x) exists and\n",
    "- lim x->a f(x) = f(a)\n",
    "\n",
    "Let us check continuity of function f (same as f1) at x=1"
   ]
  },
  {
   "cell_type": "code",
   "execution_count": 20,
   "id": "62640200-6ea4-4da5-a3ba-1129fc59ef1f",
   "metadata": {
    "ExecuteTime": {
     "end_time": "2024-10-18T15:33:38.505760Z",
     "start_time": "2024-10-18T15:33:38.495788Z"
    },
    "code_folding": [],
    "hidden": true
   },
   "outputs": [],
   "source": [
    "#Let us define a function to find if a function f is continuous at a point a\n",
    "def is_continuous(f,a):\n",
    "    '''\n",
    "    Function to find if a function f is continuous at a point a, returns True or False.\n",
    "    '''\n",
    "    try:\n",
    "        c = (f(a) == mp.limit(f,a))\n",
    "    except:\n",
    "        c = False\n",
    "    return c"
   ]
  },
  {
   "cell_type": "code",
   "execution_count": 25,
   "id": "492a2553-7cc6-48be-83ca-074497cc49d7",
   "metadata": {
    "ExecuteTime": {
     "end_time": "2024-10-18T15:33:38.531093Z",
     "start_time": "2024-10-18T15:33:38.510636Z"
    },
    "hidden": true
   },
   "outputs": [
    {
     "data": {
      "text/plain": [
       "True"
      ]
     },
     "execution_count": 25,
     "metadata": {},
     "output_type": "execute_result"
    }
   ],
   "source": [
    "f9 = lambda x:(x+1)\n",
    "is_continuous(f9, 8)"
   ]
  },
  {
   "cell_type": "code",
   "execution_count": 26,
   "id": "fd8d0435-64ff-43e6-a4be-3eea96569cc2",
   "metadata": {
    "ExecuteTime": {
     "end_time": "2024-10-18T15:33:38.541968Z",
     "start_time": "2024-10-18T15:33:38.531093Z"
    },
    "hidden": true
   },
   "outputs": [
    {
     "data": {
      "text/plain": [
       "False"
      ]
     },
     "execution_count": 26,
     "metadata": {},
     "output_type": "execute_result"
    }
   ],
   "source": [
    "f = lambda x: (x**3 - 2*x**2)/(x-2)\n",
    "is_continuous(f, 2)"
   ]
  },
  {
   "cell_type": "markdown",
   "id": "2df9c76e-a823-43dc-ba58-c2643bce8b43",
   "metadata": {
    "heading_collapsed": true
   },
   "source": [
    "## 4.4 Find continuity over a range"
   ]
  },
  {
   "cell_type": "markdown",
   "id": "8e47ceee",
   "metadata": {
    "hidden": true
   },
   "source": [
    "A function is continuous on a closed interval [𝑎,𝑏] if\n",
    "\n",
    "- it is continuous on the open interval (𝑎,𝑏),\n",
    "- it is continuous from the right at 𝑥=𝑎, and\n",
    "- it is continuous from the left at 𝑥=𝑏\n"
   ]
  },
  {
   "cell_type": "code",
   "execution_count": 27,
   "id": "db707325-f55d-4f7e-8e99-f102dabb1251",
   "metadata": {
    "ExecuteTime": {
     "end_time": "2024-10-18T15:33:38.568909Z",
     "start_time": "2024-10-18T15:33:38.543462Z"
    },
    "hidden": true
   },
   "outputs": [
    {
     "name": "stdout",
     "output_type": "stream",
     "text": [
      "Value of limit of a function (x**3 - 2*x**2)/(x - 2) at x-value: 5 from left:25\n",
      "Value of limit of a function (x**3 - 2*x**2)/(x - 2) at x-value: 5 from right:25\n"
     ]
    }
   ],
   "source": [
    "#Revisiting sympy limit function\n",
    "\n",
    "x = sp.symbols('x')\n",
    "f1 = (x**3 - 2*x**2)/(x-2)\n",
    "\n",
    "a = 5\n",
    "\n",
    "#Using sympy limit function from the left\n",
    "ll = sp.limit(f1,x,a,'-')\n",
    "print('Value of limit of a function {} at x-value: {} from left:{}'.format(f1,a,ll))\n",
    "\n",
    "#Using sympy limit function from the right\n",
    "lr = sp.limit(f1,x,a,'+')\n",
    "print('Value of limit of a function {} at x-value: {} from right:{}'.format(f1,a,lr))"
   ]
  },
  {
   "cell_type": "markdown",
   "id": "087e42d5",
   "metadata": {
    "hidden": true
   },
   "source": [
    "Exercise:\n",
    "\n",
    "- Create a python function to assess of a function is continuous in the given range"
   ]
  },
  {
   "cell_type": "markdown",
   "id": "3c968f21-4eee-44d6-9f37-ec8c5882398e",
   "metadata": {
    "heading_collapsed": true
   },
   "source": [
    "## 4.5 Average rate of change"
   ]
  },
  {
   "cell_type": "code",
   "execution_count": 29,
   "id": "ece5af1c-4209-4f44-af46-59d8501a3139",
   "metadata": {
    "ExecuteTime": {
     "end_time": "2024-10-18T15:33:38.582102Z",
     "start_time": "2024-10-18T15:33:38.568909Z"
    },
    "hidden": true
   },
   "outputs": [
    {
     "data": {
      "text/plain": [
       "0.0"
      ]
     },
     "execution_count": 29,
     "metadata": {},
     "output_type": "execute_result"
    }
   ],
   "source": [
    "#Define a function to find the average rate of change for any function over any range\n",
    "ARC = lambda f,a,b: (f(b) - f(a))/(b-a)\n",
    "\n",
    "#Now let us define its arguments: the function and the range\n",
    "f = lambda x: 4*x**2 + 1\n",
    "a = -4\n",
    "b = 4\n",
    "\n",
    "ARC(f,a,b)"
   ]
  },
  {
   "cell_type": "markdown",
   "id": "88b6b3cc-14a4-4f5a-a44a-f2a4fe7fadef",
   "metadata": {
    "heading_collapsed": true
   },
   "source": [
    "## 4.6 Instantaneous rate of change"
   ]
  },
  {
   "cell_type": "code",
   "execution_count": 30,
   "id": "767f71a4-311e-4884-a394-587fa9b17da5",
   "metadata": {
    "ExecuteTime": {
     "end_time": "2024-10-18T15:33:38.595483Z",
     "start_time": "2024-10-18T15:33:38.582102Z"
    },
    "hidden": true
   },
   "outputs": [
    {
     "data": {
      "text/plain": [
       "20.0"
      ]
     },
     "execution_count": 30,
     "metadata": {},
     "output_type": "execute_result"
    }
   ],
   "source": [
    "#Instantaneous rate of change is found at a given point\n",
    "\n",
    "# Firstly, we will use the earlier function and tweak it for finding IRC \n",
    "ARC = lambda f,a,b: (f(b) - f(a))/(b-a)\n",
    "\n",
    "#Now let us define its arguments: the function and the range\n",
    "f = lambda x: 5*x**2 + 1\n",
    "a = 2\n",
    "b = a + 1e-9\n",
    "\n",
    "\n",
    "ARC(f,a,b)"
   ]
  },
  {
   "cell_type": "code",
   "execution_count": 31,
   "id": "0e6bb2bc-83ae-4dc5-8056-8ccc22b2c8b7",
   "metadata": {
    "ExecuteTime": {
     "end_time": "2024-10-18T15:33:38.605177Z",
     "start_time": "2024-10-18T15:33:38.595483Z"
    },
    "hidden": true
   },
   "outputs": [
    {
     "data": {
      "text/plain": [
       "20.0"
      ]
     },
     "execution_count": 31,
     "metadata": {},
     "output_type": "execute_result"
    }
   ],
   "source": [
    "#Now, let us define the instantaneous rate of change function\n",
    "IRC = lambda f, a, h=1e-9: ARC(f,a,a+h)\n",
    "\n",
    "#Now let us define its arguments: the function and the point\n",
    "f = lambda x: 5*x**2 + 1\n",
    "a = 2\n",
    "\n",
    "\n",
    "IRC(f,a)"
   ]
  },
  {
   "cell_type": "markdown",
   "id": "cc6698dd-8b0c-4cc5-8ac6-f3294fac623d",
   "metadata": {
    "heading_collapsed": true
   },
   "source": [
    "## 4.7 Derivatives"
   ]
  },
  {
   "cell_type": "markdown",
   "id": "c124dacf",
   "metadata": {
    "ExecuteTime": {
     "end_time": "2024-10-13T13:22:06.803248Z",
     "start_time": "2024-10-13T13:22:06.734287Z"
    },
    "hidden": true
   },
   "source": [
    "The derivative of a function 𝑓 at a point exists when 𝑓 satisfies all of the following conditions:\n",
    "\n",
    "- 𝑓 is continuous,\n",
    "- 𝑓 is smooth, and \n",
    "- 𝑓 does not have a vertical tangent line"
   ]
  },
  {
   "cell_type": "code",
   "execution_count": 32,
   "id": "ecd6925a-26be-46b4-abda-54a870c38b19",
   "metadata": {
    "ExecuteTime": {
     "end_time": "2024-10-18T15:33:38.638054Z",
     "start_time": "2024-10-18T15:33:38.608756Z"
    },
    "hidden": true
   },
   "outputs": [
    {
     "data": {
      "text/plain": [
       "'Original Function:'"
      ]
     },
     "metadata": {},
     "output_type": "display_data"
    },
    {
     "data": {
      "text/latex": [
       "$\\displaystyle 2 x^{3} + 5 x^{2} - 3 x + 2$"
      ],
      "text/plain": [
       "2*x**3 + 5*x**2 - 3*x + 2"
      ]
     },
     "metadata": {},
     "output_type": "display_data"
    },
    {
     "data": {
      "text/plain": [
       "'Its derivative:'"
      ]
     },
     "metadata": {},
     "output_type": "display_data"
    },
    {
     "data": {
      "text/latex": [
       "$\\displaystyle 6 x^{2} + 10 x - 3$"
      ],
      "text/plain": [
       "6*x**2 + 10*x - 3"
      ]
     },
     "metadata": {},
     "output_type": "display_data"
    }
   ],
   "source": [
    "#Use sympy diff method to find the derivative of any expression\n",
    "\n",
    "x = sp.symbols('x')            # Define the variable\n",
    "f = 2*x**3 + 5*x**2 - 3*x + 2  # Define the expression\n",
    "\n",
    "d = sp.diff(f,x)\n",
    "display(\"Original Function:\",f,'Its derivative:',d)"
   ]
  },
  {
   "cell_type": "code",
   "execution_count": 33,
   "id": "7b260cf7-31cb-4de2-a013-ccc1bcf4cff0",
   "metadata": {
    "ExecuteTime": {
     "end_time": "2024-10-18T15:33:38.659833Z",
     "start_time": "2024-10-18T15:33:38.641164Z"
    },
    "hidden": true
   },
   "outputs": [
    {
     "data": {
      "text/plain": [
       "'Original Function:'"
      ]
     },
     "metadata": {},
     "output_type": "display_data"
    },
    {
     "data": {
      "text/latex": [
       "$\\displaystyle 5 x + 1$"
      ],
      "text/plain": [
       "5*x + 1"
      ]
     },
     "metadata": {},
     "output_type": "display_data"
    },
    {
     "data": {
      "text/plain": [
       "'Its derivative:'"
      ]
     },
     "metadata": {},
     "output_type": "display_data"
    },
    {
     "data": {
      "text/latex": [
       "$\\displaystyle 5$"
      ],
      "text/plain": [
       "5"
      ]
     },
     "metadata": {},
     "output_type": "display_data"
    }
   ],
   "source": [
    "x = sp.symbols('x')  # Define the variable\n",
    "f = 5*x + 1          # Define the function\n",
    "d = sp.diff(f,x)\n",
    "display(\"Original Function:\",f,'Its derivative:',d)"
   ]
  },
  {
   "cell_type": "code",
   "execution_count": 34,
   "id": "e43c1ab1-ed3b-445c-9724-8b338418391e",
   "metadata": {
    "ExecuteTime": {
     "end_time": "2024-10-18T15:33:38.670861Z",
     "start_time": "2024-10-18T15:33:38.661270Z"
    },
    "hidden": true
   },
   "outputs": [
    {
     "name": "stdout",
     "output_type": "stream",
     "text": [
      "derivative of this function at a=4 is: 133.0\n"
     ]
    }
   ],
   "source": [
    "#Use mpmath diff method to find the derivative of any function\n",
    "\n",
    "f = lambda x:  2*x**3 + 5*x**2 - 3*x + 2\n",
    "a = 4\n",
    "\n",
    "print('derivative of this function at a=4 is:',mp.diff(f,a))"
   ]
  },
  {
   "cell_type": "markdown",
   "id": "4c55c0da",
   "metadata": {
    "heading_collapsed": true
   },
   "source": [
    "## 4.8 Derivatives of products & quotients"
   ]
  },
  {
   "cell_type": "code",
   "execution_count": 35,
   "id": "7609861c",
   "metadata": {
    "ExecuteTime": {
     "end_time": "2024-10-18T15:33:38.701618Z",
     "start_time": "2024-10-18T15:33:38.674419Z"
    },
    "hidden": true
   },
   "outputs": [
    {
     "data": {
      "text/plain": [
       "'Original Function:'"
      ]
     },
     "metadata": {},
     "output_type": "display_data"
    },
    {
     "data": {
      "text/latex": [
       "$\\displaystyle x^{2} \\sin{\\left(x \\right)}$"
      ],
      "text/plain": [
       "x**2*sin(x)"
      ]
     },
     "metadata": {},
     "output_type": "display_data"
    },
    {
     "data": {
      "text/plain": [
       "'Its derivative:'"
      ]
     },
     "metadata": {},
     "output_type": "display_data"
    },
    {
     "data": {
      "text/latex": [
       "$\\displaystyle x^{2} \\cos{\\left(x \\right)} + 2 x \\sin{\\left(x \\right)}$"
      ],
      "text/plain": [
       "x**2*cos(x) + 2*x*sin(x)"
      ]
     },
     "metadata": {},
     "output_type": "display_data"
    }
   ],
   "source": [
    "#Let us look at the derivative of a product of two functions\n",
    "\n",
    "x = sp.symbols('x')            # Define the variable\n",
    "f = x**2*sp.sin(x)             # Define the expression\n",
    "d = sp.diff(f,x)\n",
    "display(\"Original Function:\",f,'Its derivative:',d)"
   ]
  },
  {
   "cell_type": "code",
   "execution_count": 36,
   "id": "836f92ec",
   "metadata": {
    "ExecuteTime": {
     "end_time": "2024-10-18T15:33:38.741668Z",
     "start_time": "2024-10-18T15:33:38.707777Z"
    },
    "hidden": true
   },
   "outputs": [
    {
     "data": {
      "text/plain": [
       "'Original Function u:'"
      ]
     },
     "metadata": {},
     "output_type": "display_data"
    },
    {
     "data": {
      "text/latex": [
       "$\\displaystyle x^{2}$"
      ],
      "text/plain": [
       "x**2"
      ]
     },
     "metadata": {},
     "output_type": "display_data"
    },
    {
     "data": {
      "text/plain": [
       "'Its derivative du:'"
      ]
     },
     "metadata": {},
     "output_type": "display_data"
    },
    {
     "data": {
      "text/latex": [
       "$\\displaystyle 2 x$"
      ],
      "text/plain": [
       "2*x"
      ]
     },
     "metadata": {},
     "output_type": "display_data"
    },
    {
     "data": {
      "text/plain": [
       "'Original Function v:'"
      ]
     },
     "metadata": {},
     "output_type": "display_data"
    },
    {
     "data": {
      "text/latex": [
       "$\\displaystyle \\sin{\\left(x \\right)}$"
      ],
      "text/plain": [
       "sin(x)"
      ]
     },
     "metadata": {},
     "output_type": "display_data"
    },
    {
     "data": {
      "text/plain": [
       "'Its derivative dv:'"
      ]
     },
     "metadata": {},
     "output_type": "display_data"
    },
    {
     "data": {
      "text/latex": [
       "$\\displaystyle \\cos{\\left(x \\right)}$"
      ],
      "text/plain": [
       "cos(x)"
      ]
     },
     "metadata": {},
     "output_type": "display_data"
    },
    {
     "data": {
      "text/plain": [
       "'Finding u.dv + v.du:'"
      ]
     },
     "metadata": {},
     "output_type": "display_data"
    },
    {
     "data": {
      "text/latex": [
       "$\\displaystyle x^{2} \\cos{\\left(x \\right)} + 2 x \\sin{\\left(x \\right)}$"
      ],
      "text/plain": [
       "x**2*cos(x) + 2*x*sin(x)"
      ]
     },
     "metadata": {},
     "output_type": "display_data"
    }
   ],
   "source": [
    "#Proving the derivative of a product f = u.v, df = u.dv + v.du\n",
    "\n",
    "f1 = x**2\n",
    "df1 = sp.diff(f1,x)\n",
    "display(\"Original Function u:\",f1,'Its derivative du:',df1)\n",
    "\n",
    "f2 = sp.sin(x)\n",
    "df2 = sp.diff(f2,x)\n",
    "display(\"Original Function v:\",f2,'Its derivative dv:',df2)\n",
    "\n",
    "f3 = f1*df2 + f2*df1\n",
    "display(\"Finding u.dv + v.du:\", f3)"
   ]
  },
  {
   "cell_type": "code",
   "execution_count": 37,
   "id": "5ab33b6e",
   "metadata": {
    "ExecuteTime": {
     "end_time": "2024-10-18T15:33:39.029963Z",
     "start_time": "2024-10-18T15:33:38.744666Z"
    },
    "hidden": true
   },
   "outputs": [
    {
     "data": {
      "text/plain": [
       "'Original Function:'"
      ]
     },
     "metadata": {},
     "output_type": "display_data"
    },
    {
     "data": {
      "text/latex": [
       "$\\displaystyle \\frac{\\sin{\\left(x \\right)}}{x^{2}}$"
      ],
      "text/plain": [
       "sin(x)/x**2"
      ]
     },
     "metadata": {},
     "output_type": "display_data"
    },
    {
     "data": {
      "text/plain": [
       "'Its derivative:'"
      ]
     },
     "metadata": {},
     "output_type": "display_data"
    },
    {
     "data": {
      "text/latex": [
       "$\\displaystyle \\frac{x \\cos{\\left(x \\right)} - 2 \\sin{\\left(x \\right)}}{x^{3}}$"
      ],
      "text/plain": [
       "(x*cos(x) - 2*sin(x))/x**3"
      ]
     },
     "metadata": {},
     "output_type": "display_data"
    }
   ],
   "source": [
    "#Now, let us look at the derivative of a division of two functions\n",
    "\n",
    "x = sp.symbols('x')            # Define the variable\n",
    "f = sp.sin(x)/(x**2)  # Define the expression\n",
    "d = sp.simplify(sp.diff(f,x))\n",
    "display(\"Original Function:\",f,'Its derivative:',d)"
   ]
  },
  {
   "cell_type": "code",
   "execution_count": 38,
   "id": "49927200",
   "metadata": {
    "ExecuteTime": {
     "end_time": "2024-10-18T15:33:39.128417Z",
     "start_time": "2024-10-18T15:33:39.029963Z"
    },
    "hidden": true
   },
   "outputs": [
    {
     "data": {
      "text/plain": [
       "'Original Function u:'"
      ]
     },
     "metadata": {},
     "output_type": "display_data"
    },
    {
     "data": {
      "text/latex": [
       "$\\displaystyle x^{2}$"
      ],
      "text/plain": [
       "x**2"
      ]
     },
     "metadata": {},
     "output_type": "display_data"
    },
    {
     "data": {
      "text/plain": [
       "'Its derivative du:'"
      ]
     },
     "metadata": {},
     "output_type": "display_data"
    },
    {
     "data": {
      "text/latex": [
       "$\\displaystyle 2 x$"
      ],
      "text/plain": [
       "2*x"
      ]
     },
     "metadata": {},
     "output_type": "display_data"
    },
    {
     "data": {
      "text/plain": [
       "'Original Function v:'"
      ]
     },
     "metadata": {},
     "output_type": "display_data"
    },
    {
     "data": {
      "text/latex": [
       "$\\displaystyle \\sin{\\left(x \\right)}$"
      ],
      "text/plain": [
       "sin(x)"
      ]
     },
     "metadata": {},
     "output_type": "display_data"
    },
    {
     "data": {
      "text/plain": [
       "'Its derivative dv:'"
      ]
     },
     "metadata": {},
     "output_type": "display_data"
    },
    {
     "data": {
      "text/latex": [
       "$\\displaystyle \\cos{\\left(x \\right)}$"
      ],
      "text/plain": [
       "cos(x)"
      ]
     },
     "metadata": {},
     "output_type": "display_data"
    },
    {
     "data": {
      "text/plain": [
       "'Finding u.dv + v.du:'"
      ]
     },
     "metadata": {},
     "output_type": "display_data"
    },
    {
     "data": {
      "text/latex": [
       "$\\displaystyle \\frac{x \\cos{\\left(x \\right)} - 2 \\sin{\\left(x \\right)}}{x^{3}}$"
      ],
      "text/plain": [
       "(x*cos(x) - 2*sin(x))/x**3"
      ]
     },
     "metadata": {},
     "output_type": "display_data"
    }
   ],
   "source": [
    "#Proving the derivative of a product f = u/v, df = (u.dv - v.du)/v**2\n",
    "\n",
    "f1 = x**2\n",
    "df1 = sp.diff(f1,x)\n",
    "display(\"Original Function u:\",f1,'Its derivative du:',df1)\n",
    "\n",
    "f2 = sp.sin(x)\n",
    "df2 = sp.diff(f2,x)\n",
    "display(\"Original Function v:\",f2,'Its derivative dv:',df2)\n",
    "\n",
    "f3 = sp.simplify((f1*df2 - f2*df1)/(f1)**2)\n",
    "display(\"Finding u.dv + v.du:\", f3)"
   ]
  },
  {
   "cell_type": "markdown",
   "id": "de50fc96-f17c-4286-a74e-d505b0c09b59",
   "metadata": {},
   "source": [
    "## 4.9 Chain rule"
   ]
  },
  {
   "cell_type": "markdown",
   "id": "ad44eb0f",
   "metadata": {},
   "source": [
    "Chain rule is described simply as:\n",
    "\n",
    "dz/dx = dz/dy * dy/dx"
   ]
  },
  {
   "cell_type": "code",
   "execution_count": null,
   "id": "9a368b52-7a5d-4377-96c3-697d81aa8082",
   "metadata": {
    "ExecuteTime": {
     "end_time": "2024-10-18T15:33:39.153057Z",
     "start_time": "2024-10-18T15:33:39.128417Z"
    }
   },
   "outputs": [],
   "source": [
    "x,y = sp.symbols('x,y')       # Define the symbols\n",
    "y = sp.sin(x**2)          # Define the expression\n",
    "d = sp.diff(y,x)\n",
    "display(\"Original function\",y,\"Derivative:\",d)"
   ]
  },
  {
   "cell_type": "code",
   "execution_count": 39,
   "id": "cb5324fc-3687-4299-9bf7-eb9947ad8208",
   "metadata": {
    "ExecuteTime": {
     "end_time": "2024-10-18T15:33:39.206547Z",
     "start_time": "2024-10-18T15:33:39.155738Z"
    }
   },
   "outputs": [
    {
     "data": {
      "text/plain": [
       "'Intermediate function z:'"
      ]
     },
     "metadata": {},
     "output_type": "display_data"
    },
    {
     "data": {
      "text/latex": [
       "$\\displaystyle x^{2}$"
      ],
      "text/plain": [
       "x**2"
      ]
     },
     "metadata": {},
     "output_type": "display_data"
    },
    {
     "data": {
      "text/plain": [
       "\"It's derivative:\""
      ]
     },
     "metadata": {},
     "output_type": "display_data"
    },
    {
     "data": {
      "text/latex": [
       "$\\displaystyle 2 x$"
      ],
      "text/plain": [
       "2*x"
      ]
     },
     "metadata": {},
     "output_type": "display_data"
    },
    {
     "data": {
      "text/plain": [
       "'Original function y(in terms of z2):'"
      ]
     },
     "metadata": {},
     "output_type": "display_data"
    },
    {
     "data": {
      "text/latex": [
       "$\\displaystyle \\sin{\\left(z_{2} \\right)}$"
      ],
      "text/plain": [
       "sin(z2)"
      ]
     },
     "metadata": {},
     "output_type": "display_data"
    },
    {
     "data": {
      "text/plain": [
       "\"It's derivative:\""
      ]
     },
     "metadata": {},
     "output_type": "display_data"
    },
    {
     "data": {
      "text/latex": [
       "$\\displaystyle \\cos{\\left(z_{2} \\right)}$"
      ],
      "text/plain": [
       "cos(z2)"
      ]
     },
     "metadata": {},
     "output_type": "display_data"
    },
    {
     "data": {
      "text/plain": [
       "'Applying the chain rule, the derivative of y wrt x,z2:'"
      ]
     },
     "metadata": {},
     "output_type": "display_data"
    },
    {
     "data": {
      "text/latex": [
       "$\\displaystyle 2 x \\cos{\\left(z_{2} \\right)}$"
      ],
      "text/plain": [
       "2*x*cos(z2)"
      ]
     },
     "metadata": {},
     "output_type": "display_data"
    },
    {
     "data": {
      "text/plain": [
       "'Substituting z, the derivative of y wrt x:'"
      ]
     },
     "metadata": {},
     "output_type": "display_data"
    },
    {
     "data": {
      "text/latex": [
       "$\\displaystyle 2 x \\cos{\\left(x^{2} \\right)}$"
      ],
      "text/plain": [
       "2*x*cos(x**2)"
      ]
     },
     "metadata": {},
     "output_type": "display_data"
    }
   ],
   "source": [
    "x,y,z,y1,y2,z1,z2 = sp.symbols('x,y,z,y1,y2,z1,z2') \n",
    "#y = sp.sin(x**2)              # Define the expression\n",
    "\n",
    "#Now let us define an intermediate variable z = x**2 \n",
    "z = x**2\n",
    "z1 = sp.diff(z,x) #dz/dx\n",
    "display(\"Intermediate function z:\",z,\"It's derivative:\",z1)\n",
    "\n",
    "\n",
    "#Now let us change expression of z and its derivative\n",
    "y = sp.sin(z2)\n",
    "y1 = sp.diff(y,z2) #dy/dz\n",
    "display(\"Original function y(in terms of z2):\",y,\"It's derivative:\",y1)\n",
    "\n",
    "\n",
    "#Applying the chain rule\n",
    "y2 = z1*(y1)\n",
    "display(\"Applying the chain rule, the derivative of y wrt x,z2:\",y2)\n",
    "\n",
    "\n",
    "#Substituting z\n",
    "display(\"Substituting z, the derivative of y wrt x:\",y2.subs(z2,z)) "
   ]
  },
  {
   "cell_type": "markdown",
   "id": "96faa05b",
   "metadata": {},
   "source": [
    "## Summary and conclusion"
   ]
  },
  {
   "cell_type": "markdown",
   "id": "61aef771",
   "metadata": {},
   "source": [
    "Today, we covered the python implementation for below topics:\n",
    "- Find limit of a function at a specified value (including at infinity)\n",
    "- Find continuity of a function at a given value or range\n",
    "- Finding average and instantaneous rate of change for a function\n",
    "- Finding derivatives of a function & applying  chain rule"
   ]
  }
 ],
 "metadata": {
  "kernelspec": {
   "display_name": "Python 3 (ipykernel)",
   "language": "python",
   "name": "python3"
  },
  "language_info": {
   "codemirror_mode": {
    "name": "ipython",
    "version": 3
   },
   "file_extension": ".py",
   "mimetype": "text/x-python",
   "name": "python",
   "nbconvert_exporter": "python",
   "pygments_lexer": "ipython3",
   "version": "3.12.9"
  },
  "varInspector": {
   "cols": {
    "lenName": 16,
    "lenType": 16,
    "lenVar": 40
   },
   "kernels_config": {
    "python": {
     "delete_cmd_postfix": "",
     "delete_cmd_prefix": "del ",
     "library": "var_list.py",
     "varRefreshCmd": "print(var_dic_list())"
    },
    "r": {
     "delete_cmd_postfix": ") ",
     "delete_cmd_prefix": "rm(",
     "library": "var_list.r",
     "varRefreshCmd": "cat(var_dic_list()) "
    }
   },
   "types_to_exclude": [
    "module",
    "function",
    "builtin_function_or_method",
    "instance",
    "_Feature"
   ],
   "window_display": false
  }
 },
 "nbformat": 4,
 "nbformat_minor": 5
}
