{
 "cells": [
  {
   "cell_type": "markdown",
   "id": "925c90d3-262d-4ffb-8397-3cd4ccdd7ba6",
   "metadata": {},
   "source": [
    "### 1)Find the solution to the system of equations:  x-2y+z=0  , y+2z=5 , x+y+3z=7\n",
    "#### Solution1:- Step 1: Write the system as a matrix equation:𝐴𝑥=𝑏  A = [[1, -2, 1],[0, 1, 2],[1, 1, 3]] , b = [[0] [5][ 7]]  x= [[x] [y] [z]]\n",
    "####             Step 2: Solve using row reduction (Gaussian elimination). Row 3: 𝑅3←𝑅3−𝑅1    ,Row 3: 𝑅3←𝑅3−3×𝑅2\n",
    "####             Step 3: Back substitution.   From Row 3:−4𝑧=−8⇒𝑧=2 find all the values\n",
    "#### Solution2:- using NumPy"
   ]
  },
  {
   "cell_type": "code",
   "execution_count": 1,
   "id": "ff413531-b1f7-46f8-b37d-fa815c74bf1c",
   "metadata": {},
   "outputs": [
    {
     "name": "stdout",
     "output_type": "stream",
     "text": [
      "[0. 1. 2.]\n"
     ]
    }
   ],
   "source": [
    "import numpy as np\n",
    "\n",
    "# Define matrix A and vector b\n",
    "A = np.array([[1, -2, 1],\n",
    "              [0, 1, 2],\n",
    "              [1, 1, 3]])\n",
    "\n",
    "b = np.array([0, 5, 7])\n",
    "\n",
    "# Solve for x\n",
    "x = np.linalg.solve(A, b)\n",
    "\n",
    "print(x)\n"
   ]
  },
  {
   "cell_type": "markdown",
   "id": "b6c0fc62-4a9f-4097-81c4-7e54aa8ad307",
   "metadata": {},
   "source": [
    "#### 2)A startup company spent  (dollar)155856   on a combination of 131 tablets, laptops, and desktop computers. Each tablet cost   (dollar)736 , \n",
    "#### each laptop cost   (dollar)1377 , and each desktop computer cost   (dollar)1619 . Based on the structure of the company, they purchased twice as many \n",
    "#### tablets as laptops. Let  be the number of tablets purchased,  the number of laptops purchased, and  the number of desktops purchased. \n",
    "#### How many of each type of equipment did they buy? "
   ]
  },
  {
   "cell_type": "markdown",
   "id": "5f01e242-cf28-4c2f-bce8-84c897acec6d",
   "metadata": {},
   "source": [
    "#### Solution1 using numpy "
   ]
  },
  {
   "cell_type": "code",
   "execution_count": 5,
   "id": "4b8408f7-4dc8-4649-b101-fd4b2cb292f9",
   "metadata": {},
   "outputs": [
    {
     "name": "stdout",
     "output_type": "stream",
     "text": [
      "Tablets (x) = 56\n",
      "Laptops (y) = 28\n",
      "Desktops (z) = 46\n"
     ]
    }
   ],
   "source": [
    "# Our system:\n",
    "# x + y + z = 131\n",
    "# 736x + 1377y + 1619z = 155856\n",
    "# x - 2y = 0\n",
    "\n",
    "# Write the coefficients matrix (A) and constants vector (B)\n",
    "A = np.array([\n",
    "    [1, 1, 1],\n",
    "    [736, 1377, 1619],\n",
    "    [1, -2, 0]\n",
    "])\n",
    "\n",
    "B = np.array([131, 155856, 0])\n",
    "\n",
    "# Solve the system\n",
    "solution = np.linalg.solve(A, B)\n",
    "\n",
    "# Display the solution\n",
    "x, y, z = solution\n",
    "print(f\"Tablets (x) = {int(x)}\")\n",
    "print(f\"Laptops (y) = {int(y)}\")\n",
    "print(f\"Desktops (z) = {int(z)}\")"
   ]
  },
  {
   "cell_type": "markdown",
   "id": "e0e527c0-cbdd-4bd4-9841-cc0fd9191a56",
   "metadata": {},
   "source": [
    "#### Solution2 using sympy"
   ]
  },
  {
   "cell_type": "code",
   "execution_count": 7,
   "id": "6ac5b791-ddf5-4189-98b3-29a1e121a8be",
   "metadata": {},
   "outputs": [
    {
     "name": "stdout",
     "output_type": "stream",
     "text": [
      "{x: 56233/1004, y: 56233/2008, z: 94349/2008}\n"
     ]
    }
   ],
   "source": [
    "from sympy import symbols, Eq, solve\n",
    "\n",
    "# Define the variables\n",
    "x, y, z = symbols('x y z')\n",
    "\n",
    "# Equations based on the problem\n",
    "eq1 = Eq(x + y + z, 131)                      # Total items\n",
    "eq2 = Eq(736*x + 1377*y + 1619*z, 155856)      # Total cost\n",
    "eq3 = Eq(x, 2*y)                               # Twice as many tablets as laptops\n",
    "\n",
    "# Solve the system of equations\n",
    "solution = solve((eq1, eq2, eq3), (x, y, z))\n",
    "\n",
    "print(solution)\n"
   ]
  },
  {
   "cell_type": "markdown",
   "id": "498666da-e306-471f-836d-8ca4befd8cf8",
   "metadata": {},
   "source": [
    "#### 3)A brass manufacturer makes three different type of wholesale brass blocks from copper and zinc according to the following matrix.\n",
    "####             High brass   Muntz metal      Gilding metal   \n",
    "####    Copper      65%\t            60%             95%\n",
    "####     Zinc       35%             40%              5%\n",
    "#### In addition, the demand (in thousands of pounds) from Plant 1 is 11 High Brass, 5 Muntz metal, and 33 Gilding metal, and the demand from Plant 2 is #### 12 High Brass, 3 Muntz metal, and 30 Gilding metal.\n",
    "#### a) Make a matrix B that contains the blending information in decimal form.\t\n",
    "#### b) Make a matrix D for the demands at each plant. Plant 1 demands should be entered in column 1.\t\n",
    "#### c) Find the matrix product to find each location's need for each type of metal.\t\n",
    "#### d) if the price of zinc is (dollar)0.56 per pound and the price of copper is (dollar)4.04 per pound.\n"
   ]
  },
  {
   "cell_type": "code",
   "execution_count": 15,
   "id": "82b0b3fa-48c3-4203-b390-b57337943cbb",
   "metadata": {},
   "outputs": [
    {
     "name": "stdout",
     "output_type": "stream",
     "text": [
      "\n",
      "Metal Needs and Costs for Each Plant (in Pounds and Dollars):\n",
      "      Metal Type     Plant 1 (lbs)     Plant 2 (lbs)  Plant 1 Cost ($)  \\\n",
      "0         Copper  41500.0000000000  38100.0000000000  167660.000000000   \n",
      "1           Zinc  7500.00000000000  6900.00000000000  4200.00000000000   \n",
      "Total        NaN               NaN               NaN  171860.000000000   \n",
      "\n",
      "       Plant 2 Cost ($)  \n",
      "0      153924.000000000  \n",
      "1      3864.00000000000  \n",
      "Total  157788.000000000  \n",
      "\n",
      "Grand Total for both Plants: $329,648.00\n"
     ]
    }
   ],
   "source": [
    "import pandas as pd\n",
    "from sympy import Matrix\n",
    "\n",
    "# a) Blending information matrix\n",
    "B = Matrix([\n",
    "    [0.65, 0.60, 0.95],\n",
    "    [0.35, 0.40, 0.05]\n",
    "])\n",
    "\n",
    "# b) Demand matrix\n",
    "D = Matrix([\n",
    "    [11, 12],\n",
    "    [5, 3],\n",
    "    [33, 30]\n",
    "])\n",
    "\n",
    "# c) Matrix product\n",
    "metal_needed = B * D\n",
    "\n",
    "# d) Cost calculation\n",
    "copper_price = 4.04\n",
    "zinc_price = 0.56\n",
    "\n",
    "# Multiply by 1000 because demands are in thousands\n",
    "metal_needed_grams = metal_needed * 1000\n",
    "\n",
    "# Get copper and zinc needs separately\n",
    "copper_needs = metal_needed_grams.row(0)\n",
    "zinc_needs = metal_needed_grams.row(1)\n",
    "\n",
    "# Calculate costs\n",
    "cost_copper = copper_needs * copper_price\n",
    "cost_zinc = zinc_needs * zinc_price\n",
    "\n",
    "# Total cost at each plant\n",
    "total_cost_each_plant = cost_copper + cost_zinc\n",
    "\n",
    "# Prepare the data for the table\n",
    "data = {\n",
    "    \"Metal Type\": [\"Copper\", \"Zinc\"],\n",
    "    \"Plant 1 (lbs)\": [copper_needs[0], zinc_needs[0]],\n",
    "    \"Plant 2 (lbs)\": [copper_needs[1], zinc_needs[1]],\n",
    "    \"Plant 1 Cost ($)\": [cost_copper[0], cost_zinc[0]],\n",
    "    \"Plant 2 Cost ($)\": [cost_copper[1], cost_zinc[1]],\n",
    "}\n",
    "\n",
    "# Create the DataFrame\n",
    "df = pd.DataFrame(data)\n",
    "\n",
    "# Add the Total Cost row\n",
    "df.loc[\"Total\"] = df[[\"Plant 1 Cost ($)\", \"Plant 2 Cost ($)\"]].sum()\n",
    "\n",
    "# Display the table\n",
    "print(\"\\nMetal Needs and Costs for Each Plant (in Pounds and Dollars):\")\n",
    "print(df)\n",
    "\n",
    "# Grand total for both plants\n",
    "grand_total = sum(total_cost_each_plant)\n",
    "print(f\"\\nGrand Total for both Plants: ${float(grand_total):,.2f}\")\n"
   ]
  },
  {
   "cell_type": "markdown",
   "id": "10df3839-7dae-4e93-8a94-d63b1ee93886",
   "metadata": {},
   "source": [
    "#### 4)A new website allows consumers to purchase various automobiles via the internet and then take delivery at a local dealer. The following table shows #### the retail price of the cars on the website.\n",
    "####  \t   Brand A   \t   Brand B   \n",
    "#### Compact      \t30000  38000 \n",
    "#### Midsize\t42000 47000 \n",
    "#### Luxury\t  63000 54000 \n",
    "#### Pickup\t  70000 72000\n",
    "#### The dealers make 13% profit per compact car sold, 10% per midsize car, 7% per luxury car, and 19% per pickup truck.\n",
    "#### Create a matrix to represent the profit (in dollars).\n",
    "#### How much total profit does the dealer make on 3 Brand A midsize cars?\n"
   ]
  },
  {
   "cell_type": "code",
   "execution_count": 59,
   "id": "9fe7e678-a208-4378-8832-d8b590edfa87",
   "metadata": {},
   "outputs": [
    {
     "name": "stdout",
     "output_type": "stream",
     "text": [
      "Profit Matrix in Dollars:\n",
      " [[ 3900.  4940.]\n",
      " [ 4200.  4700.]\n",
      " [ 4410.  3780.]\n",
      " [13300. 13680.]]\n",
      "Total Profit on 3 Brand A Midsize cars = $ 12600.0\n"
     ]
    }
   ],
   "source": [
    "\n",
    "C = np.array([\n",
    "    [30000, 38000],  # Compact\n",
    "    [42000, 47000],  # Midsize\n",
    "    [63000, 54000],  # Luxury\n",
    "    [70000, 72000]   # Pickup\n",
    "])\n",
    "# Profit Matrix p (Updated Profit % in Decimal)\n",
    "p = np.array([\n",
    "    [0.13],  # Compact\n",
    "    [0.10],  # Midsize\n",
    "    [0.07],  # Luxury\n",
    "    [0.19]   # Pickup\n",
    "])\n",
    "\n",
    "# Element-wise multiplication\n",
    "Profit_Dollars = C * p\n",
    "\n",
    "print(\"Profit Matrix in Dollars:\\n\", Profit_Dollars)\n",
    "\n",
    "price = 42000\n",
    "profit_percent = 0.10\n",
    "quantity = 3\n",
    "\n",
    "total_profit = price * profit_percent * quantity\n",
    "\n",
    "print(\"Total Profit on 3 Brand A Midsize cars = $\", total_profit)\n"
   ]
  },
  {
   "cell_type": "markdown",
   "id": "a6e8ed35-c1ce-4cf6-b580-7695156ff1cc",
   "metadata": {},
   "source": [
    "#### 5)7x- 19y=3  and -x+ 3y=-3  find coefficient matrix and its inverse and The solution to the system x and y is ?"
   ]
  },
  {
   "cell_type": "code",
   "execution_count": 72,
   "id": "19f07341-fbdc-4cae-a7b6-cd24b4cbef70",
   "metadata": {},
   "outputs": [
    {
     "name": "stdout",
     "output_type": "stream",
     "text": [
      "Coefficient Matrix:\n",
      " [[  7 -19]\n",
      " [ -1   3]]\n",
      "Inverse of Matrix:\n",
      " [[1.5 9.5]\n",
      " [0.5 3.5]]\n",
      "x = -23.999999999999993\n",
      "y = -8.999999999999996\n"
     ]
    }
   ],
   "source": [
    "A = np.array([[7, -19], [-1, 3]])\n",
    "B = np.array([[3], [-3]])\n",
    "\n",
    "A_inv = np.linalg.inv(A)\n",
    "\n",
    "X = np.dot(A_inv, B)\n",
    "\n",
    "print(\"Coefficient Matrix:\\n\", A)\n",
    "print(\"Inverse of Matrix:\\n\", A_inv)\n",
    "print(\"x =\",( X[0][0]))\n",
    "print(\"y =\", (X[1][0]))"
   ]
  },
  {
   "cell_type": "markdown",
   "id": "7f83f765-e08c-49b4-b7a4-b1962c8dafcb",
   "metadata": {},
   "source": [
    "#### 6)Recardo is trying to plan a meal to meet specific nutritional goals. He wants to prepare a meal containing rice, tofu, and peanuts that will \n",
    "#### provide  221 grams of carbohydrates, 176 grams of fat, and 123 grams of protein. He knows that each cup of rice provides \n",
    "#### 45 grams of carbohydrates, 0 grams of fat, and 3 grams of protein. Each cup of tofu provides  6 grams of carbohydrates,  9 grams of fat, and 16 grams #### of protein. Finally, each cup of peanuts provides  31 grams of carbohydrates, 70 grams of fat, and  25 grams of protein. \n",
    "#### Let r  be the number of cups of rice,  t the number of cups of tofu, and   p the number of cups of peanuts. Set up the system of equations. \n",
    "#### Write the equation for the amount of carbohydrates in his meal.\n",
    "#### How many cups of rice, tofu, and peanuts should he eat?"
   ]
  },
  {
   "cell_type": "code",
   "execution_count": 76,
   "id": "003c4f08-ff58-41cb-b874-406495ababce",
   "metadata": {},
   "outputs": [
    {
     "name": "stdout",
     "output_type": "stream",
     "text": [
      "Rice (cups) = 3.0\n",
      "Tofu (cups) = 4.0\n",
      "Peanuts (cups) = 2.0\n"
     ]
    }
   ],
   "source": [
    "#45r+6t+31p=221   , 9t+70p=176 , 3r+16t+25p=123\n",
    "#Coefficient Matrix\n",
    "A = np.array([\n",
    "    [45, 6, 31],\n",
    "    [0, 9, 70],\n",
    "    [3, 16, 25]\n",
    "])\n",
    "\n",
    "# Constants Matrix\n",
    "B = np.array([221, 176, 123])\n",
    "\n",
    "# Solve for [r, t, p]\n",
    "X = np.linalg.solve(A, B)\n",
    "\n",
    "print(\"Rice (cups) =\", X[0])\n",
    "print(\"Tofu (cups) =\", X[1])\n",
    "print(\"Peanuts (cups) =\", X[2])\n"
   ]
  },
  {
   "cell_type": "markdown",
   "id": "a94a1f37-544c-40fb-9ae7-6cd113828063",
   "metadata": {},
   "source": [
    "#### 7)"
   ]
  },
  {
   "cell_type": "code",
   "execution_count": 92,
   "id": "06778619-8918-4da1-afcc-3bb10df51559",
   "metadata": {},
   "outputs": [
    {
     "name": "stdout",
     "output_type": "stream",
     "text": [
      "A + B =\n",
      "[[ 13   9   1]\n",
      " [  0   4  10]\n",
      " [-10   5  -6]]\n",
      "BT: [[ 6  5 -7]\n",
      " [ 6  7  6]\n",
      " [ 3  6 -1]]\n",
      " B^T * C =\n",
      "[[ 14 -49]\n",
      " [ 11  43]\n",
      " [ 22  15]]\n"
     ]
    }
   ],
   "source": [
    "A = np.array([[7, 3, -2],\n",
    "              [-5, -3, 4],\n",
    "              [-3, -1, -5]])\n",
    "\n",
    "B = np.array([[6, 6, 3],\n",
    "              [5, 7, 6],\n",
    "              [-7, 6, -1]])\n",
    "\n",
    "C = np.array([[-3, -7],\n",
    "              [5, 7],\n",
    "              [-1, 6]])\n",
    "\n",
    "# Find: 2A + B - C\n",
    "result = A + B \n",
    "# Find :B^TC\n",
    "BT=B.transpose()\n",
    "#result2 = (BT * C)   \tElement-wise only if same shape\n",
    "result2 = BT@ C \t\n",
    "print(\"A + B =\")\n",
    "print(result)\n",
    "print(\"BT:\",BT)\n",
    "print(\" B^T * C =\")\n",
    "print(result2)"
   ]
  },
  {
   "cell_type": "markdown",
   "id": "d2137982-3c98-4363-b385-1f266f676f63",
   "metadata": {},
   "source": [
    "#### 8)find transpose"
   ]
  },
  {
   "cell_type": "code",
   "execution_count": 96,
   "id": "a7f84b52-65df-4997-ac38-7bf877d0353a",
   "metadata": {},
   "outputs": [
    {
     "name": "stdout",
     "output_type": "stream",
     "text": [
      " D^T:  [[  9  -3  -7  10]\n",
      " [ -8   5   3  -9]\n",
      " [  2  -5  -1  -6]\n",
      " [  7  -2 -10  -4]\n",
      " [  8   0   1   4]]\n"
     ]
    }
   ],
   "source": [
    "D=np.array([[9 ,-8, 2 ,7,8],\n",
    "   [-3 ,5 ,-5 ,-2,0],\n",
    "   [-7 ,3, -1,-10,1],\n",
    "    [10,-9,-6,-4,4]])\n",
    "DT=D.transpose();\n",
    "print(\" D^T: \", DT)"
   ]
  },
  {
   "cell_type": "markdown",
   "id": "d8692501-bfd4-47ad-a2db-78cb8ae11967",
   "metadata": {},
   "source": [
    "#### 9)Solve the system using Cramer's Rule.  -x+6y-5z=21  , -6x+y+4z=-10 , 3x-4y-2z=5 \n",
    "#### Find the determinant "
   ]
  },
  {
   "cell_type": "code",
   "execution_count": 108,
   "id": "1e094c34-b31b-411a-991c-87aafedf5951",
   "metadata": {},
   "outputs": [
    {
     "name": "stdout",
     "output_type": "stream",
     "text": [
      "Determinant of A = -119.0\n",
      "Det(Ax) = 119.0\n",
      "Det(Ay) = 0.0\n",
      "Det(Az) = 476.0\n",
      "\n",
      "Solution:\n",
      "x = -1.0\n",
      "y = -0.0\n",
      "z = -4.0\n"
     ]
    }
   ],
   "source": [
    "A = np.array([\n",
    "    [-1, 6, -5],\n",
    "    [-6, 1, 4],\n",
    "    [3, -4, -2]\n",
    "])\n",
    "\n",
    "b=np.array([21,-10,5])\n",
    "detA = round(np.linalg.det(A), 2)\n",
    "print(\"Determinant of A =\", detA)\n",
    "\n",
    "# Matrix for x (replace 1st column with D)\n",
    "Ax = A.copy()\n",
    "Ax[:, 0] = b\n",
    "detAx = round(np.linalg.det(Ax), 2)\n",
    "print(\"Det(Ax) =\", detAx)\n",
    "\n",
    "# Matrix for y (replace 2nd column with D)\n",
    "Ay = A.copy()\n",
    "Ay[:, 1] = b\n",
    "detAy = round(np.linalg.det(Ay), 2)\n",
    "print(\"Det(Ay) =\", detAy)\n",
    "\n",
    "# Matrix for z (replace 3rd column with D)\n",
    "Az = A.copy()\n",
    "Az[:, 2] = b\n",
    "detAz = round(np.linalg.det(Az), 2)\n",
    "print(\"Det(Az) =\", detAz)\n",
    "\n",
    "# Solution using Cramer's Rule\n",
    "x = detAx / detA\n",
    "y = detAy / detA\n",
    "z = detAz / detA\n",
    "\n",
    "print(\"\\nSolution:\")\n",
    "print(\"x =\", x)\n",
    "print(\"y =\", y)\n",
    "print(\"z =\", z)\n"
   ]
  },
  {
   "cell_type": "markdown",
   "id": "cfbaa36d-69ad-45b4-b7ff-81c1cae1b5a3",
   "metadata": {},
   "source": [
    "#### 10)Find the cofactor of the matrix"
   ]
  },
  {
   "cell_type": "code",
   "execution_count": 118,
   "id": "ee40b05b-c3dd-4e09-a8d0-7516abb7e596",
   "metadata": {},
   "outputs": [
    {
     "name": "stdout",
     "output_type": "stream",
     "text": [
      "Matrix A:\n",
      "⎡6  7  -1⎤\n",
      "⎢        ⎥\n",
      "⎢2  6  0 ⎥\n",
      "⎢        ⎥\n",
      "⎣6  5  2 ⎦\n",
      "Cofactor Matrix of A:\n",
      "⎡12   -4  -26⎤\n",
      "⎢            ⎥\n",
      "⎢-19  18  12 ⎥\n",
      "⎢            ⎥\n",
      "⎣ 6   -2  22 ⎦\n"
     ]
    }
   ],
   "source": [
    "import sympy as sp\n",
    "\n",
    "# Define the Matrix\n",
    "A = sp.Matrix([[6, 7, -1],\n",
    "            [2, 6, 0],\n",
    "            [6, 5, 2]])\n",
    "\n",
    "print(\"Matrix A:\")\n",
    "sp.pprint(A)\n",
    "\n",
    "print(\"Cofactor Matrix of A:\")\n",
    "C = A.cofactor_matrix()\n",
    "sp.pprint(C)\n"
   ]
  },
  {
   "cell_type": "markdown",
   "id": "b529e1b4-7962-47b0-975a-5b8506ea9a2b",
   "metadata": {},
   "source": [
    "#### 11)To find the det(A), set up the cofacter expansion of A along row 3:\n",
    "#### The cofactor expansion along row 3 means we express the determinant as:det(𝐴)=𝑎31⋅𝐶31+𝑎32⋅𝐶32+𝑎33⋅𝐶33+𝑎34⋅𝐶34\n",
    "#### Where:𝑎31,𝑎32,𝑎33,𝑎34  are the elements of row 3 of matrix A.  𝐶41,𝐶42,𝐶43,𝐶44  are the corresponding cofactors for each element.\n"
   ]
  },
  {
   "cell_type": "code",
   "execution_count": 21,
   "id": "22d875e3-03cc-49d4-8d8a-d9ebdfa08fe0",
   "metadata": {},
   "outputs": [
    {
     "name": "stdout",
     "output_type": "stream",
     "text": [
      "Minor M31: 4\n",
      "Minor M32: 24\n",
      "Minor M33: 23\n",
      "Minor M34: 65\n",
      "Determinant of A (expanded along row 3): 265\n"
     ]
    }
   ],
   "source": [
    "from sympy import Matrix\n",
    "\n",
    "# Define the matrix A\n",
    "A = Matrix([\n",
    "    [-4, -4, 5, 3],\n",
    "    [2, -3, 5, 3],\n",
    "    [-5, -2, -1, -4],\n",
    "    [-1, 0, 3, 1]\n",
    "])\n",
    "\n",
    "# Pick elements from row 3\n",
    "row3 = A.row(2)  # Python index 2 → row 3\n",
    "\n",
    "# Step 1: Compute minors for each element in row 3\n",
    "# Delete row 3 and respective columns\n",
    "\n",
    "M31 = A.minor_submatrix(2, 0).det()  # delete row 2, column 0\n",
    "M32 = A.minor_submatrix(2, 1).det()  # delete row 2, column 1\n",
    "M33 = A.minor_submatrix(2, 2).det()  # delete row 2, column 2\n",
    "M34 = A.minor_submatrix(2, 3).det()  # delete row 2, column 3\n",
    "\n",
    "# Step 2: Signs for cofactors along row 3\n",
    "# + - + -\n",
    "signs = [1, -1, 1, -1]\n",
    "\n",
    "# Step 3: Cofactor expansion\n",
    "det_A = (row3[0] * signs[0] * M31 +\n",
    "         row3[1] * signs[1] * M32 +\n",
    "         row3[2] * signs[2] * M33 +\n",
    "         row3[3] * signs[3] * M34)\n",
    "\n",
    "print(f\"Minor M31: {M31}\")\n",
    "print(f\"Minor M32: {M32}\")\n",
    "print(f\"Minor M33: {M33}\")\n",
    "print(f\"Minor M34: {M34}\")\n",
    "print(f\"Determinant of A (expanded along row 3): {det_A}\")\n"
   ]
  },
  {
   "cell_type": "markdown",
   "id": "493d1308-9fa9-4f93-9484-81d6fc2d2d7a",
   "metadata": {},
   "source": [
    "#### 12)Suppose R,M,C,H are square matrices such that det(RM)=24,det(CH)=5, and det(MC)=11. Find det(RM^T) , det(RC^−1 ), det(RMCH)\n",
    "#### and det(RH)"
   ]
  },
  {
   "cell_type": "code",
   "execution_count": null,
   "id": "f521d199-704a-467c-89ec-1846c6b951e5",
   "metadata": {},
   "outputs": [],
   "source": [
    "#det(A ^T )=det(A)\n"
   ]
  },
  {
   "cell_type": "markdown",
   "id": "89c84e48-ad5b-455b-b503-cf863b8b841b",
   "metadata": {},
   "source": [
    "#### 13)Suppose that A=[[3,-2,2],[0,-5,0],[0,0,5]] The sum of all the eigenvalues of A is   ,The product of all the eigenvalues of A is ?"
   ]
  },
  {
   "cell_type": "code",
   "execution_count": 138,
   "id": "be38cc63-f486-4511-b13f-8d4cf1052414",
   "metadata": {},
   "outputs": [
    {
     "name": "stdout",
     "output_type": "stream",
     "text": [
      "Eigenvalues: [ 3. -5.  5.]\n",
      "Sum of eigenvalues: 3.0\n",
      "Product of eigenvalues: -75.0\n",
      "\n",
      "Eigenvectors:\n",
      "[[1.         0.24253563 0.70710678]\n",
      " [0.         0.9701425  0.        ]\n",
      " [0.         0.         0.70710678]]\n"
     ]
    }
   ],
   "source": [
    "# Define the matrix\n",
    "A = np.array([[3, -2,2],\n",
    "              [0, -5,0],\n",
    "            [0,0,5]])\n",
    "\n",
    "# Use numpy's function to find eigenvalues and eigenvectors\n",
    "eigenvalues, eigenvectors = np.linalg.eig(A)\n",
    "# Sum and product of eigenvalues\n",
    "eigen_sum = np.sum(eigenvalues)\n",
    "eigen_product = np.prod(eigenvalues)\n",
    "\n",
    "# Display results\n",
    "print(\"Eigenvalues:\", eigenvalues)\n",
    "print(\"Sum of eigenvalues:\", eigen_sum)\n",
    "print(\"Product of eigenvalues:\", eigen_product)\n",
    "print(\"\\nEigenvectors:\")\n",
    "print(eigenvectors)"
   ]
  },
  {
   "cell_type": "markdown",
   "id": "4d8d2112-6ddb-4418-902c-765457a85c35",
   "metadata": {},
   "source": [
    "#### 14)Find the characteristic polynomial of the matrix  A (using the variable lambda  )"
   ]
  },
  {
   "cell_type": "code",
   "execution_count": 1,
   "id": "51792c94-bb3a-46f5-b9a7-22b26bd795f2",
   "metadata": {},
   "outputs": [
    {
     "name": "stdout",
     "output_type": "stream",
     "text": [
      "Characteristic Polynomial:\n",
      "-lambda**3 + 7*lambda**2 - 7*lambda - 15\n"
     ]
    }
   ],
   "source": [
    "from sympy import symbols, Matrix, eye\n",
    "\n",
    "# Define the variable\n",
    "λ = symbols('lambda')\n",
    "\n",
    "# Define the matrix A\n",
    "A = Matrix([[5, 0, 2],\n",
    "            [12, -1, 8],\n",
    "            [0, 0, 3]])\n",
    "\n",
    "# Compute the characteristic polynomial: det(A - λI)\n",
    "char_poly = (A - λ * eye(3)).det()  #eye(3) creates the 3×3 identity matrix.\n",
    "\n",
    "print(\"Characteristic Polynomial:\")\n",
    "print(char_poly)\n",
    "\n"
   ]
  },
  {
   "cell_type": "markdown",
   "id": "3da74aa6-56e0-41f7-aaf6-2bd128ee4917",
   "metadata": {},
   "source": [
    "#### 15)Given the following matrix, A, find each eigenvalue and a corresponding eigenvector.\n"
   ]
  },
  {
   "cell_type": "code",
   "execution_count": 3,
   "id": "ebce6eb8-7b8f-4aa5-8378-609590cb395e",
   "metadata": {},
   "outputs": [
    {
     "name": "stdout",
     "output_type": "stream",
     "text": [
      "Characteristic Polynomial: -lambda**3 + 3*lambda**2 + 25*lambda - 75\n",
      "Eigenvalues: [-5, 3, 5]\n",
      "Eigenvalue: -5\n",
      "Eigenvector: Matrix([[3/2], [3/2], [1]])\n",
      "Eigenvalue: 3\n",
      "Eigenvector: Matrix([[2], [7/3], [1]])\n",
      "Eigenvalue: 5\n",
      "Eigenvector: Matrix([[2], [5/2], [1]])\n"
     ]
    }
   ],
   "source": [
    "from sympy import Matrix, symbols, eye, simplify, solve\n",
    "\n",
    "# Step 1: Define matrix\n",
    "A = Matrix([\n",
    "    [-13, 24, -24],\n",
    "    [-26, 33, -18],\n",
    "    [-4, 12, -17]\n",
    "])\n",
    "\n",
    "# Step 2: Characteristic polynomial\n",
    "lam = symbols('lambda')\n",
    "char_poly = simplify((A - lam * eye(3)).det())\n",
    "print(f\"Characteristic Polynomial: {char_poly}\")\n",
    "\n",
    "# Step 3: Solve for eigenvalues (correct way!)\n",
    "eigenvalues = solve(char_poly, lam)\n",
    "print(f\"Eigenvalues: {eigenvalues}\")\n",
    "\n",
    "# Step 4: Find eigenvectors\n",
    "for eigenvalue in eigenvalues:\n",
    "    eig_mat = A - eigenvalue * eye(3)\n",
    "    null_space = eig_mat.nullspace()\n",
    "    print(f\"Eigenvalue: {eigenvalue}\")\n",
    "    for vec in null_space:\n",
    "        print(f\"Eigenvector: {vec}\")\n"
   ]
  },
  {
   "cell_type": "code",
   "execution_count": null,
   "id": "0a4298aa-cf52-4cf4-ad1f-c66ef00ec44e",
   "metadata": {},
   "outputs": [],
   "source": []
  },
  {
   "cell_type": "code",
   "execution_count": null,
   "id": "b1233624-2514-47e4-ab65-818c04e51293",
   "metadata": {},
   "outputs": [],
   "source": []
  }
 ],
 "metadata": {
  "kernelspec": {
   "display_name": "Python 3 (ipykernel)",
   "language": "python",
   "name": "python3"
  },
  "language_info": {
   "codemirror_mode": {
    "name": "ipython",
    "version": 3
   },
   "file_extension": ".py",
   "mimetype": "text/x-python",
   "name": "python",
   "nbconvert_exporter": "python",
   "pygments_lexer": "ipython3",
   "version": "3.12.9"
  }
 },
 "nbformat": 4,
 "nbformat_minor": 5
}
