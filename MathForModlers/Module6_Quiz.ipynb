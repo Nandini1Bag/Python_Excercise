{
 "cells": [
  {
   "cell_type": "markdown",
   "id": "65ec0ce2-5012-48b1-9c23-4179f93fd08a",
   "metadata": {},
   "source": [
    "#### 1)MJ Mining Company owns three mines and has three different types of ores that is mined. For each ore, the number of tons per day available from ####  each mine and the minimum number of tons required to fill orders are given in the following table.\n",
    "\n",
    "####  \t             Mine 1    Mine 2   Mine 3   Required tons   \n",
    "#### ORE TYPE  Iron   \t10\t     35   \t15\t      970\n",
    "####           Lead   \t0\t     25\t    10\t      550\n",
    "####          Nickel   \t10\t     25\t     0\t     410\n",
    "####         Daily Costs\t$6,700\t $7,000\t $7,400\t \n",
    "\n",
    "#### Let x,y, and z represent the number of days to run Mines 1, 2, and 3 respectively.\n",
    "####  Type the objective function and the left hand side of each constraint in the following answer boxes.Minimize Cost =? subject to:\n",
    "#### Determine the number of days to operate each mine that produces the minimum cost and determine the minimum cost. If there is no solution enter 'NONE' #### in all boxes below.Round days to two decimal places where necessary.\n",
    "#### Number of days to run Mine 1 is ?  Number of days to run Mine 2 is ?\n",
    "#### Number of days to run Mine 3 is ?   Minimum cost is $ ?"
   ]
  },
  {
   "cell_type": "code",
   "execution_count": 14,
   "id": "4d08158f-a2dc-44d4-91d4-c00160fc8159",
   "metadata": {},
   "outputs": [
    {
     "name": "stdout",
     "output_type": "stream",
     "text": [
      "Number of days to run Mine 1: 0.00 \n",
      "Number of days to run Mine 2: 27.71 \n",
      "Number of days to run Mine 3: 0.00 \n",
      "Minimum cost: $194000.00\n"
     ]
    }
   ],
   "source": []
  },
  {
   "cell_type": "markdown",
   "id": "e8252630-216e-49ee-9b48-e028877f1334",
   "metadata": {},
   "source": [
    "#### 2)First-class postage is (dollar)0.39 for a letter weighing up to one ounce and (dollar)0.26 for each additional ounce (or fraction thereof). For  #### example, the cost of postage for 1 ounce would be (dollar)0.39 and cost for 1.36 ounces would be (dollar)0.65. Let C(x) represent the cost of postage #### for a letter weighing x ounces. Use this information to answer the questions below. Write \"DNE\" if the limit does not exist or the function value is #### undefined. find limx->2^- c(x), limx->2^+ c(x),limx->2 c(x), c(2).\n",
    "#### find all x-values on the interval (0,4) where the function is discontinuous. Separate multiple answers with a comma"
   ]
  },
  {
   "cell_type": "code",
   "execution_count": 6,
   "id": "45baec1c-9fa4-4b7c-a485-0aa4806e73a7",
   "metadata": {},
   "outputs": [
    {
     "name": "stdout",
     "output_type": "stream",
     "text": [
      "lim x→2⁻ C(x): 13/20\n",
      "lim x→2⁺ C(x): 91/100\n",
      "lim x→2 C(x): DNE\n",
      "C(2): 0.650000000000000\n",
      "Discontinuities in (0,4): 1, 2, 3\n"
     ]
    }
   ],
   "source": [
    "import sympy as sp\n",
    "\n",
    "# Define symbol\n",
    "x = sp.symbols('x')\n",
    "\n",
    "# Import ceiling\n",
    "from sympy import ceiling\n",
    "\n",
    "# Define the cost function C(x)\n",
    "C = 0.39 + 0.26 * ceiling(x - 1)\n",
    "# We need to count how many extra ounces (or fractions) are in the letter beyond the first ounce.This means:extra weight=𝑥−1\n",
    "# The ceiling function, denoted ⌈x⌉, always rounds a number up to the nearest whole number.\n",
    "# If you see phrases like:\"or part thereof\" ,\"or fraction thereof\",\"rounded up to the next whole\",\"minimum one full unit even if partial\"\n",
    "# It’s a signal to use ceiling().\n",
    "\n",
    "# Compute limits around x = 2\n",
    "left_limit = sp.limit(C, x, 2, dir='-')\n",
    "right_limit = sp.limit(C, x, 2, dir='+')\n",
    "lim_at_2 = left_limit if left_limit == right_limit else \"DNE\"\n",
    "\n",
    "# Value at x = 2\n",
    "c_at_2 = C.subs(x, 2)\n",
    "\n",
    "# Find discontinuities in (0, 4)\n",
    "discontinuities = []\n",
    "for i in range(1, 4):  # possible discontinuities at 1, 2, 3\n",
    "    left = sp.limit(C, x, i, dir='-')\n",
    "    right = sp.limit(C, x, i, dir='+')\n",
    "    if left != right:\n",
    "        discontinuities.append(i)\n",
    "\n",
    "# Print results\n",
    "print(\"lim x→2⁻ C(x):\", left_limit)\n",
    "print(\"lim x→2⁺ C(x):\", right_limit)\n",
    "print(\"lim x→2 C(x):\", lim_at_2)\n",
    "print(\"C(2):\", c_at_2)\n",
    "print(\"Discontinuities in (0,4):\", ', '.join(map(str, discontinuities)))\n"
   ]
  },
  {
   "cell_type": "markdown",
   "id": "65a1e3df-2c0c-4d9d-bd4e-29c2ab5ae836",
   "metadata": {},
   "source": [
    "#### 3)The weight (in kilograms) of a certain species of animal can be predicted by w(t)=498.6(1-0.894e^-0.00214t), \n",
    "#### where t represents the number of days since birth. Answer the following questions (round to the nearest tenth as needed):\n",
    "#### a) What is the predicted weight of a 1-day-old animal for this species? \n",
    "#### b) What is the maximum weight of this animal species? (Hint: Find the limit as t approaches infinity) \n",
    "#### c) What is the rate of change of the weight of a 714-day-old animal for this species? w'(714)=?\n",
    "#### What is the appropriate unit of measurement for your answer in part (c)?"
   ]
  },
  {
   "cell_type": "code",
   "execution_count": 16,
   "id": "133f0dd9-0482-4b84-a77f-acf690f8b5b4",
   "metadata": {},
   "outputs": [
    {
     "name": "stdout",
     "output_type": "stream",
     "text": [
      "a) Weight at t = 1 day: 53.8 kg\n",
      "b) Maximum weight: 498.6 kg\n",
      "c) Rate of change at t = 714 days: 0.207 kg/day\n",
      "   Unit for part (c): kg/day\n"
     ]
    }
   ],
   "source": [
    "import sympy as sp \n",
    "# Define the variable\n",
    "t = sp.symbols('t')\n",
    "\n",
    "# Define the function\n",
    "w = 498.6*(1-0.894*sp.exp(-0.00214 * t))\n",
    "\n",
    "# a) Predicted weight at t = 1\n",
    "weight_at_1 = w.subs(t, 1).evalf()\n",
    "      \n",
    "# b) Maximum weight as t → ∞ (limit)\n",
    "max_weight = sp.limit(w, t, sp.oo)\n",
    "\n",
    "# c) Derivative w'(t)\n",
    "w_prime = sp.diff(w, t)\n",
    "\n",
    "# Evaluate w'(714)\n",
    "rate_at_714 = w_prime.subs(t, 714).evalf()\n",
    "\n",
    "# Print results\n",
    "print(f\"a) Weight at t = 1 day: {weight_at_1:.1f} kg\")\n",
    "print(f\"b) Maximum weight: {max_weight:.1f} kg\")\n",
    "print(f\"c) Rate of change at t = 714 days: {rate_at_714:.3f} kg/day\")\n",
    "print(\"   Unit for part (c): kg/day\")\n"
   ]
  },
  {
   "cell_type": "markdown",
   "id": "9c96fc8a-a26c-4979-bcc2-e5c8dfa0403d",
   "metadata": {},
   "source": [
    "#### 4)Let f(x)=sqart 3x^3+12x^2. Answer the following questions. Round all answers to four decimal places as needed.\n",
    "#### The domain of the function is ? The function has a local maximum of y  ? at x ?\n",
    "#### The function has a local minimum of y ? at x ? \n",
    "#### The function is increasing on the interval(s) ?\n",
    "#### The function is decreasing on the interval(s) ?"
   ]
  },
  {
   "cell_type": "code",
   "execution_count": 20,
   "id": "d9c751a6-f33f-4d4c-912b-923238f54391",
   "metadata": {},
   "outputs": [
    {
     "name": "stdout",
     "output_type": "stream",
     "text": [
      "1. Domain: Interval(-4, oo)\n",
      "2. Local Maxima:\n",
      "   y ≈ 5.3333 at x ≈ -2.6667\n",
      "   Local Minima:\n",
      "   y ≈ 0.0000 at x ≈ -4.0000\n",
      "   y ≈ 0.0000 at x ≈ 0.0000\n",
      "3. Increasing Intervals: [(-4, -8/3)]\n",
      "4. Decreasing Intervals: [(-8/3, 0)]\n"
     ]
    }
   ],
   "source": [
    "import sympy as sp\n",
    "\n",
    "# Define the variable\n",
    "x = sp.symbols('x')\n",
    "\n",
    "# Define the function\n",
    "f = sp.sqrt(3*x**3 + 12*x**2)\n",
    "\n",
    "# 1. Domain\n",
    "#   SymPy's solveset doesn't directly handle inequalities inside square roots,\n",
    "#   so we find where the expression inside is >= 0\n",
    "g = 3*x**3 + 12*x**2\n",
    "domain = sp.solve_univariate_inequality(g >= 0, x,relational=False)\n",
    "\n",
    "# 2. Local Extrema\n",
    "#   Find the first derivative\n",
    "f_prime = sp.diff(f, x)\n",
    "\n",
    "#   Find critical points (where f' = 0 or undefined)\n",
    "critical_points = sp.solve(f_prime, x)\n",
    "# Need to add the endpoints of the domain and points where the derivative is undefined.\n",
    "critical_points.append(-4)\n",
    "critical_points.append(0)\n",
    "critical_points = sorted(list(set(critical_points))) # Remove duplicates and sort\n",
    "\n",
    "#   Evaluate the function at the critical points\n",
    "extrema_values = [(cp, f.subs(x, cp).evalf()) for cp in critical_points]\n",
    "\n",
    "local_maxima = []\n",
    "local_minima = []\n",
    "\n",
    "# Determine if it is max or min.\n",
    "for i, (cp, val) in enumerate(extrema_values):\n",
    "    if i > 0 and i < len(extrema_values) - 1: # Check points which are not end points\n",
    "        left_val = f.subs(x, (critical_points[i-1] + critical_points[i])/2).evalf()\n",
    "        right_val = f.subs(x, (critical_points[i+1] + critical_points[i])/2).evalf()\n",
    "        if left_val < val and right_val < val:\n",
    "            local_maxima.append((cp,val))\n",
    "        elif left_val > val and right_val > val:\n",
    "            local_minima.append((cp,val))\n",
    "    elif i == 0: # Check the first point in the domain\n",
    "        right_val = f.subs(x, (critical_points[i+1] + critical_points[i])/2).evalf()\n",
    "        if  right_val < val:\n",
    "            local_maxima.append((cp,val))\n",
    "        elif right_val > val:\n",
    "             local_minima.append((cp,val))\n",
    "    elif i == len(extrema_values) -1: # Check the last point in the domain\n",
    "         left_val = f.subs(x, (critical_points[i-1] + critical_points[i])/2).evalf()\n",
    "         if  left_val < val:\n",
    "            local_maxima.append((cp,val))\n",
    "         elif left_val > val:\n",
    "             local_minima.append((cp,val))\n",
    "\n",
    "# 3. Intervals of Increase/Decrease\n",
    "#   Analyze the sign of f'(x) in the intervals between critical points\n",
    "increasing_intervals = []\n",
    "decreasing_intervals = []\n",
    "for i in range(len(critical_points) - 1):\n",
    "    test_point = (critical_points[i] + critical_points[i+1]) / 2\n",
    "    if sp.re(f_prime.subs(x, test_point).evalf()) > 0:  # Use sp.re to get the real part\n",
    "        increasing_intervals.append((critical_points[i], critical_points[i+1]))\n",
    "    else:\n",
    "        decreasing_intervals.append((critical_points[i], critical_points[i+1]))\n",
    "\n",
    "# Print results\n",
    "print(\"1. Domain:\", domain)\n",
    "if local_maxima:\n",
    "    print(\"2. Local Maxima:\")\n",
    "    for x_val, y_val in local_maxima:\n",
    "        print(f\"   y ≈ {y_val:.4f} at x ≈ {x_val:.4f}\")\n",
    "else:\n",
    "    print(\"2. No Local Maxima\")\n",
    "\n",
    "if local_minima:\n",
    "    print(\"   Local Minima:\")\n",
    "    for x_val, y_val in local_minima:\n",
    "        print(f\"   y ≈ {y_val:.4f} at x ≈ {x_val:.4f}\")\n",
    "else:\n",
    "    print(\"   No Local Minima\")\n",
    "print(\"3. Increasing Intervals:\", increasing_intervals)\n",
    "print(\"4. Decreasing Intervals:\", decreasing_intervals)\n"
   ]
  },
  {
   "cell_type": "markdown",
   "id": "8cafd86a-2401-442c-aa5b-c3473af0605e",
   "metadata": {},
   "source": [
    "#### 5)Use Newton's method to approximate the first positive solution to the equation:5sin(x)=x\n",
    "#### Let x0=2 be the initial approximation. Find the next few approximations accurate to at least 6 decimal places.\n",
    "#### x1,x2,x3,x4,x5  is about ?\n"
   ]
  },
  {
   "cell_type": "code",
   "execution_count": 24,
   "id": "ae2cf027-0419-4441-84dc-6a5240a4e333",
   "metadata": {},
   "outputs": [
    {
     "name": "stdout",
     "output_type": "stream",
     "text": [
      "x1 = 2.826585\n",
      "x2 = 2.60457\n",
      "x3 = 2.595758\n",
      "x4 = 2.595739\n",
      "x5 = 2.595739\n"
     ]
    }
   ],
   "source": [
    "import math\n",
    "\n",
    "# Define the function and its derivative\n",
    "def f(x):\n",
    "    return 5 * math.sin(x) - x\n",
    "\n",
    "def f_prime(x):\n",
    "    return 5 * math.cos(x) - 1\n",
    "\n",
    "# Initial guess\n",
    "x = 2\n",
    "\n",
    "# Store approximations\n",
    "approximations = []\n",
    "\n",
    "# Perform 5 iterations\n",
    "for i in range(5):\n",
    "    x_new = x - f(x) / f_prime(x)\n",
    "    approximations.append(round(x_new, 6))  # Round to 6 decimal places\n",
    "    x = x_new  # Update x for the next iteration\n",
    "\n",
    "# Display the results\n",
    "for i, xi in enumerate(approximations, start=1):\n",
    "    print(f\"x{i} = {xi}\")\n"
   ]
  },
  {
   "cell_type": "code",
   "execution_count": null,
   "id": "a6f102e9-1ebe-46a9-8ddb-c9788081b6bb",
   "metadata": {},
   "outputs": [],
   "source": []
  }
 ],
 "metadata": {
  "kernelspec": {
   "display_name": "Python 3 (ipykernel)",
   "language": "python",
   "name": "python3"
  },
  "language_info": {
   "codemirror_mode": {
    "name": "ipython",
    "version": 3
   },
   "file_extension": ".py",
   "mimetype": "text/x-python",
   "name": "python",
   "nbconvert_exporter": "python",
   "pygments_lexer": "ipython3",
   "version": "3.12.9"
  }
 },
 "nbformat": 4,
 "nbformat_minor": 5
}
