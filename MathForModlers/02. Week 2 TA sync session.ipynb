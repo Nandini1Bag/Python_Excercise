{
 "cells": [
  {
   "cell_type": "markdown",
   "id": "18a0f258",
   "metadata": {},
   "source": [
    "# Week 02 : TA sync session "
   ]
  },
  {
   "cell_type": "markdown",
   "id": "ec8c91ed",
   "metadata": {
    "heading_collapsed": true
   },
   "source": [
    "## 2.0 Agenda"
   ]
  },
  {
   "cell_type": "markdown",
   "id": "c313b934",
   "metadata": {
    "hidden": true
   },
   "source": [
    "We will be covering below topics today:\n",
    "1. Matrix arithmatics \n",
    "2. Operations on matrices\n",
    "3. Various ways to find an inverse of a Matrix\n",
    "4. Implement Cramer's rule and\n",
    "5. Eigenvalues & Eigenvectors of a matrix"
   ]
  },
  {
   "cell_type": "markdown",
   "id": "0755c901",
   "metadata": {
    "heading_collapsed": true
   },
   "source": [
    "## 2.1 Matrix arithmatics"
   ]
  },
  {
   "cell_type": "code",
   "execution_count": 1,
   "id": "8cf3b824",
   "metadata": {
    "ExecuteTime": {
     "end_time": "2024-10-04T14:37:04.687821Z",
     "start_time": "2024-10-04T14:37:04.681618Z"
    },
    "hidden": true
   },
   "outputs": [],
   "source": [
    "# Import numeric python package\n",
    "import numpy as np"
   ]
  },
  {
   "cell_type": "code",
   "execution_count": 2,
   "id": "64868a57",
   "metadata": {
    "ExecuteTime": {
     "end_time": "2024-10-04T14:37:50.458113Z",
     "start_time": "2024-10-04T14:37:50.428554Z"
    },
    "hidden": true
   },
   "outputs": [
    {
     "name": "stdout",
     "output_type": "stream",
     "text": [
      "The matrix A:\n",
      " [[1 2]\n",
      " [3 4]]\n"
     ]
    }
   ],
   "source": [
    "#Let us define a matrix to start with\n",
    "A = np.array([[1, 2], [3, 4]])\n",
    "print('The matrix A:\\n', A)"
   ]
  },
  {
   "cell_type": "code",
   "execution_count": 3,
   "id": "f047a2ca",
   "metadata": {
    "ExecuteTime": {
     "end_time": "2024-10-04T14:38:19.922802Z",
     "start_time": "2024-10-04T14:38:19.892951Z"
    },
    "hidden": true
   },
   "outputs": [
    {
     "name": "stdout",
     "output_type": "stream",
     "text": [
      "Addition of 2*A and b:\n",
      " [[ 7  9]\n",
      " [11 13]]\n"
     ]
    }
   ],
   "source": [
    "# Adding Matrix with a scaler\n",
    "b = 5\n",
    "print('Addition of 2*A and b:\\n',2*A+b)"
   ]
  },
  {
   "cell_type": "code",
   "execution_count": 4,
   "id": "0ca7b0cb",
   "metadata": {
    "ExecuteTime": {
     "end_time": "2024-10-04T14:42:13.370619Z",
     "start_time": "2024-10-04T14:42:13.359229Z"
    },
    "hidden": true
   },
   "outputs": [
    {
     "name": "stdout",
     "output_type": "stream",
     "text": [
      "Subtraction 3*C from 2*A and :\n",
      " [[-4 -2]\n",
      " [-3 -1]]\n"
     ]
    }
   ],
   "source": [
    "#Adding Matrix of different sizes (broadcasting principle explained)\n",
    "#Ref: https://numpy.org/doc/stable/user/basics.broadcasting.html\n",
    "C = np.array([[2],[3]])\n",
    "print('Subtraction 3*C from 2*A and :\\n',2*A-3*C)"
   ]
  },
  {
   "cell_type": "code",
   "execution_count": 5,
   "id": "f99b10cb",
   "metadata": {
    "ExecuteTime": {
     "end_time": "2024-10-04T14:42:29.339767Z",
     "start_time": "2024-10-04T14:42:29.333721Z"
    },
    "hidden": true
   },
   "outputs": [
    {
     "name": "stdout",
     "output_type": "stream",
     "text": [
      "Multiply A & C:\n",
      " [[ 2  4]\n",
      " [ 9 12]]\n"
     ]
    }
   ],
   "source": [
    "#Using cell broadcasting in multiplication\n",
    "print('Multiply A & C:\\n',A*C)"
   ]
  },
  {
   "cell_type": "code",
   "execution_count": 6,
   "id": "c4d46795",
   "metadata": {
    "ExecuteTime": {
     "end_time": "2024-10-04T14:45:10.727958Z",
     "start_time": "2024-10-04T14:45:09.691589Z"
    },
    "hidden": true
   },
   "outputs": [],
   "source": [
    "# Where the cell broadcasting will not work\n",
    "D = np.array([[1,2,3],[4,5,6],[7,8,9]])\n",
    "#print('Addition of A and D:\\n',A+D)"
   ]
  },
  {
   "cell_type": "code",
   "execution_count": 7,
   "id": "6db4cec6",
   "metadata": {
    "ExecuteTime": {
     "end_time": "2024-10-04T14:45:54.911352Z",
     "start_time": "2024-10-04T14:45:54.902631Z"
    },
    "hidden": true
   },
   "outputs": [
    {
     "name": "stdout",
     "output_type": "stream",
     "text": [
      "Divide 5*D to 3*E:\n",
      " [[6.         3.3        2.4       ]\n",
      " [1.5        1.32       1.2       ]\n",
      " [0.85714286 0.825      0.8       ]]\n"
     ]
    }
   ],
   "source": [
    "# Broadcast will work here\n",
    "E =np.array([10,11,12])\n",
    "print('Divide 5*D to 3*E:\\n',(3*E)/(5*D))"
   ]
  },
  {
   "cell_type": "markdown",
   "id": "99482cd2",
   "metadata": {
    "heading_collapsed": true
   },
   "source": [
    "## 2.2 Matrix Operations"
   ]
  },
  {
   "cell_type": "markdown",
   "id": "315045be",
   "metadata": {
    "heading_collapsed": true,
    "hidden": true
   },
   "source": [
    "### 2.2.1 Matrix multiplication"
   ]
  },
  {
   "cell_type": "markdown",
   "id": "a7b3fee8",
   "metadata": {
    "hidden": true
   },
   "source": [
    "Rules for matrix multiplication:\n",
    "\n",
    "- When A has size of mxn, B has size of nxo => A multiplied by B will have size mxo \n",
    "- No of columns of a multiplier is the same as no of rows of a multiplicant\n",
    "- A@B is generally not same as B@A"
   ]
  },
  {
   "cell_type": "code",
   "execution_count": 8,
   "id": "eac5f654",
   "metadata": {
    "ExecuteTime": {
     "end_time": "2024-10-04T14:51:23.211075Z",
     "start_time": "2024-10-04T14:51:23.203411Z"
    },
    "hidden": true
   },
   "outputs": [
    {
     "name": "stdout",
     "output_type": "stream",
     "text": [
      "Matrix A:\n",
      " [[1 2 3]\n",
      " [4 5 6]]\n",
      "\n",
      "\n",
      "Matrix B:\n",
      " [[1 2]\n",
      " [3 4]\n",
      " [5 6]]\n",
      "\n",
      "\n",
      "Multiplication of A@B:\n",
      " [[22 28]\n",
      " [49 64]]\n",
      "\n",
      "\n",
      "Multiplication of B@A:\n",
      " [[ 9 12 15]\n",
      " [19 26 33]\n",
      " [29 40 51]]\n"
     ]
    }
   ],
   "source": [
    "A = np.array([[1,2,3],[4,5,6]])\n",
    "B = np.array([[1,2],[3,4],[5,6]])\n",
    "print('Matrix A:\\n',A)\n",
    "print('\\n\\nMatrix B:\\n',B)\n",
    "print('\\n\\nMultiplication of A@B:\\n',A@B)\n",
    "print('\\n\\nMultiplication of B@A:\\n',B@A)\n"
   ]
  },
  {
   "cell_type": "code",
   "execution_count": 9,
   "id": "ba9df468",
   "metadata": {
    "ExecuteTime": {
     "end_time": "2024-10-04T14:53:01.257653Z",
     "start_time": "2024-10-04T14:53:01.249715Z"
    },
    "hidden": true
   },
   "outputs": [
    {
     "name": "stdout",
     "output_type": "stream",
     "text": [
      "Matrix A:\n",
      " [[1 2 3]\n",
      " [4 5 6]]\n",
      "\n",
      "\n",
      "Matrix B:\n",
      " [[1 2]\n",
      " [3 4]]\n",
      "\n",
      "\n",
      "Multiplication of B@A:\n",
      " [[ 9 12 15]\n",
      " [19 26 33]]\n"
     ]
    }
   ],
   "source": [
    "A = np.array([[1,2,3],[4,5,6]])\n",
    "B = np.array([[1,2],[3,4]])\n",
    "print('Matrix A:\\n',A)\n",
    "print('\\n\\nMatrix B:\\n',B)\n",
    "#print('Multiplication of A@B:\\n',A@B)\n",
    "print('\\n\\nMultiplication of B@A:\\n',B@A)"
   ]
  },
  {
   "cell_type": "code",
   "execution_count": 10,
   "id": "fc98fa59",
   "metadata": {
    "ExecuteTime": {
     "end_time": "2024-10-04T14:53:44.026221Z",
     "start_time": "2024-10-04T14:53:44.017638Z"
    },
    "hidden": true
   },
   "outputs": [
    {
     "name": "stdout",
     "output_type": "stream",
     "text": [
      "Matrix A:\n",
      " [[1 2 3]\n",
      " [4 5 6]\n",
      " [7 8 9]]\n",
      "\n",
      "\n",
      "Matrix B:\n",
      " [[7 8 9]\n",
      " [4 5 6]\n",
      " [1 2 3]]\n",
      "Multiplication of A@B:\n",
      " [[ 18  24  30]\n",
      " [ 54  69  84]\n",
      " [ 90 114 138]]\n",
      "\n",
      "\n",
      "Multiplication of B@A:\n",
      " [[102 126 150]\n",
      " [ 66  81  96]\n",
      " [ 30  36  42]]\n"
     ]
    }
   ],
   "source": [
    "A = np.array([[1,2,3],[4,5,6],[7,8,9]])\n",
    "B = np.array([[7,8,9],[4,5,6],[1,2,3]])\n",
    "print('Matrix A:\\n',A)\n",
    "print('\\n\\nMatrix B:\\n',B)\n",
    "print('Multiplication of A@B:\\n',A@B)\n",
    "print('\\n\\nMultiplication of B@A:\\n',B@A)"
   ]
  },
  {
   "cell_type": "markdown",
   "id": "6e104ab7",
   "metadata": {
    "heading_collapsed": true,
    "hidden": true
   },
   "source": [
    "### 2.2.2 Matrix Transpose: Interchanging rows & columns:"
   ]
  },
  {
   "cell_type": "code",
   "execution_count": 11,
   "id": "7cbb6c19",
   "metadata": {
    "ExecuteTime": {
     "end_time": "2024-10-04T14:55:45.889543Z",
     "start_time": "2024-10-04T14:55:45.884143Z"
    },
    "hidden": true
   },
   "outputs": [
    {
     "name": "stdout",
     "output_type": "stream",
     "text": [
      "Matrix A:\n",
      " [[1 2 3]\n",
      " [4 5 6]]\n",
      "\n",
      "\n",
      "A transpose:\n",
      " [[1 4]\n",
      " [2 5]\n",
      " [3 6]]\n"
     ]
    }
   ],
   "source": [
    "A = np.array([[1,2,3],[4,5,6]])\n",
    "print(\"Matrix A:\\n\", A)\n",
    "print(\"\\n\\nA transpose:\\n\",A.T)\n"
   ]
  },
  {
   "cell_type": "markdown",
   "id": "7aae493a",
   "metadata": {
    "heading_collapsed": true,
    "hidden": true
   },
   "source": [
    "### 2.2.3 Properties of transpose function:"
   ]
  },
  {
   "cell_type": "markdown",
   "id": "a9f031d3",
   "metadata": {
    "ExecuteTime": {
     "end_time": "2024-03-31T11:19:42.830287Z",
     "start_time": "2024-03-31T11:19:42.783080Z"
    },
    "hidden": true
   },
   "source": [
    "\n",
    "Let 𝐴 and 𝐵 be matrices where the following operations are defined. Then:\n",
    "- (𝐴+𝐵)^T=A^T+B^T and (𝐴−𝐵)^T=A^T−B^T\n",
    "- (𝑘𝐴)^𝑇=𝑘𝐴^𝑇\n",
    "- (𝐴x𝐵)^𝑇=(𝐵^𝑇)x(𝐴^𝑇)\n",
    "- (𝐴^(−1) )^𝑇=(𝐴^𝑇 )^(−1)\n",
    "- (𝐴^𝑇 )^𝑇=𝐴\n"
   ]
  },
  {
   "cell_type": "code",
   "execution_count": 12,
   "id": "4b665adf",
   "metadata": {
    "ExecuteTime": {
     "end_time": "2024-10-04T14:57:56.949914Z",
     "start_time": "2024-10-04T14:57:56.910725Z"
    },
    "hidden": true
   },
   "outputs": [
    {
     "name": "stdout",
     "output_type": "stream",
     "text": [
      "Matrix A:\n",
      " [[1 2 3]\n",
      " [4 5 6]]\n",
      "\n",
      "\n",
      "Matrix B:\n",
      " [[2 3 4]\n",
      " [5 6 7]]\n",
      "\n",
      "(𝐴+𝐵):\n",
      " [[ 3  5  7]\n",
      " [ 9 11 13]]\n",
      "\n",
      "\n",
      "(𝐴+𝐵)^T:\n",
      " [[ 3  9]\n",
      " [ 5 11]\n",
      " [ 7 13]]\n",
      "\n",
      "Matrix A.T:\n",
      " [[1 4]\n",
      " [2 5]\n",
      " [3 6]]\n",
      "\n",
      "\n",
      "Matrix B.T:\n",
      " [[2 5]\n",
      " [3 6]\n",
      " [4 7]]\n",
      "\n",
      "\n",
      "A^T+B^T:\n",
      " [[ 3  9]\n",
      " [ 5 11]\n",
      " [ 7 13]]\n"
     ]
    }
   ],
   "source": [
    "# Testing property 1: (𝐴+𝐵)^T=A^T+B^T \n",
    "A = np.array([[1,2,3],[4,5,6]])\n",
    "B = np.array([[2,3,4],[5,6,7]])\n",
    "print('Matrix A:\\n',A)\n",
    "print('\\n\\nMatrix B:\\n',B)\n",
    "print(\"\\n(𝐴+𝐵):\\n\",(A+B))\n",
    "print (\"\\n\\n(𝐴+𝐵)^T:\\n\",(A+B).T)\n",
    "print('\\nMatrix A.T:\\n',A.T)\n",
    "print('\\n\\nMatrix B.T:\\n',B.T)\n",
    "print(\"\\n\\nA^T+B^T:\\n\",A.T + B.T)"
   ]
  },
  {
   "cell_type": "code",
   "execution_count": 13,
   "id": "9e98fa60",
   "metadata": {
    "ExecuteTime": {
     "end_time": "2024-10-04T14:58:17.306470Z",
     "start_time": "2024-10-04T14:58:17.300551Z"
    },
    "hidden": true
   },
   "outputs": [
    {
     "name": "stdout",
     "output_type": "stream",
     "text": [
      "Matrix A:\n",
      " [[1 2 3]\n",
      " [4 5 6]]\n",
      "\n",
      "(kA):\n",
      " [[ 3  6  9]\n",
      " [12 15 18]]\n",
      "\n",
      "\n",
      "(kA)^T:\n",
      " [[ 3 12]\n",
      " [ 6 15]\n",
      " [ 9 18]]\n",
      "\n",
      "\n",
      "k(A^T):\n",
      " [[ 3 12]\n",
      " [ 6 15]\n",
      " [ 9 18]]\n"
     ]
    }
   ],
   "source": [
    "# Testing property 2: (𝑘𝐴)^𝑇=𝑘𝐴^𝑇\n",
    "k = 3\n",
    "print('Matrix A:\\n',A)\n",
    "print(\"\\n(kA):\\n\",(k*A))\n",
    "print (\"\\n\\n(kA)^T:\\n\",(k*A).T)\n",
    "print(\"\\n\\nk(A^T):\\n\",k*(A.T))"
   ]
  },
  {
   "cell_type": "code",
   "execution_count": 14,
   "id": "9733706a",
   "metadata": {
    "ExecuteTime": {
     "end_time": "2024-10-04T14:58:43.997161Z",
     "start_time": "2024-10-04T14:58:43.985088Z"
    },
    "hidden": true
   },
   "outputs": [
    {
     "name": "stdout",
     "output_type": "stream",
     "text": [
      "Matrix A:\n",
      " [[1 2 3]\n",
      " [4 5 6]]\n",
      "\n",
      "\n",
      "Matrix B:\n",
      " [[2 3]\n",
      " [4 5]\n",
      " [6 7]]\n",
      "\n",
      "\n",
      "(𝐴@𝐵):\n",
      " [[28 34]\n",
      " [64 79]]\n",
      "\n",
      "\n",
      "(𝐴@𝐵)^T:\n",
      " [[28 64]\n",
      " [34 79]]\n",
      "\n",
      "\n",
      "(B^T)@(A^T):\n",
      " [[28 64]\n",
      " [34 79]]\n"
     ]
    }
   ],
   "source": [
    "# Testing property 3: (𝐴x𝐵)^𝑇=𝐵^𝑇x𝐴^𝑇\n",
    "A = np.array([[1,2,3],[4,5,6]])\n",
    "B = np.array([[2,3],[4,5],[6,7]])\n",
    "print('Matrix A:\\n',A)\n",
    "print('\\n\\nMatrix B:\\n',B)\n",
    "print(\"\\n\\n(𝐴@𝐵):\\n\",(A@B))\n",
    "print (\"\\n\\n(𝐴@𝐵)^T:\\n\",(A@B).T)\n",
    "print(\"\\n\\n(B^T)@(A^T):\\n\",(B.T)@(A.T))"
   ]
  },
  {
   "cell_type": "code",
   "execution_count": 15,
   "id": "91bd6b2d",
   "metadata": {
    "ExecuteTime": {
     "end_time": "2024-10-04T14:59:08.851985Z",
     "start_time": "2024-10-04T14:59:08.797986Z"
    },
    "hidden": true
   },
   "outputs": [
    {
     "name": "stdout",
     "output_type": "stream",
     "text": [
      "(A):\n",
      " [[ 4  3  2]\n",
      " [-2  2  3]\n",
      " [ 3 -5  2]]\n",
      "\n",
      "\n",
      "(𝐴^(−1) )^𝑇:\n",
      " [[ 0.15447154  0.10569106  0.03252033]\n",
      " [-0.1300813   0.01626016  0.23577236]\n",
      " [ 0.04065041 -0.1300813   0.11382114]]\n",
      "\n",
      "\n",
      "(𝐴^𝑇 )^(−1):\n",
      " [[ 0.15447154  0.10569106  0.03252033]\n",
      " [-0.1300813   0.01626016  0.23577236]\n",
      " [ 0.04065041 -0.1300813   0.11382114]]\n"
     ]
    }
   ],
   "source": [
    "# Testing property 4: (𝐴^(−1) )^𝑇=(𝐴^𝑇 )^(−1)\n",
    "A = np.array([[4, 3, 2], [-2, 2, 3], [3, -5, 2]])\n",
    "print(\"(A):\\n\",(A))\n",
    "print (\"\\n\\n(𝐴^(−1) )^𝑇:\\n\",(np.linalg.inv(A)).T)\n",
    "print(\"\\n\\n(𝐴^𝑇 )^(−1):\\n\",(np.linalg.inv(A.T)))"
   ]
  },
  {
   "cell_type": "code",
   "execution_count": 16,
   "id": "6fc77b88",
   "metadata": {
    "ExecuteTime": {
     "end_time": "2024-10-04T15:03:03.966565Z",
     "start_time": "2024-10-04T15:03:03.958091Z"
    },
    "hidden": true
   },
   "outputs": [
    {
     "data": {
      "text/plain": [
       "array([[ True,  True,  True],\n",
       "       [ True,  True,  True],\n",
       "       [ True,  True,  True]])"
      ]
     },
     "execution_count": 16,
     "metadata": {},
     "output_type": "execute_result"
    }
   ],
   "source": [
    "P = np.round(np.linalg.inv(A).T,6)\n",
    "Q = np.round(np.linalg.inv(A.T),6)\n",
    "P==Q"
   ]
  },
  {
   "cell_type": "code",
   "execution_count": 17,
   "id": "d6c84951",
   "metadata": {
    "ExecuteTime": {
     "end_time": "2024-10-04T15:03:07.044127Z",
     "start_time": "2024-10-04T15:03:07.036092Z"
    },
    "hidden": true
   },
   "outputs": [
    {
     "data": {
      "text/plain": [
       "np.True_"
      ]
     },
     "execution_count": 17,
     "metadata": {},
     "output_type": "execute_result"
    }
   ],
   "source": [
    "(P==Q).all()"
   ]
  },
  {
   "cell_type": "code",
   "execution_count": 18,
   "id": "ee46b9c3",
   "metadata": {
    "ExecuteTime": {
     "end_time": "2024-10-04T15:03:14.869046Z",
     "start_time": "2024-10-04T15:03:14.864206Z"
    },
    "hidden": true
   },
   "outputs": [
    {
     "name": "stdout",
     "output_type": "stream",
     "text": [
      "Matrix A:\n",
      " [[ 4  3  2]\n",
      " [-2  2  3]\n",
      " [ 3 -5  2]]\n",
      "\n",
      "\n",
      "A transpose:\n",
      " [[ 4 -2  3]\n",
      " [ 3  2 -5]\n",
      " [ 2  3  2]]\n",
      "\n",
      "\n",
      "Transpose of A transpose:\n",
      " [[ 4  3  2]\n",
      " [-2  2  3]\n",
      " [ 3 -5  2]]\n"
     ]
    }
   ],
   "source": [
    "# Testing property 5: (𝐴^𝑇 )^𝑇=𝐴\n",
    "\n",
    "print(\"Matrix A:\\n\", A)\n",
    "print(\"\\n\\nA transpose:\\n\",A.T)\n",
    "print(\"\\n\\nTranspose of A transpose:\\n\",A.T.T)"
   ]
  },
  {
   "cell_type": "code",
   "execution_count": 19,
   "id": "19403630",
   "metadata": {
    "ExecuteTime": {
     "end_time": "2024-10-04T15:03:28.619944Z",
     "start_time": "2024-10-04T15:03:28.588883Z"
    },
    "hidden": true
   },
   "outputs": [
    {
     "data": {
      "text/plain": [
       "np.True_"
      ]
     },
     "execution_count": 19,
     "metadata": {},
     "output_type": "execute_result"
    }
   ],
   "source": [
    "(A==A.T.T).all()"
   ]
  },
  {
   "cell_type": "markdown",
   "id": "b8b860ac",
   "metadata": {
    "heading_collapsed": true
   },
   "source": [
    "## 2.3 Matrix inverse "
   ]
  },
  {
   "cell_type": "markdown",
   "id": "f8c654f3",
   "metadata": {
    "heading_collapsed": true,
    "hidden": true
   },
   "source": [
    "### 2.3.1 Matrix Inverse - by augmented matrix method"
   ]
  },
  {
   "cell_type": "markdown",
   "id": "76585b8a",
   "metadata": {
    "hidden": true
   },
   "source": [
    "- A- is said to be inverse of a matrix A, when A-@A = I, where I is an identity matrix\n",
    "- The determinant will be reciprocal in case of the inverse matrix. "
   ]
  },
  {
   "cell_type": "code",
   "execution_count": 20,
   "id": "a3ffa428",
   "metadata": {
    "ExecuteTime": {
     "end_time": "2024-10-04T15:07:17.965432Z",
     "start_time": "2024-10-04T15:07:17.940052Z"
    },
    "hidden": true
   },
   "outputs": [],
   "source": [
    "# write rows in reduced row echelon (rref) form\n",
    "#Ref: https://towardsdatascience.com/find-the-inverse-of-a-matrix-using-python-3aeb05b48308\n",
    "\n",
    "def invert_matrix(M):\n",
    "    # store dimension\n",
    "    n = M.shape[0]\n",
    "\n",
    "    # A must be square with non-zero determinant\n",
    "    # assert np.linalg.det(M) != 0\n",
    "\n",
    "    # identity matrix with same shape as A\n",
    "    I = np.identity(n=n)\n",
    "\n",
    "    # form the augmented matrix by concatenating A and I\n",
    "    M = np.concatenate((M, I), axis=1)\n",
    "\n",
    "    # move all zeros to buttom of matrix\n",
    "    M = np.concatenate((M[np.any(M != 0, axis=1)], M[np.all(M == 0, axis=1)]), axis=0)\n",
    "\n",
    "    # iterate over matrix rows\n",
    "    for i in range(0, n):\n",
    "\n",
    "        # initialize row-swap iterator\n",
    "        j = 1\n",
    "\n",
    "        # select pivot value\n",
    "        pivot = M[i][i]\n",
    "\n",
    "        # find next non-zero leading coefficient\n",
    "        while pivot == 0 and i + j < n:\n",
    "            # perform row swap operation\n",
    "            M[[i, i + j]] = M[[i + j, i]]\n",
    "\n",
    "            # incrememnt row-swap iterator\n",
    "            j += 1\n",
    "\n",
    "            # get new pivot\n",
    "            pivot = M[i][i]\n",
    "\n",
    "        # if pivot is zero, remaining rows are all zeros\n",
    "        if pivot == 0:\n",
    "            # return inverse matrix\n",
    "            return M[:, n:]\n",
    "\n",
    "        # extract row\n",
    "        row = M[i]\n",
    "\n",
    "        # get 1 along the diagonal\n",
    "        M[i] = row / pivot\n",
    "\n",
    "        # iterate over all rows except pivot to get augmented matrix into reduced row echelon form\n",
    "        for j in [k for k in range(0, n) if k != i]:\n",
    "            # subtract current row from remaining rows\n",
    "            M[j] = M[j] - M[i] * M[j][i]\n",
    "\n",
    "    # return inverse matrix\n",
    "    return M[:, n:]\n",
    "    "
   ]
  },
  {
   "cell_type": "markdown",
   "id": "6e40977b-7077-4018-84a9-3e3a8eb9cffd",
   "metadata": {},
   "source": [
    "#### Explanation of the above function:\n",
    "\n",
    "- def invert_matrix(M):: Defines a function named invert_matrix that takes one argument M, which is expected to be a NumPy array representing a matrix.\n",
    "n = M.shape[0]: Stores the number of rows (which should be equal to the number of columns for a square matrix) of the input matrix M in the variable n.\n",
    "- assert np.linalg.det(M) != 0: This is a commented-out line that would have asserted (raised an error if false) that the determinant of the matrix M is not zero. A non-zero determinant is a requirement for a matrix to be invertible.\n",
    "- I = np.identity(n=n): Creates an identity matrix I of size n x n. An identity matrix has ones on the main diagonal and zeros elsewhere.\n",
    "- M = np.concatenate((M, I), axis=1): Horizontally concatenates the original matrix M with the identity matrix I. This forms an augmented matrix [M | I].\n",
    "- M = np.concatenate((M[np.any(M != 0, axis=1)], M[np.all(M == 0, axis=1)]), axis=0): Rearranges the rows of the augmented matrix M. It moves all rows that contain at least one non-zero element to the top and all rows that are entirely zero to the bottom. This is a preprocessing step for the Gaussian elimination process.\n",
    "for i in range(0, n):: This loop iterates through each row of the matrix M (from the first row, index 0, to the last row, index n-1). The variable i represents the current row being processed as the pivot row.\n",
    "j = 1: Initializes a variable j to 1. This variable will be used as an offset for finding a non-zero pivot below the current row.\n",
    "- pivot = M[i][i]: Selects the element at the current row i and the current column i as the pivot. The goal is to make this pivot value 1 and use it to eliminate other elements in the same column.\n",
    "- while pivot == 0 and i + j < n:: This while loop continues as long as the current pivot is zero and there are rows below the current row (i + j < n) to potentially swap with.\n",
    "- M[[i, i + j]] = M[[i + j, i]]: Performs a row swap. It exchanges the current row i with the row i + j. This is done to find a row with a non-zero element in the pivot column.\n",
    "- j += 1: Increments j to check the next row down for a non-zero pivot.\n",
    "pivot = M[i][i]: After a potential row swap, the pivot value is updated to the element at the current row i and column i.\n",
    "- if pivot == 0:: If, after checking all rows below, the pivot is still zero, it means the original matrix is likely singular (non-invertible or has a zero determinant in the context of the original commented-out assertion).\n",
    "- return M[:, n:]: If the pivot is zero, the function returns the right half of the augmented matrix (from column n onwards). In a correctly invertible matrix scenario, this portion would be the inverse. However, if a zero pivot is encountered, the Gaussian elimination couldn't be completed properly.\n",
    "- row = M[i]: Extracts the current row i of the matrix M into the variable row.\n",
    "- M[i] = row / pivot: Divides every element in the current row by the pivot value. This normalizes the pivot element to 1.\n",
    "- for j in [k for k in range(0, n) if k != i]:: This loop iterates through all rows of the matrix M except the current pivot row i. The variable j represents the row being modified.\n",
    "- M[j] = M[j] - M[i] * M[j][i]: This is the elimination step. It subtracts a multiple of the current pivot row (M[i]) from the current row j. The multiple used is M[j][i], which is the element in row j and the pivot column i. The goal is to make all elements in the pivot column (except the pivot itself, which is 1) equal to zero. This process transforms the left side of the augmented matrix towards the identity matrix.\n",
    "- return M[:, n:]: After the outer loop completes (meaning all rows have been processed to get the left side of the augmented matrix into reduced row echelon form), the function returns the right half of the augmented matrix (from column n onwards). At this point, if the original matrix was invertible, this right half will be its inverse.\n"
   ]
  },
  {
   "cell_type": "code",
   "execution_count": 21,
   "id": "e77b323f",
   "metadata": {
    "ExecuteTime": {
     "end_time": "2024-10-04T15:09:22.258598Z",
     "start_time": "2024-10-04T15:09:22.250737Z"
    },
    "hidden": true
   },
   "outputs": [
    {
     "name": "stdout",
     "output_type": "stream",
     "text": [
      "Matrix A:\n",
      " [[1 2]\n",
      " [3 4]]\n",
      "\n",
      "\n",
      "Inverse matrix as per the above function:\n",
      " [[-2.   1. ]\n",
      " [ 1.5 -0.5]] \n",
      "\n",
      "Inverse matrix as per numpy:\n",
      " [[-2.   1. ]\n",
      " [ 1.5 -0.5]]\n"
     ]
    }
   ],
   "source": [
    "A = np.array([[1,2],[3,4]])\n",
    "#A = np.array([[1, 6, 1,2], [0, 1, 1,3], [1, 1, 5,2], [0, 6, 1,3]])\n",
    "#A = np.array([[5,4,3,2,1],[4,3,2,1,5],[3,2,9,5,4],[2,1,5,4,3],[1,2,3,4,5]])\n",
    "print('Matrix A:\\n',A)\n",
    "result_1 = invert_matrix(A)\n",
    "print('\\n\\nInverse matrix as per the above function:\\n',np.round(result_1,3),\n",
    "      '\\n\\nInverse matrix as per numpy:\\n',np.round(np.linalg.inv(A),3))\n"
   ]
  },
  {
   "cell_type": "code",
   "execution_count": 22,
   "id": "980d8bf8",
   "metadata": {
    "ExecuteTime": {
     "end_time": "2024-10-04T15:10:23.087700Z",
     "start_time": "2024-10-04T15:10:23.077640Z"
    },
    "hidden": true
   },
   "outputs": [
    {
     "data": {
      "text/plain": [
       "np.True_"
      ]
     },
     "execution_count": 22,
     "metadata": {},
     "output_type": "execute_result"
    }
   ],
   "source": [
    "(np.round(result_1,3) == np.round(np.linalg.inv(A),3)).all()"
   ]
  },
  {
   "cell_type": "code",
   "execution_count": 23,
   "id": "a634a067",
   "metadata": {
    "ExecuteTime": {
     "end_time": "2024-10-04T15:11:02.198570Z",
     "start_time": "2024-10-04T15:11:02.192245Z"
    },
    "hidden": true
   },
   "outputs": [
    {
     "name": "stdout",
     "output_type": "stream",
     "text": [
      "\n",
      "Comparision: True\n"
     ]
    }
   ],
   "source": [
    "#Let us learn to make comparision rather than doing it manually\n",
    "print('\\nComparision:', (np.round(result_1,3)==np.round(np.linalg.inv(A),3)).all())"
   ]
  },
  {
   "cell_type": "code",
   "execution_count": 24,
   "id": "06708e81",
   "metadata": {
    "ExecuteTime": {
     "end_time": "2024-10-04T15:11:25.452503Z",
     "start_time": "2024-10-04T15:11:25.438604Z"
    },
    "hidden": true
   },
   "outputs": [
    {
     "name": "stdout",
     "output_type": "stream",
     "text": [
      "Multiply A with A-:\n",
      " [[1. 0.]\n",
      " [0. 1.]]\n"
     ]
    }
   ],
   "source": [
    "#Let us multiply with original matrix to find the result\n",
    "print(\"Multiply A with A-:\\n\", np.round(A@result_1,3))"
   ]
  },
  {
   "cell_type": "markdown",
   "id": "f72b2520",
   "metadata": {
    "heading_collapsed": true,
    "hidden": true
   },
   "source": [
    "### 2.3.2 Matrix inverse by augmented matrix method using sympy"
   ]
  },
  {
   "cell_type": "code",
   "execution_count": 25,
   "id": "53d7d86a",
   "metadata": {
    "ExecuteTime": {
     "end_time": "2024-10-04T15:13:19.609715Z",
     "start_time": "2024-10-04T15:13:17.588789Z"
    },
    "hidden": true
   },
   "outputs": [
    {
     "name": "stdout",
     "output_type": "stream",
     "text": [
      "Original augmented matrix:\n"
     ]
    },
    {
     "data": {
      "text/latex": [
       "$\\displaystyle \\left[\\begin{matrix}4 & 3 & 1 & 0\\\\-5 & 9 & 0 & 1\\end{matrix}\\right]$"
      ],
      "text/plain": [
       "Matrix([\n",
       "[ 4, 3, 1, 0],\n",
       "[-5, 9, 0, 1]])"
      ]
     },
     "metadata": {},
     "output_type": "display_data"
    },
    {
     "name": "stdout",
     "output_type": "stream",
     "text": [
      "\n",
      "Transformed augmented matrix in Reduced Echelon Form:\n"
     ]
    },
    {
     "data": {
      "text/latex": [
       "$\\displaystyle \\left[\\begin{matrix}1 & 0 & \\frac{3}{17} & - \\frac{1}{17}\\\\0 & 1 & \\frac{5}{51} & \\frac{4}{51}\\end{matrix}\\right]$"
      ],
      "text/plain": [
       "Matrix([\n",
       "[1, 0, 3/17, -1/17],\n",
       "[0, 1, 5/51,  4/51]])"
      ]
     },
     "metadata": {},
     "output_type": "display_data"
    }
   ],
   "source": [
    "import sympy as sym\n",
    "augmented_matrix = sym.Matrix([[4, 3, 1, 0], [-5, 9, 0, 1]])\n",
    "\n",
    "print('Original augmented matrix:')\n",
    "display(augmented_matrix)\n",
    "\n",
    "reduced_echlon_form = augmented_matrix.rref()[0]\n",
    "\n",
    "print('\\nTransformed augmented matrix in Reduced Echelon Form:')\n",
    "display(reduced_echlon_form)"
   ]
  },
  {
   "cell_type": "markdown",
   "id": "d7e660e4",
   "metadata": {
    "heading_collapsed": true,
    "hidden": true
   },
   "source": [
    "### 2.3.3 Find matrix inverse by calculating Adjugate & determinant of the matrix"
   ]
  },
  {
   "cell_type": "markdown",
   "id": "a6344ea0",
   "metadata": {
    "hidden": true
   },
   "source": [
    "We can also find an inverse of a matrix using the below formulae:\n",
    "\n",
    "    Ainv = Adjugate(A)/Determinant(A)\n",
    "    \n",
    "Let us look at its example through a 2D matrix:"
   ]
  },
  {
   "cell_type": "code",
   "execution_count": 26,
   "id": "2ab986e8",
   "metadata": {
    "ExecuteTime": {
     "end_time": "2024-10-04T15:17:25.529358Z",
     "start_time": "2024-10-04T15:17:25.502750Z"
    },
    "hidden": true
   },
   "outputs": [
    {
     "name": "stdout",
     "output_type": "stream",
     "text": [
      "[[-2.   1. ]\n",
      " [ 1.5 -0.5]]\n"
     ]
    }
   ],
   "source": [
    "#Now, let us find inverse of 2D matrix through determinant and adjugate\n",
    "def matrix_2d_inv(A):\n",
    "    '''\n",
    "    This is a simple function to return the inverse of a 2 dimensional matrix\n",
    "    \n",
    "    '''\n",
    "    #Separate each element of the matrix\n",
    "    [[a,b],[c,d]] = A\n",
    "    \n",
    "    # Finding determinant for the inverse matrix\n",
    "    det = (a*d - b*c)\n",
    "    adjugate = ([[d,-b],[-c,a]])\n",
    "    \n",
    "    if det==0:\n",
    "        print(\"Error! a*d is equal to b*c. Inverse of this matrix is not possible\")\n",
    "        return None \n",
    "    else:\n",
    "        return adjugate/det\n",
    "    \n",
    "\n",
    "#Find inverse ofg a matrix A defined above\n",
    "A = np.array([[1, 2], [3, 4]])\n",
    "print(matrix_2d_inv(A))"
   ]
  },
  {
   "cell_type": "code",
   "execution_count": 27,
   "id": "5c151a97",
   "metadata": {
    "ExecuteTime": {
     "end_time": "2024-10-04T15:17:54.748501Z",
     "start_time": "2024-10-04T15:17:54.741442Z"
    },
    "hidden": true
   },
   "outputs": [
    {
     "name": "stdout",
     "output_type": "stream",
     "text": [
      "[[1. 0.]\n",
      " [0. 1.]]\n"
     ]
    }
   ],
   "source": [
    "#Validate the inverse matrix function\n",
    "print(matrix_2d_inv(A)@A)"
   ]
  },
  {
   "cell_type": "code",
   "execution_count": 28,
   "id": "601c7be9",
   "metadata": {
    "ExecuteTime": {
     "end_time": "2024-10-04T15:18:34.735504Z",
     "start_time": "2024-10-04T15:18:34.709443Z"
    },
    "hidden": true
   },
   "outputs": [
    {
     "name": "stdout",
     "output_type": "stream",
     "text": [
      "-2.0\n",
      "[[1 2]\n",
      " [3 4]]\n"
     ]
    }
   ],
   "source": [
    "# Standard way to find the determinant of a matrix\n",
    "print(np.round(np.linalg.det(A),3))\n",
    "print(A)"
   ]
  },
  {
   "cell_type": "code",
   "execution_count": 29,
   "id": "690ea725",
   "metadata": {
    "ExecuteTime": {
     "end_time": "2024-10-04T15:18:10.150896Z",
     "start_time": "2024-10-04T15:18:10.145386Z"
    },
    "hidden": true
   },
   "outputs": [
    {
     "name": "stdout",
     "output_type": "stream",
     "text": [
      "Error! a*d is equal to b*c. Inverse of this matrix is not possible\n",
      "None\n"
     ]
    }
   ],
   "source": [
    "# Let us force the error\n",
    "print(matrix_2d_inv([[0,0],[0,0]]))"
   ]
  },
  {
   "cell_type": "code",
   "execution_count": 30,
   "id": "6df37c57",
   "metadata": {
    "ExecuteTime": {
     "end_time": "2024-10-04T15:18:48.827626Z",
     "start_time": "2024-10-04T15:18:48.822273Z"
    },
    "hidden": true
   },
   "outputs": [
    {
     "name": "stdout",
     "output_type": "stream",
     "text": [
      "[[-2.   1. ]\n",
      " [ 1.5 -0.5]]\n"
     ]
    }
   ],
   "source": [
    "# Standard way to find inverse of a matrix\n",
    "print(np.linalg.inv(A))"
   ]
  },
  {
   "cell_type": "code",
   "execution_count": 31,
   "id": "e5fd5da6",
   "metadata": {
    "ExecuteTime": {
     "end_time": "2024-10-04T15:18:52.845630Z",
     "start_time": "2024-10-04T15:18:52.839198Z"
    },
    "hidden": true
   },
   "outputs": [
    {
     "name": "stdout",
     "output_type": "stream",
     "text": [
      "-0.5\n"
     ]
    }
   ],
   "source": [
    "# Find the determinant of inverse of a matrix\n",
    "print(np.round(np.linalg.det(np.linalg.inv(A)),3))"
   ]
  },
  {
   "cell_type": "code",
   "execution_count": 32,
   "id": "ea3b922e",
   "metadata": {
    "ExecuteTime": {
     "end_time": "2024-10-02T12:51:29.514083Z",
     "start_time": "2024-10-02T12:51:29.503415Z"
    },
    "hidden": true
   },
   "outputs": [
    {
     "name": "stdout",
     "output_type": "stream",
     "text": [
      "[[1. 2.]\n",
      " [3. 4.]]\n"
     ]
    }
   ],
   "source": [
    "# Finally, find inverse of inverse of a matrix for validation\n",
    "print(np.linalg.inv(np.linalg.inv(A)))"
   ]
  },
  {
   "cell_type": "markdown",
   "id": "e3bad800",
   "metadata": {
    "heading_collapsed": true,
    "hidden": true
   },
   "source": [
    "### 2.3.4 What is matrix minor and co-factors"
   ]
  },
  {
   "cell_type": "markdown",
   "id": "d5d02314",
   "metadata": {
    "hidden": true
   },
   "source": [
    "The minors and cofactors are useful to find the adjugate and inverse of a higher dimension matrix. The adjoint of a matrix is equal to the transpose of the cofactors of the elements of the given matrix.\n",
    "\n",
    "The minor of an element in a matrix is defined as the determinant obtained by deleting the row and column in which that element lies. For example, in the determinant,\n",
    "\n",
    "D = [[a11, a12, a13], [a21, a22, a23], [a31, a32, a33]]\n",
    "\n",
    "Minor of a12, called M12 is:\n",
    "M12 = [[a21, a23], [a31, a33]].\n",
    "\n",
    "and cofactor of a12 is:\n",
    "C12 = (-1)^(1+2)M12\n",
    "\n",
    "Note: D, M are not matrices, but consider them determinants. "
   ]
  },
  {
   "cell_type": "markdown",
   "id": "a3057df6",
   "metadata": {
    "heading_collapsed": true,
    "hidden": true
   },
   "source": [
    "### 2.3.5 Define function to get minor and co-factor of a matrix"
   ]
  },
  {
   "cell_type": "code",
   "execution_count": 33,
   "id": "05f5654e",
   "metadata": {
    "ExecuteTime": {
     "end_time": "2024-10-04T15:24:07.904380Z",
     "start_time": "2024-10-04T15:24:07.897479Z"
    },
    "hidden": true
   },
   "outputs": [],
   "source": [
    "# For solving below linear equation with three variables, let us define matrices \n",
    "# 4x + 3y + 2z = 25\n",
    "# -2x + 2y + 3z = -10\n",
    "# 3x -5y + 2z = -4\n",
    "\n",
    "A = np.array([[4, 3, 2], [-2, 2, 3], [3, -5, 2]])\n",
    "B = np.array([25, -10, -4])\n"
   ]
  },
  {
   "cell_type": "code",
   "execution_count": 34,
   "id": "0fd30d0f",
   "metadata": {
    "ExecuteTime": {
     "end_time": "2024-10-04T15:25:24.276267Z",
     "start_time": "2024-10-04T15:25:24.265091Z"
    },
    "hidden": true
   },
   "outputs": [
    {
     "name": "stdout",
     "output_type": "stream",
     "text": [
      "Matrix A:\n",
      " [[ 4  3  2]\n",
      " [-2  2  3]\n",
      " [ 3 -5  2]]\n",
      "\n",
      "Values of i,j: 1 2\n",
      "\n",
      "\n",
      "Minor matrix of aij:\n",
      " [[ 4  3]\n",
      " [ 3 -5]]\n",
      "\n",
      "\n",
      "Cofactor of aij:\n",
      " 28.99999999999999\n"
     ]
    }
   ],
   "source": [
    "#Define function to find minor matrix and cofactor of a given Matrix at a given position \n",
    "def GetMinorMatrixCofactor(arr,i,j):\n",
    "    '''\n",
    "    This function finds A Minor matrix and cofactor of a matrix.\n",
    "    Inputs\n",
    "      arr: Given array \n",
    "      i: Given row number(Starts with zero)\n",
    "      j: Given column number(starts with zero)\n",
    "    Outputs\n",
    "     minor_matrix: mMinor matrix excluding the given row and column\n",
    "     Cofactor: Cofactor value for a given minor matrix\n",
    "    '''\n",
    "    c = arr[:]\n",
    "    c_r = np.delete(c, (i),axis=0) # deletes i-th row\n",
    "    minor_matrix = np.delete(c_r, (j),axis=1) #deletes j-th column\n",
    "    \n",
    "    Cofactor = ((-1)**(i+j))*(np.linalg.det(minor_matrix))\n",
    "    return minor_matrix, Cofactor\n",
    "\n",
    "i,j = 1,2\n",
    "print(\"Matrix A:\\n\", A)\n",
    "print(\"\\nValues of i,j:\",i,j)\n",
    "\n",
    "#Find Minor matrix and cofactor of a matrix\n",
    "M12, C12 = GetMinorMatrixCofactor(A,i,j)\n",
    "\n",
    "\n",
    "print(\"\\n\\nMinor matrix of aij:\\n\",M12)\n",
    "print(\"\\n\\nCofactor of aij:\\n\",C12)"
   ]
  },
  {
   "cell_type": "markdown",
   "id": "86a53911",
   "metadata": {
    "heading_collapsed": true,
    "hidden": true
   },
   "source": [
    "### 2.3.6 What is Adjoint (Adjugate) of a matrix"
   ]
  },
  {
   "cell_type": "markdown",
   "id": "7d00ddcb",
   "metadata": {
    "ExecuteTime": {
     "end_time": "2024-03-31T13:08:16.592255Z",
     "start_time": "2024-03-31T13:08:16.585379Z"
    },
    "hidden": true
   },
   "source": [
    "\n",
    "The adjoint of a 3 x 3 matrix can be obtained by following two simple steps. First we need to find the co-factor matrix of the given matrix, and then the transpose of this co-factor matrix is taken to obtain the adjoint of a matrix. \n",
    "For example, for a matrix A = [[a11, a12, a13], [a21, a22, a23], [a31, a32, a33]], \n",
    "\n",
    "The cofactor matrix = [[C11, C12, C13], [C21, C22, C23], [C31, C32, C33]].\n",
    "\n",
    "And the Adjoint Matrix is the transpose of the above cofactor matrix, which is [[C11, C21, C31], [C12, C22, C32], [C13, C23, C33]].\n",
    "\n",
    "These are used to calculate inverse of any matrix as:\n",
    "A- = ((Adjoint(A)/Determinant(A)))"
   ]
  },
  {
   "cell_type": "markdown",
   "id": "eea7498f",
   "metadata": {
    "heading_collapsed": true,
    "hidden": true
   },
   "source": [
    "### 2.3.7 Define function to get Adjugate of a matrix"
   ]
  },
  {
   "cell_type": "code",
   "execution_count": 35,
   "id": "a85921d7",
   "metadata": {
    "ExecuteTime": {
     "end_time": "2024-10-04T15:30:34.160646Z",
     "start_time": "2024-10-04T15:30:34.148682Z"
    },
    "hidden": true
   },
   "outputs": [
    {
     "name": "stdout",
     "output_type": "stream",
     "text": [
      "Matrix A:\n",
      " [[1 2 3]\n",
      " [2 3 4]\n",
      " [3 5 6]]\n",
      "\n",
      "Adjoint (adjugate) of matrix A:\n",
      " [[-2.  3. -1.]\n",
      " [-0. -3.  2.]\n",
      " [ 1.  1. -1.]]\n"
     ]
    }
   ],
   "source": [
    "# Define functions to find cofactor matrix and Adjugate of given matrix\n",
    "\n",
    "#This function computes the complete cofactor matrix for a given matrix\n",
    "def cofactor(A):\n",
    "    \"\"\"\n",
    "    Calculate cofactor matrix of A\n",
    "    \"\"\"\n",
    "    CO = np.zeros(A.shape) #Create  blank matrix of same shape as A\n",
    "    for row in range(A.shape[0]):\n",
    "        for col in range(A.shape[1]):\n",
    "            _,CO[row,col] = GetMinorMatrixCofactor(A,row,col)\n",
    "    return CO\n",
    "\n",
    "def adjugate(A):\n",
    "    \"\"\"\n",
    "    Calculate adjugate matrix of A\n",
    "    \"\"\"\n",
    "    return cofactor(A).T\n",
    "\n",
    "\n",
    "A = np.array([[1,2,3],[2,3,4],[3,5,6]])\n",
    "#A = np.array([[1,2],[3,4]])\n",
    "print(\"Matrix A:\\n\", A)\n",
    "\n",
    "print(\"\\nAdjoint (adjugate) of matrix A:\\n\",adjugate(A))\n"
   ]
  },
  {
   "cell_type": "markdown",
   "id": "990b54e0",
   "metadata": {
    "heading_collapsed": true,
    "hidden": true
   },
   "source": [
    "### 2.3.8 What is Cofactor expansion "
   ]
  },
  {
   "attachments": {
    "image-4.png": {
     "image/png": "[encoded data removed]"
    }
   },
   "cell_type": "markdown",
   "id": "8b500c81",
   "metadata": {
    "hidden": true
   },
   "source": [
    "It is a recursive mechanism to find the Determinant of a given matrix.\n",
    "\n",
    "The determinant of a square matrix can be computed by multiplying entries in any row or columns by corresponding cofactors and adding the resulting products:\n",
    "\n",
    "\n",
    "![image-4.png](attachment:image-4.png)\n",
    "\n",
    "\n",
    "Ref: https://www.freetext.org/Introduction_to_Linear_Algebra/Basic_Matrix_Operations/Expansion_by_Minors/\n",
    "\n",
    "\n",
    "Ref:https://math.libretexts.org/Bookshelves/Linear_Algebra/Linear_Algebra_with_Applications_(Nicholson)/03%3A_Determinants_and_Diagonalization/3.01%3A_The_Cofactor_Expansion\n",
    "\n"
   ]
  },
  {
   "cell_type": "markdown",
   "id": "adff6b1a",
   "metadata": {
    "heading_collapsed": true,
    "hidden": true
   },
   "source": [
    "### 2.3.9 Find determinant through cofactor expansion"
   ]
  },
  {
   "cell_type": "code",
   "execution_count": 36,
   "id": "1f870b66",
   "metadata": {
    "ExecuteTime": {
     "end_time": "2024-10-04T15:35:49.706952Z",
     "start_time": "2024-10-04T15:35:49.697194Z"
    },
    "hidden": true
   },
   "outputs": [
    {
     "name": "stdout",
     "output_type": "stream",
     "text": [
      "Determinant of the matrix is :  30\n"
     ]
    }
   ],
   "source": [
    "# Python program to find Determinant of a matrix using cofactor expansion method\n",
    "\n",
    "#Ref: https://stackoverflow.com/questions/72112496/time-complexity-of-determinant-of-a-matrix-using-cofactor-method\n",
    "\n",
    "\n",
    " \n",
    "# first defining a function to get the minor matrix after excluding i-th row and j-th column.\n",
    "\n",
    "def getcofactor(m, i, j):\n",
    "    return [row[: j] + row[j+1:] for row in (m[: i] + m[i+1:])]\n",
    " \n",
    "\n",
    "    \n",
    "# Now, defining the function to calculate determinant value of given matrix a.\n",
    "\n",
    "def determinantOfMatrix(mat):\n",
    " \n",
    "    # if given matrix is of order\n",
    "    # 2*2 then simply return det\n",
    "    # value by cross multiplying\n",
    "    # elements of matrix.\n",
    "    \n",
    "    if(len(mat) == 2):\n",
    "        value = mat[0][0] * mat[1][1] - mat[1][0] * mat[0][1]\n",
    "        return value\n",
    " \n",
    "    # initialize Sum to zero\n",
    "    Sum = 0\n",
    " \n",
    "    # loop to traverse each column\n",
    "    # of matrix a.\n",
    "    for current_column in range(len(mat)):\n",
    " \n",
    "        # calculating the sign corresponding\n",
    "        # to co-factor of that sub matrix.\n",
    "        sign = (-1) ** (current_column)\n",
    " \n",
    "        # calling the function recursily to\n",
    "        # get determinant value of\n",
    "        # sub matrix obtained.\n",
    "        sub_det = determinantOfMatrix(getcofactor(mat, 0, current_column))\n",
    " \n",
    "        # adding the calculated determinant\n",
    "        # value of particular column\n",
    "        # matrix to total Sum.\n",
    "        Sum += (sign * mat[0][current_column] * sub_det)\n",
    " \n",
    "    # returning the final Sum\n",
    "    return Sum\n",
    "\n",
    " \n",
    "#Let us now use the function\n",
    "\n",
    "mat = [[1, 0, 2, -1], [3, 0, 0, 5], [2, 1, 4, -3], [1, 0, 5, 0]]\n",
    "\n",
    "# Function call\n",
    "print(\"Determinant of the matrix is : \", determinantOfMatrix(mat))"
   ]
  },
  {
   "cell_type": "code",
   "execution_count": 37,
   "id": "df107337",
   "metadata": {
    "ExecuteTime": {
     "end_time": "2024-10-04T15:36:06.349753Z",
     "start_time": "2024-10-04T15:36:06.344244Z"
    },
    "hidden": true
   },
   "outputs": [
    {
     "name": "stdout",
     "output_type": "stream",
     "text": [
      "Determinant of the matrix using numpy is :  30.0\n"
     ]
    }
   ],
   "source": [
    "#Let us validate the value of determinant \n",
    "\n",
    "mat = [[1, 0, 2, -1], [3, 0, 0, 5], [2, 1, 4, -3], [1, 0, 5, 0]]\n",
    "print(\"Determinant of the matrix using numpy is : \", np.round(np.linalg.det(mat),3))"
   ]
  },
  {
   "cell_type": "markdown",
   "id": "f25aae42",
   "metadata": {
    "heading_collapsed": true,
    "hidden": true
   },
   "source": [
    "### 2.3.10 Solving linear equations using matrix method (covered last week)"
   ]
  },
  {
   "cell_type": "code",
   "execution_count": 38,
   "id": "dea68e2c",
   "metadata": {
    "ExecuteTime": {
     "end_time": "2024-10-04T15:36:39.256033Z",
     "start_time": "2024-10-04T15:36:39.220622Z"
    },
    "hidden": true
   },
   "outputs": [
    {
     "name": "stdout",
     "output_type": "stream",
     "text": [
      "[ 5.  3. -2.]\n",
      "[ 5.  3. -2.]\n"
     ]
    }
   ],
   "source": [
    "# Now, let us solve below linear equation with three variables \n",
    "# 4x + 3y + 2z = 25\n",
    "# -2x + 2y + 3z = -10\n",
    "# 3x -5y + 2z = -4\n",
    "\n",
    "A = np.array([[4, 3, 2], [-2, 2, 3], [3, -5, 2]])\n",
    "B = np.array([25, -10, -4])\n",
    "\n",
    "X = np.linalg.inv(A)@B\n",
    "print(X)\n",
    "\n",
    "X = np.linalg.solve(A,B)\n",
    "print(X)"
   ]
  },
  {
   "cell_type": "markdown",
   "id": "ced5bfa2",
   "metadata": {
    "heading_collapsed": true
   },
   "source": [
    "## 2.4 Cramer's rule for solving linear equation system"
   ]
  },
  {
   "cell_type": "markdown",
   "id": "53e171a0",
   "metadata": {
    "hidden": true
   },
   "source": [
    "\n",
    "For solving equation AX = B,\n",
    "1. Find D = determinant of A, If D=0, unique solution can not be found.\n",
    "2. Find Dx1, Dx2... where column 1,2.. of A are replaced with B\n",
    "3. Find x1 = Dx1/D, x2 = Dx2/D...\n",
    "\n",
    "Let us define a function to solve linear equation system:\n"
   ]
  },
  {
   "cell_type": "markdown",
   "id": "76deb598",
   "metadata": {
    "heading_collapsed": true,
    "hidden": true
   },
   "source": [
    "### 2.4.1 Define a function using cramer's rule to solve linear equation system"
   ]
  },
  {
   "cell_type": "code",
   "execution_count": 39,
   "id": "4f57530d",
   "metadata": {
    "ExecuteTime": {
     "end_time": "2024-10-04T15:40:47.312801Z",
     "start_time": "2024-10-04T15:40:47.302774Z"
    },
    "hidden": true
   },
   "outputs": [],
   "source": [
    "# define function to apply cramer's rule\n",
    "\n",
    "def cramer(A,B):\n",
    "    X = np.zeros(B.shape)\n",
    "    d = np.round(np.linalg.det(A),3)\n",
    "    for i in range(A.shape[1]):\n",
    "        Axi = A.copy()\n",
    "        Axi[:,i] = B\n",
    "        dxi = np.round(np.linalg.det(Axi),3)\n",
    "        X[i] = dxi/d\n",
    "    return X\n"
   ]
  },
  {
   "cell_type": "markdown",
   "id": "23cb823f",
   "metadata": {
    "heading_collapsed": true,
    "hidden": true
   },
   "source": [
    "### 2.4.2 Apply Cramer's rule to solve 2 variable linear equation system"
   ]
  },
  {
   "cell_type": "code",
   "execution_count": 40,
   "id": "75146d00",
   "metadata": {
    "ExecuteTime": {
     "end_time": "2024-10-04T15:41:09.200422Z",
     "start_time": "2024-10-04T15:41:09.189535Z"
    },
    "hidden": true
   },
   "outputs": [
    {
     "name": "stdout",
     "output_type": "stream",
     "text": [
      "\n",
      "Matrix A:\n",
      " [[ 2  1]\n",
      " [ 1 -1]]\n",
      "\n",
      "Matrix B:\n",
      " [5 1]\n",
      "\n",
      "Solution of linear equation system represented by A(LHS) and B(RHS):\n",
      " [2. 1.]\n"
     ]
    }
   ],
   "source": [
    "#Let us solve the below equation using cramer's rule\n",
    "\n",
    "#The equation is:\n",
    "# 2x + y = 5\n",
    "# x - y = 1\n",
    "\n",
    "#express in the form of a matrix\n",
    "A = np.array([[2,1],\n",
    "              [1,-1]])\n",
    "B = np.array([5,1])\n",
    "\n",
    "\n",
    "print(\"\\nMatrix A:\\n\", A)\n",
    "print(\"\\nMatrix B:\\n\", B)\n",
    "print(\"\\nSolution of linear equation system represented by A(LHS) and B(RHS):\\n\", cramer(A,B))\n"
   ]
  },
  {
   "cell_type": "markdown",
   "id": "ef6365ba",
   "metadata": {
    "heading_collapsed": true,
    "hidden": true
   },
   "source": [
    "### 2.4.3 Apply Cramer's rule to solve 3 variable linear equation system"
   ]
  },
  {
   "cell_type": "code",
   "execution_count": 41,
   "id": "aa465456",
   "metadata": {
    "ExecuteTime": {
     "end_time": "2024-10-04T15:42:09.601685Z",
     "start_time": "2024-10-04T15:42:09.594051Z"
    },
    "hidden": true
   },
   "outputs": [
    {
     "name": "stdout",
     "output_type": "stream",
     "text": [
      "\n",
      "Matrix A:\n",
      " [[ 4  3  2]\n",
      " [-2  2  3]\n",
      " [ 3 -5  2]]\n",
      "\n",
      "Matrix B:\n",
      " [ 25 -10  -4]\n",
      "\n",
      "Solution of linear equation system represented by A(LHS) and B(RHS):\n",
      " [ 5.  3. -2.]\n"
     ]
    }
   ],
   "source": [
    "# Now, let us solve below linear equation with three variables \n",
    "# 4x + 3y + 2z = 25\n",
    "# -2x + 2y + 3z = -10\n",
    "# 3x -5y + 2z = -4\n",
    "\n",
    "A = np.array([[4, 3, 2], [-2, 2, 3], [3, -5, 2]])\n",
    "B = np.array([25, -10, -4])\n",
    "\n",
    "print(\"\\nMatrix A:\\n\", A)\n",
    "print(\"\\nMatrix B:\\n\", B)\n",
    "print(\"\\nSolution of linear equation system represented by A(LHS) and B(RHS):\\n\", cramer(A,B))"
   ]
  },
  {
   "cell_type": "markdown",
   "id": "b4a5de73",
   "metadata": {
    "heading_collapsed": true
   },
   "source": [
    "## 2.5 Eigenvalues & Eigenvectors"
   ]
  },
  {
   "cell_type": "markdown",
   "id": "4131b59b",
   "metadata": {
    "heading_collapsed": true,
    "hidden": true
   },
   "source": [
    "### 2.5.1 What is Eigenvalues & Eigenvectors"
   ]
  },
  {
   "cell_type": "markdown",
   "id": "a9551699",
   "metadata": {
    "ExecuteTime": {
     "end_time": "2024-06-13T15:03:54.994255Z",
     "start_time": "2024-06-13T15:03:54.916684Z"
    },
    "hidden": true
   },
   "source": [
    "Consider a matrix A representing a physical transformation (e.g rotation). When this matrix is used to transform a given vector x, the result is y=Ax.\n",
    "\n",
    "Now an interesting question is\n",
    "\n",
    "Are there any vectors x which do not change their direction under this transformation, but allow the vector magnitude to vary by scalar λ?\n",
    "\n",
    "Such a question is of the form\n",
    "Ax=λx\n",
    "\n",
    "So, such special x are called eigenvector(s) and the change in magnitude depends on the eigenvalue λ.\n",
    "\n",
    "Some important applications -\n",
    "\n",
    "- Principal Components Analysis (PCA) for dimensionality reduction or producing independent components;\n",
    "\n",
    "- Physics - stability analysis, the physics of rotating bodies;\n",
    "\n",
    "- Market risk analysis - to define if a matrix is positive definite;\n",
    "\n",
    "\n",
    "They are mainly used to reduce the dimension of large data sets by selecting only a few modes with significant eigenvalues and to find new variables that are uncorrelated; very helpful for least-square regressions of badly conditioned systems. It should be noted that the link between these statistical modes and the true dynamical modes of a system is not always straightforward because of sampling problems.\n",
    "\n",
    "\n",
    "Ref:https://math.stackexchange.com/questions/23312/what-is-the-importance-of-eigenvalues-eigenvectors#:~:text=Eigenvectors%20make%20understanding%20linear%20transformations%20easy.%20They%20are,you%20the%20factors%20by%20which%20this%20compression%20occurs."
   ]
  },
  {
   "cell_type": "markdown",
   "id": "f0edc85e",
   "metadata": {
    "heading_collapsed": true,
    "hidden": true
   },
   "source": [
    "### 2.5.2 Finding Eigenvalues & Eigenvectors in python "
   ]
  },
  {
   "cell_type": "code",
   "execution_count": 42,
   "id": "f8023422",
   "metadata": {
    "ExecuteTime": {
     "end_time": "2024-10-04T15:49:15.932449Z",
     "start_time": "2024-10-04T15:49:15.876042Z"
    },
    "hidden": true
   },
   "outputs": [
    {
     "name": "stdout",
     "output_type": "stream",
     "text": [
      "Printing the Original square array:\n",
      " [[1 2 3]\n",
      " [4 5 6]\n",
      " [7 8 9]]\n",
      "\n",
      "Printing the Eigenvalues of the given array:\n",
      " [16.12 -1.12 -0.  ]\n",
      "\n",
      "Printing the eigenvectors of the given array:\n",
      " [[-0.23 -0.79  0.41]\n",
      " [-0.53 -0.09 -0.82]\n",
      " [-0.82  0.61  0.41]]\n"
     ]
    }
   ],
   "source": [
    "#How to calculate the Eigenvalues and Eigenvactors\n",
    "\n",
    "# create numpy 2d-array \n",
    "A = np.array([[1, 2, 3], [4, 5, 6], [7, 8, 9]]) \n",
    "  \n",
    "print(\"Printing the Original square array:\\n\", A) \n",
    "\n",
    "# finding eigenvalues and eigenvectors \n",
    "w, v = np.linalg.eig(A) \n",
    "\n",
    "# printing eigen values \n",
    "print(\"\\nPrinting the Eigenvalues of the given array:\\n\", np.round(w,2)) \n",
    "\n",
    "# printing eigen vectors \n",
    "print(\"\\nPrinting the eigenvectors of the given array:\\n\", np.round(v,2)) "
   ]
  },
  {
   "cell_type": "markdown",
   "id": "d959ccc0",
   "metadata": {
    "heading_collapsed": true,
    "hidden": true
   },
   "source": [
    "### 2.5.3 Validate the values found "
   ]
  },
  {
   "cell_type": "code",
   "execution_count": 43,
   "id": "14292c61",
   "metadata": {
    "ExecuteTime": {
     "end_time": "2024-10-04T15:51:41.382488Z",
     "start_time": "2024-10-04T15:51:41.374676Z"
    },
    "hidden": true
   },
   "outputs": [
    {
     "name": "stdout",
     "output_type": "stream",
     "text": [
      "Input Matrix@Eigen vectors:\n",
      " [[ -3.74   0.88  -0.  ]\n",
      " [ -8.47   0.1   -0.  ]\n",
      " [-13.19  -0.68   0.  ]]\n",
      "\n",
      "\n",
      "Eigen values*Eigen Vectors:\n",
      " [[ -3.74   0.88  -0.  ]\n",
      " [ -8.47   0.1    0.  ]\n",
      " [-13.19  -0.68  -0.  ]]\n"
     ]
    }
   ],
   "source": [
    "#Validating the Eigenvalues and Eigenvactors by checking equation Av = wv\n",
    "\n",
    "print(\"Input Matrix@Eigen vectors:\\n\",np.round(A@v,2))\n",
    "print(\"\\n\\nEigen values*Eigen Vectors:\\n\",np.round(w*v,2))"
   ]
  },
  {
   "cell_type": "code",
   "execution_count": 44,
   "id": "54ea105c",
   "metadata": {
    "ExecuteTime": {
     "end_time": "2024-10-04T15:53:36.493845Z",
     "start_time": "2024-10-04T15:53:36.458226Z"
    },
    "hidden": true
   },
   "outputs": [
    {
     "name": "stdout",
     "output_type": "stream",
     "text": [
      "det(A − λI):  -0.0\n"
     ]
    }
   ],
   "source": [
    "#One more way to validate the eigen values by equating det(A − λI) = 0.\n",
    "I = np.array([[1,0,0],[0,1,0],[0,0,1]])   #Identity matrix defined\n",
    "print(\"det(A − λI): \",np.round(np.linalg.det(A-w@I),2))"
   ]
  },
  {
   "cell_type": "markdown",
   "id": "1c543517",
   "metadata": {
    "heading_collapsed": true,
    "hidden": true
   },
   "source": [
    "### 2.5.4 properties of eigenvalues and eigenvectors"
   ]
  },
  {
   "cell_type": "markdown",
   "id": "e23e596b",
   "metadata": {
    "hidden": true
   },
   "source": [
    "Below are the properties of eigenvalues and eigenvectors:\n",
    "\n",
    "1. If 𝐴 is triangular, then the diagonal elements of 𝐴 are the eigenvalues of 𝐴.\n",
    "2. If 𝜆 is an eigenvalue of 𝐴 with eigenvector 𝑥 ⃑, then 1/𝜆 is an eigenvalue of 𝐴^(−1) with eigenvector 𝑥 ⃑.\n",
    "3. If 𝜆 is an eigenvalue of 𝐴, then 𝜆 is an eigenvalue of 𝐴^𝑇.\n",
    "4. The sum of the eigenvalues of 𝐴 is equal to 𝑡𝑟(𝐴).\n",
    "5. The product of the eigenvalues is equal to the determinant of det (𝐴)."
   ]
  },
  {
   "cell_type": "markdown",
   "id": "00d0f939",
   "metadata": {
    "heading_collapsed": true,
    "hidden": true
   },
   "source": [
    "#### 2.5.4.1 Property: 1 - If 𝐴 is triangular, then the diagonal elements of 𝐴 are the eigenvalues of 𝐴."
   ]
  },
  {
   "cell_type": "code",
   "execution_count": 45,
   "id": "61c348f2",
   "metadata": {
    "ExecuteTime": {
     "end_time": "2024-10-04T15:54:15.951368Z",
     "start_time": "2024-10-04T15:54:15.942930Z"
    },
    "hidden": true
   },
   "outputs": [
    {
     "name": "stdout",
     "output_type": "stream",
     "text": [
      "Printing Matrix A:\n",
      " [[1 2 3]\n",
      " [0 5 6]\n",
      " [0 0 9]]\n",
      "\n",
      "Printing the Eigenvalues of the given array:\n",
      " [1. 5. 9.]\n",
      "\n",
      "Printing the eigenvectors of the given array:\n",
      " [[1.   0.45 0.38]\n",
      " [0.   0.89 0.77]\n",
      " [0.   0.   0.51]]\n"
     ]
    }
   ],
   "source": [
    "#Validate property 1: If 𝐴 is triangular, then the diagonal elements of 𝐴 are the eigenvalues of 𝐴.\n",
    "A = np.array([[1,2,3], [0,5,6],[0,0,9]])\n",
    "print(\"Printing Matrix A:\\n\", A) \n",
    "\n",
    "# finding eigenvalues and eigenvectors \n",
    "w, v = np.linalg.eig(A) \n",
    "  \n",
    "# printing eigen values \n",
    "print(\"\\nPrinting the Eigenvalues of the given array:\\n\", np.round(w,2)) \n",
    "  \n",
    "# printing eigen vectors \n",
    "print(\"\\nPrinting the eigenvectors of the given array:\\n\", np.round(v,2))"
   ]
  },
  {
   "cell_type": "markdown",
   "id": "e0a9d9f4",
   "metadata": {
    "heading_collapsed": true,
    "hidden": true
   },
   "source": [
    "#### 2.5.4.2 Property: 2 - If 𝜆 is an eigenvalue of 𝐴 with eigenvector 𝑥 ⃑, then 1/𝜆 is an eigenvalue of 𝐴^(−1) with eigenvector 𝑥 ⃑."
   ]
  },
  {
   "cell_type": "code",
   "execution_count": 46,
   "id": "9ce6074e",
   "metadata": {
    "ExecuteTime": {
     "end_time": "2024-10-04T15:55:06.372493Z",
     "start_time": "2024-10-04T15:55:06.364416Z"
    },
    "hidden": true
   },
   "outputs": [
    {
     "name": "stdout",
     "output_type": "stream",
     "text": [
      "Printing the inverse of earlier A:\n",
      " [[ 1.         -0.4        -0.06666667]\n",
      " [ 0.          0.2        -0.13333333]\n",
      " [ 0.          0.          0.11111111]]\n",
      "\n",
      "Printing the Eigenvalues of the given array:\n",
      " [1.   0.2  0.11]\n",
      "\n",
      "Printing the eigenvectors of the given array:\n",
      " [[1.   0.45 0.38]\n",
      " [0.   0.89 0.77]\n",
      " [0.   0.   0.51]]\n"
     ]
    }
   ],
   "source": [
    "#Validate property 2: If 𝜆 is an eigenvalue of 𝐴 with eigenvector 𝑥 ⃑, then 1/𝜆 is an eigenvalue of 𝐴^(−1) with eigenvector 𝑥 ⃑.\n",
    "\n",
    "# create numpy 2d-array \n",
    "B = np.array([[1,2,3], [0,5,6],[0,0,9]]) \n",
    "\n",
    "A = np.linalg.inv(B)\n",
    "  \n",
    "print(\"Printing the inverse of earlier A:\\n\", A)\n",
    "\n",
    "# finding eigenvalues and eigenvectors \n",
    "w, v = np.linalg.eig(A) \n",
    "\n",
    "# printing eigen values \n",
    "print(\"\\nPrinting the Eigenvalues of the given array:\\n\", np.round(w,2)) \n",
    "\n",
    "# printing eigen vectors \n",
    "print(\"\\nPrinting the eigenvectors of the given array:\\n\", np.round(v,2)) "
   ]
  },
  {
   "cell_type": "markdown",
   "id": "62e6f660",
   "metadata": {
    "heading_collapsed": true,
    "hidden": true
   },
   "source": [
    "#### 2.5.4.3 Property: 3 - If 𝜆 is an eigenvalue of 𝐴, then 𝜆 is also an eigenvalue of 𝐴^𝑇."
   ]
  },
  {
   "cell_type": "code",
   "execution_count": 47,
   "id": "b24bb906",
   "metadata": {
    "ExecuteTime": {
     "end_time": "2024-10-04T15:55:51.835419Z",
     "start_time": "2024-10-04T15:55:51.825962Z"
    },
    "hidden": true
   },
   "outputs": [
    {
     "name": "stdout",
     "output_type": "stream",
     "text": [
      "Printing the traspose of earlier A:\n",
      " [[1 4 7]\n",
      " [2 5 8]\n",
      " [3 6 9]]\n",
      "\n",
      "Printing the Eigenvalues of the given array:\n",
      " [16.12 -1.12 -0.  ]\n",
      "\n",
      "Printing the eigenvectors of the given array:\n",
      " [[-0.46 -0.88  0.41]\n",
      " [-0.57 -0.24 -0.82]\n",
      " [-0.68  0.4   0.41]]\n"
     ]
    }
   ],
   "source": [
    "#Validate principle 3: If 𝜆 is an eigenvalue of 𝐴, then 𝜆 is an eigenvalue of 𝐴^𝑇.\n",
    "\n",
    "# create numpy 2d-array \n",
    "B = np.array([[1, 2, 3], [4, 5, 6], [7, 8, 9]]) \n",
    "\n",
    "A = B.T\n",
    "  \n",
    "print(\"Printing the traspose of earlier A:\\n\", A)\n",
    "\n",
    "# finding eigenvalues and eigenvectors \n",
    "w, v = np.linalg.eig(A) \n",
    "\n",
    "# printing eigen values \n",
    "print(\"\\nPrinting the Eigenvalues of the given array:\\n\", np.round(w,2)) \n",
    "\n",
    "# printing eigen vectors \n",
    "print(\"\\nPrinting the eigenvectors of the given array:\\n\", np.round(v,2)) "
   ]
  },
  {
   "cell_type": "markdown",
   "id": "d7f72b0a",
   "metadata": {
    "heading_collapsed": true,
    "hidden": true
   },
   "source": [
    "#### 2.5.4.4 Property: 4 - The sum of the eigenvalues of 𝐴 is equal to 𝑡𝑟(𝐴)"
   ]
  },
  {
   "cell_type": "code",
   "execution_count": 48,
   "id": "b2c4138e",
   "metadata": {
    "ExecuteTime": {
     "end_time": "2024-10-04T15:58:22.862700Z",
     "start_time": "2024-10-04T15:58:22.846928Z"
    },
    "hidden": true
   },
   "outputs": [
    {
     "name": "stdout",
     "output_type": "stream",
     "text": [
      "Printing matrix A:\n",
      " [[1 2 3]\n",
      " [4 5 6]\n",
      " [7 8 9]]\n",
      "\n",
      "Printing the Eigenvalues of the given array:\n",
      " [16.12 -1.12 -0.  ]\n",
      "\n",
      "Printing the eigenvectors of the given array:\n",
      " [[-0.23 -0.79  0.41]\n",
      " [-0.53 -0.09 -0.82]\n",
      " [-0.82  0.61  0.41]]\n",
      "\n",
      "Printing the sum of Eigenvalues of the given array: 15.0\n",
      "\n",
      "Printing trace of matrix A: 15\n"
     ]
    }
   ],
   "source": [
    "#Validate principle 4: The sum of the eigenvalues of 𝐴 is equal to 𝑡𝑟(𝐴).\n",
    "\n",
    "# create numpy 2d-array \n",
    "A = np.array([[1, 2, 3], [4, 5, 6], [7, 8, 9]]) \n",
    "  \n",
    "print(\"Printing matrix A:\\n\", A)\n",
    "\n",
    "# finding eigenvalues and eigenvectors \n",
    "w, v = np.linalg.eig(A) \n",
    "\n",
    "# printing eigen values \n",
    "print(\"\\nPrinting the Eigenvalues of the given array:\\n\", np.round(w,2)) \n",
    "\n",
    "# printing eigen vectors \n",
    "print(\"\\nPrinting the eigenvectors of the given array:\\n\", np.round(v,2))\n",
    "\n",
    "# printing sum of eigen values:\n",
    "print(\"\\nPrinting the sum of Eigenvalues of the given array:\", np.round(w,2).sum())\n",
    "\n",
    "# printing trace of A\n",
    "print(\"\\nPrinting trace of matrix A:\", A.trace())"
   ]
  },
  {
   "cell_type": "markdown",
   "id": "ed929020",
   "metadata": {
    "heading_collapsed": true,
    "hidden": true
   },
   "source": [
    "#### 2.5.4.5 Property: 5 - The product of the eigenvalues is equal to the determinant of det (𝐴)."
   ]
  },
  {
   "cell_type": "code",
   "execution_count": 49,
   "id": "ff2dfd2e",
   "metadata": {
    "ExecuteTime": {
     "end_time": "2024-10-04T15:58:50.243616Z",
     "start_time": "2024-10-04T15:58:50.233855Z"
    },
    "hidden": true
   },
   "outputs": [
    {
     "name": "stdout",
     "output_type": "stream",
     "text": [
      "Printing Matrix A:\n",
      " [[1 2 3]\n",
      " [0 5 6]\n",
      " [0 0 9]]\n",
      "\n",
      "Printing the Eigenvalues of the given array:\n",
      " [1. 5. 9.]\n",
      "\n",
      "Printing the determinant of the given array:\n",
      " 45.0\n"
     ]
    }
   ],
   "source": [
    "#Validate principle 5: The product of the eigenvalues is equal to the determinant of det (𝐴).\n",
    "\n",
    "A = np.array([[1,2,3], [0,5,6],[0,0,9]])\n",
    "print(\"Printing Matrix A:\\n\", A) \n",
    "\n",
    "# finding eigenvalues and eigenvectors \n",
    "w, v = np.linalg.eig(A) \n",
    "  \n",
    "# printing eigen values \n",
    "print(\"\\nPrinting the Eigenvalues of the given array:\\n\", np.round(w,2)) \n",
    "  \n",
    "# printing determinant \n",
    "print(\"\\nPrinting the determinant of the given array:\\n\", np.round(np.linalg.det(A),2))"
   ]
  },
  {
   "cell_type": "markdown",
   "id": "fe4756a3",
   "metadata": {
    "ExecuteTime": {
     "end_time": "2024-04-01T07:16:37.481425Z",
     "start_time": "2024-04-01T07:16:37.474015Z"
    },
    "heading_collapsed": true
   },
   "source": [
    "## 2.6. Summarise the learnings"
   ]
  },
  {
   "cell_type": "markdown",
   "id": "68ffa0b6",
   "metadata": {
    "hidden": true
   },
   "source": [
    "Today, we learnt the below:\n",
    "\n",
    "1. We learnt about the mathematical arithmatic operations in Matrices\n",
    "2. Then we learnt about multiplication, transpose, inverse operations in Matrices \n",
    "3. We again reiterated how we can solve linear equation system using matrix operations\n",
    "4. Then we learnt about the minor matrix and cofactors\n",
    "5. Then we learnt how to find Adjunct of a matrix\n",
    "6. Then we elarnt how we can use cofactor expansion method\n",
    "7. Subsequently, we learnt how to use Cramer's rule to solve linear equation system\n",
    "8. And finally we learnt about eigenvalues and eigenvectors and their properties"
   ]
  },
  {
   "cell_type": "markdown",
   "id": "9676d17f",
   "metadata": {
    "hidden": true
   },
   "source": []
  }
 ],
 "metadata": {
  "kernelspec": {
   "display_name": "Python 3 (ipykernel)",
   "language": "python",
   "name": "python3"
  },
  "language_info": {
   "codemirror_mode": {
    "name": "ipython",
    "version": 3
   },
   "file_extension": ".py",
   "mimetype": "text/x-python",
   "name": "python",
   "nbconvert_exporter": "python",
   "pygments_lexer": "ipython3",
   "version": "3.12.9"
  },
  "varInspector": {
   "cols": {
    "lenName": 16,
    "lenType": 16,
    "lenVar": 40
   },
   "kernels_config": {
    "python": {
     "delete_cmd_postfix": "",
     "delete_cmd_prefix": "del ",
     "library": "var_list.py",
     "varRefreshCmd": "print(var_dic_list())"
    },
    "r": {
     "delete_cmd_postfix": ") ",
     "delete_cmd_prefix": "rm(",
     "library": "var_list.r",
     "varRefreshCmd": "cat(var_dic_list()) "
    }
   },
   "types_to_exclude": [
    "module",
    "function",
    "builtin_function_or_method",
    "instance",
    "_Feature"
   ],
   "window_display": false
  }
 },
 "nbformat": 4,
 "nbformat_minor": 5
}
