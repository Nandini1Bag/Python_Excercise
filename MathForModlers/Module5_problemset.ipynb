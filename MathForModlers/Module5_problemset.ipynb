{
 "cells": [
  {
   "cell_type": "markdown",
   "id": "cc49c886-1b68-44b4-8094-cd63701818c1",
   "metadata": {},
   "source": [
    "#### 1)Consider the function f(x)=x^4 -50x^2+2 , -4<=x<=11\n",
    "#### The absolute maximum of f(x) on the given interval occurs at x = \n",
    "#### The absolute maximum of f(x) on the given interval is \n",
    "#### The absolute minimum of f(x) on the given interval occurs at x = \n",
    "#### The absolute minimum of f(x) on the given interval is"
   ]
  },
  {
   "cell_type": "code",
   "execution_count": 1,
   "id": "26c8bfb0-d04b-41c9-bcf0-9ee9b93cb480",
   "metadata": {},
   "outputs": [
    {
     "name": "stdout",
     "output_type": "stream",
     "text": [
      "The absolute maximum occurs at x = 11 with f(x) = 8593\n",
      "The absolute minimum occurs at x = 5 with f(x) = -623\n"
     ]
    }
   ],
   "source": [
    "import sympy as sp\n",
    "\n",
    "# Define the variable and the function\n",
    "x = sp.symbols('x')\n",
    "f = x**4 - 50*x**2 + 2\n",
    "\n",
    "# Find the derivative of the function\n",
    "f_prime = sp.diff(f, x)\n",
    "\n",
    "# Solve f'(x) = 0 to find critical points\n",
    "critical_points = sp.solveset(f_prime, x, domain=sp.Interval(-4, 11))\n",
    "\n",
    "# Include the endpoints of the interval\n",
    "endpoints = [-4, 11]\n",
    "points = list(critical_points) + endpoints\n",
    "\n",
    "# Evaluate the function at each point\n",
    "values = [f.subs(x, point) for point in points]\n",
    "\n",
    "# Find the maximum and minimum values and their corresponding points\n",
    "max_value = max(values)\n",
    "min_value = min(values)\n",
    "max_point = points[values.index(max_value)]\n",
    "min_point = points[values.index(min_value)]\n",
    "\n",
    "# Output the result\n",
    "print(f\"The absolute maximum occurs at x = {max_point} with f(x) = {max_value}\")\n",
    "print(f\"The absolute minimum occurs at x = {min_point} with f(x) = {min_value}\")\n"
   ]
  },
  {
   "cell_type": "markdown",
   "id": "b31f3cda-6a06-4933-a1df-a0dc38a60a27",
   "metadata": {},
   "source": [
    "#### 2)The below function has one local max and one local min. Use the first derivative test to find where they occur.\n",
    "#### f(x)=2x^3-18x^2+30x-4  The local max of f(x) occurs at x =?\n",
    "#### The local min of f(x) occurs at x=?"
   ]
  },
  {
   "cell_type": "code",
   "execution_count": 13,
   "id": "945a5dec-6b27-4656-b0ec-0922e6cdb39b",
   "metadata": {},
   "outputs": [
    {
     "name": "stdout",
     "output_type": "stream",
     "text": [
      "Critical points: [1, 5]\n",
      "Local maximum at x = 1\n",
      "Local minimum at x = 5\n"
     ]
    }
   ],
   "source": [
    "import sympy as sp\n",
    "#define variable and function\n",
    "x=sp.symbols(\"x\")\n",
    "f=2*x**3-18*x**2+30*x-4\n",
    "\n",
    "#find derivative of the function\n",
    "f_deri=sp.diff(f,x)\n",
    "\n",
    "#find critical points\n",
    "critical_points=sp.solve(f_deri)\n",
    "print(f\"Critical points: {critical_points}\")\n",
    "\n",
    "#double deivative\n",
    "f_double_deri=sp.diff(f_deri,x)\n",
    "\n",
    "# Check second derivative at each critical point\n",
    "for cp in critical_points:\n",
    "    second_derivative_value = f_double_deri.subs(x, cp)\n",
    "    if second_derivative_value > 0:\n",
    "        print(f\"Local minimum at x = {cp}\")\n",
    "    elif second_derivative_value < 0:\n",
    "        print(f\"Local maximum at x = {cp}\")\n",
    "    else:\n",
    "        print(f\"Test inconclusive at x = {cp}\")\n",
    "\n"
   ]
  },
  {
   "cell_type": "markdown",
   "id": "362d55f0-d656-41ff-bb3d-9eb7be4b1380",
   "metadata": {},
   "source": [
    "#### 4)Consider the function f(x)=5x^2-30x+5  on the interval [1,5]. Evaluate this function at the endpoints of the interval.\n",
    "#### f(1) , f(5) ? Does Rolle's Theorem apply to f on this interval?If Rolle's Theorem applies, find c in (1,5) such that f'(c)=0.\n",
    "#### If Rolle's Theorem does not apply, enter \"DNE\"."
   ]
  },
  {
   "cell_type": "code",
   "execution_count": 17,
   "id": "53c41abc-4a3c-4222-806c-bf274ab8f298",
   "metadata": {},
   "outputs": [
    {
     "name": "stdout",
     "output_type": "stream",
     "text": [
      "f(1) = -20\n",
      "f(5) = -20\n",
      "Rolle's Theorem applies.\n",
      "Value of c in (1,5) such that f'(c) = 0: 3\n"
     ]
    }
   ],
   "source": [
    "import sympy as sp\n",
    "\n",
    "x = sp.symbols('x')\n",
    "f = 5*x**2 - 30*x + 5\n",
    "\n",
    "f_1 = f.subs(x, 1)\n",
    "f_5 = f.subs(x, 5)\n",
    "\n",
    "print(f\"f(1) = {f_1}\")\n",
    "print(f\"f(5) = {f_5}\")\n",
    "\n",
    "if f_1 == f_5:\n",
    "    print(\"Rolle's Theorem applies.\")\n",
    "    f_prime = sp.diff(f, x)\n",
    "    c = sp.solve(f_prime, x)[0]  # only one solution\n",
    "    if 1 < c < 5:\n",
    "        print(f\"Value of c in (1,5) such that f'(c) = 0: {c}\")\n",
    "    else:\n",
    "        print(\"No c in (1,5)\")\n",
    "else:\n",
    "    print(\"Rolle's Theorem does not apply. Answer: DNE\")\n"
   ]
  },
  {
   "cell_type": "markdown",
   "id": "714f160c-f85f-4f84-81f8-88424a4cb078",
   "metadata": {},
   "source": [
    "#### 5)Consider the function f(x)=10 sqat x +8  on the interval [3,8]. Find the average or mean slope of the function on this interval.\n",
    "####  Round your answer to four decimal places as needed.By the Mean Value Theorem, we know there exists a c in the open interval (3,8) such that f'(c)\n",
    "####  is equal to this mean slope. For this problem, there is only one c that works. Find it. Round your answer to four decimal places as needed."
   ]
  },
  {
   "cell_type": "code",
   "execution_count": null,
   "id": "e3aab9eb-042b-42a1-adff-d089881b2e05",
   "metadata": {},
   "outputs": [],
   "source": [
    "import sympy as sp\n",
    "\n",
    "# Define symbol and function\n",
    "x = sp.symbols('x')\n",
    "f = 10 * sp.sqrt(x) + 8\n",
    "\n",
    "# Define a and b\n",
    "a = 3\n",
    "b = 8\n",
    "# Evaluate f(a) and f(b)\n",
    "f_a = f.subs(x, a)\n",
    "f_b = f.subs(x, b)\n",
    "\n",
    "# Find average slope\n",
    "average_slope = (f_b - f_a) / (b - a)\n",
    "average_slope_float = float(average_slope)\n",
    "print(f\"Average slope: {average_slope_float:.4f}\")\n",
    "\n",
    "# Find derivative\n",
    "f_prime = sp.diff(f, x)\n",
    "\n",
    "# Solve f'(c) = average_slope\n",
    "c = sp.symbols('c')\n",
    "equation = f_prime.subs(x, c) - average_slope\n",
    "solution = sp.solve(equation, c)[0] \n",
    "# Solve for c such that the left-hand side equals 0.sp.solve gives a list of solutions.[0] means pick the first solution from the list.\n",
    "solution_float = float(solution)\n",
    "\n",
    "print(f\"Value of c: {solution_float:.4f}\")\n"
   ]
  },
  {
   "cell_type": "markdown",
   "id": "58a5f5d5-9405-44a7-82e8-b665731879f6",
   "metadata": {},
   "source": [
    "#### 6)Given the function g(x)= 6x^3-27x^2+36x , find the first derivative, Notice that g'(x)=0 when x=1, that is, g'(1)=0.\n",
    "#### Now, we want to know whether there is a local minimum or local maximum at x=1, so we will use the second derivative test.\n",
    "#### Find the second derivative Based on the sign of this number, does this mean the graph of g(x) is concave up or concave down at x?\n",
    "#### Based on the concavity of g(x) at x=1, does this mean that there is a local minimum or local maximum at x=1?"
   ]
  },
  {
   "cell_type": "code",
   "execution_count": 9,
   "id": "c622571b-65aa-4bfc-96ab-03cc2d38e0a9",
   "metadata": {},
   "outputs": [
    {
     "name": "stdout",
     "output_type": "stream",
     "text": [
      "g'(x): 18*x**2 - 54*x + 36\n",
      "g''(x): 36*x - 54\n",
      "g''(1): -18\n",
      "g(x) is concave down at x = 1 → Local maximum at x = 1\n"
     ]
    }
   ],
   "source": [
    "import sympy as sp\n",
    "\n",
    "x = sp.symbols('x')\n",
    "g = 6*x**3 - 27*x**2 + 36*x\n",
    "\n",
    "g_prime=sp.diff(g,x)\n",
    "g_double_prime=sp.diff(g_prime,x)\n",
    "# Evaluate the second derivative at x = 1\n",
    "second_derivative_at_1 = g_double_prime.subs(x, 1)\n",
    "\n",
    "# Output\n",
    "print(\"g'(x):\", g_prime)\n",
    "print(\"g''(x):\", g_double_prime)\n",
    "print(\"g''(1):\", second_derivative_at_1)\n",
    "# Interpret concavity and extrema\n",
    "if second_derivative_at_1 > 0:\n",
    "    print(\"g(x) is concave up at x = 1 → Local minimum at x = 1\")\n",
    "elif second_derivative_at_1 < 0:\n",
    "    print(\"g(x) is concave down at x = 1 → Local maximum at x = 1\")\n",
    "else:\n",
    "    print(\"g''(1) = 0 → Second derivative test is inconclusive\")"
   ]
  },
  {
   "cell_type": "markdown",
   "id": "6cf97859-fa98-49cf-8998-a18d491a56c2",
   "metadata": {},
   "source": [
    "#### 7)Consider the function f(x)=4(x-4)^2/3.Find the critical number(s).Find the interval(s) where f(x) is increasing .\n",
    "#### Find the interval(s) where f(x) is decreasing.Find the interval(s) where f(x) is concave down "
   ]
  },
  {
   "cell_type": "code",
   "execution_count": 37,
   "id": "6d9bb9a8-339b-43c3-b65f-edf8a142f39d",
   "metadata": {},
   "outputs": [
    {
     "name": "stdout",
     "output_type": "stream",
     "text": [
      "f(x): 4*(x - 4)**0.666666666666667\n",
      "f'(x): 2.66666666666667/(x - 4)**0.333333333333333\n",
      "f''(x): -0.888888888888889/(x - 4)**1.33333333333333\n",
      "Critical points (f'(x) = 0): []\n",
      "Points where f'(x) is undefined: [4.00000000000000]\n",
      "f'(x) is positive for x > 4, so f(x) is increasing on (4, ∞)\n",
      "f(x) is concave down on (4, ∞)\n"
     ]
    }
   ],
   "source": [
    "import sympy as sp\n",
    "\n",
    "# Define variable and function\n",
    "x = sp.symbols('x')\n",
    "f = 4 * (x - 4)**(2/3)\n",
    "\n",
    "# First derivative\n",
    "f_prime = sp.diff(f, x)\n",
    "\n",
    "# Second derivative\n",
    "f_double_prime = sp.diff(f_prime, x)\n",
    "\n",
    "# Critical numbers: where f'(x) = 0 or f'(x) is undefined\n",
    "critical_points = sp.solve(f_prime, x)\n",
    "undefined_points = sp.solve(sp.denom(f_prime), x)  # where derivative may be undefined\n",
    "\n",
    "# Find the sign of the derivative for increasing/decreasing intervals\n",
    "# Test points around x = 4 (since the derivative is undefined there)\n",
    "left_test = f_prime.subs(x, 3).evalf()  # test point to the left of x = 4 (real value)\n",
    "right_test = f_prime.subs(x, 5).evalf()  # test point to the right of x = 4 (real value)\n",
    "\n",
    "# Find the sign of the second derivative for concavity intervals\n",
    "# Test points around x = 4 (since the second derivative might be undefined there)\n",
    "left_test_double = f_double_prime.subs(x, 3).evalf()  # test point to the left of x = 4\n",
    "right_test_double = f_double_prime.subs(x, 5).evalf()  # test point to the right of x = 4\n",
    "\n",
    "# Evaluate expressions\n",
    "print(\"f(x):\", f)\n",
    "print(\"f'(x):\", f_prime)\n",
    "print(\"f''(x):\", f_double_prime)\n",
    "print(\"Critical points (f'(x) = 0):\", critical_points)\n",
    "print(\"Points where f'(x) is undefined:\", undefined_points)\n",
    "# Check if the values are real before comparing\n",
    "if left_test.is_real:\n",
    "    if left_test < 0:\n",
    "        print(f\"f'(x) is negative for x < 4, so f(x) is decreasing on (-∞, 4)\")\n",
    "    else:\n",
    "        print(f\"f'(x) is positive for x < 4, so f(x) is increasing on (-∞, 4)\")\n",
    "\n",
    "if right_test.is_real:\n",
    "    if right_test > 0:\n",
    "        print(f\"f'(x) is positive for x > 4, so f(x) is increasing on (4, ∞)\")\n",
    "    else:\n",
    "        print(f\"f'(x) is negative for x > 4, so f(x) is decreasing on (4, ∞)\")\n",
    "\n",
    "# Check concavity on the intervals\n",
    "if left_test_double.is_real:\n",
    "    if left_test_double < 0:\n",
    "        print(\"f(x) is concave down on (-∞, 4)\")\n",
    "    elif left_test_double > 0:\n",
    "        print(\"f(x) is concave up on (-∞, 4)\")\n",
    "    else:\n",
    "        print(\"f(x) has an inflection point at x < 4\")\n",
    "\n",
    "if right_test_double.is_real:\n",
    "    if right_test_double < 0:\n",
    "        print(\"f(x) is concave down on (4, ∞)\")\n",
    "    elif right_test_double > 0:\n",
    "        print(\"f(x) is concave up on (4, ∞)\")\n",
    "    else:\n",
    "        print(\"f(x) has an inflection point at x > 4\")\n"
   ]
  },
  {
   "cell_type": "markdown",
   "id": "ae150695-a21d-4b84-a32e-98e9654ffd2a",
   "metadata": {},
   "source": [
    "#### 8)graph"
   ]
  },
  {
   "cell_type": "markdown",
   "id": "aa7f67b4-e294-4c3c-9f70-4ea42ebf507b",
   "metadata": {},
   "source": [
    "#### 9)The graph of y=-4x+1/5x-6 has a horizontal asymptote with equation ? (enter the equation of the horizontal asymptote). Exact answers only."
   ]
  },
  {
   "cell_type": "code",
   "execution_count": 43,
   "id": "b51ad560-a705-4654-a719-7d520a2f62cd",
   "metadata": {},
   "outputs": [
    {
     "name": "stdout",
     "output_type": "stream",
     "text": [
      "-4/5\n"
     ]
    }
   ],
   "source": [
    "import sympy as sp     \n",
    "x = sp.symbols('x')     \n",
    "f = (-4*x+1)/(5*x - 6)     \n",
    "limit = sp.limit(f, x,sp.oo) \n",
    "print(limit)"
   ]
  },
  {
   "cell_type": "markdown",
   "id": "0cd1b235-79b6-43a5-8dc8-b31aa1e097b3",
   "metadata": {},
   "source": [
    "#### 10)The graph of y=f(x) has the following features: lim x->infinity f(x)=-2, \n",
    "#### lim x->-infinity f(x)=5,lim x->0^- f(x)=- infinity ,lim x->0^+ f(x)=infinity ,draw the graph"
   ]
  },
  {
   "cell_type": "markdown",
   "id": "bea25efd-7b52-42d5-90c6-23ad8c494d23",
   "metadata": {},
   "source": [
    "#### 11)Glorious Gadgets is a retailer of astronomy equipment. They purchase equipment from a supplier and then sell it to customers in their store. The #### function c(x)=4.5x+24375x^-1+16250  models their total inventory costs (in dollars) as a function of x the lot size (the total number of pieces of #### astronomy equipment) for each of their orders from the supplier. The inventory costs include such things as purchasing, processing, shipping, and #### storing the equipment.What lot size should Glorious Gadgets order to minimize their total inventory costs?What is their minimum total inventory cost? "
   ]
  },
  {
   "cell_type": "code",
   "execution_count": 47,
   "id": "91684049-5da2-4876-80fd-66dbda81a8ad",
   "metadata": {},
   "outputs": [
    {
     "name": "stdout",
     "output_type": "stream",
     "text": [
      "Critical point (lot size) = 87.8310065653680\n",
      "Minimum total inventory cost = $18614.82\n"
     ]
    }
   ],
   "source": [
    "import sympy as sp\n",
    "\n",
    "# Define the variable\n",
    "x = sp.symbols('x')\n",
    "\n",
    "# Define the cost function\n",
    "c = 3.5*x + 27000*x**(-1) + 18000\n",
    "\n",
    "# Step 1: Find the first derivative of the cost function\n",
    "c_prime = sp.diff(c, x)\n",
    "\n",
    "# Step 2: Solve for the critical point by setting the first derivative to 0\n",
    "critical_points = sp.solve(c_prime, x)\n",
    "\n",
    "# Step 3: Find the second derivative to confirm it's a minimum\n",
    "c_double_prime = sp.diff(c_prime, x)\n",
    "\n",
    "# Step 4: Evaluate the cost at the critical point\n",
    "min_cost = c.subs(x, critical_points[1])  # Use the positive critical point\n",
    "\n",
    "# Display the results\n",
    "print(f\"Critical point (lot size) = {critical_points[1]}\")\n",
    "print(f\"Minimum total inventory cost = ${min_cost:.2f}\")\n"
   ]
  },
  {
   "cell_type": "markdown",
   "id": "f0fbd5b6-f9ce-4101-af44-0771c737f4bb",
   "metadata": {},
   "source": [
    "#### 12)A company has a badly designed product, but a huge advertising budget. The product sells well when it is first introducted.\n",
    "#### However, sales fall as people switch to a better product from a competitor. Given that the monthly sales S can be modeled by\n",
    "#### s=150t/(t+2)^2, t>=0  where S  is in thousands of dollars and t is in months. After how many months will sales be maximized and what will the maximum #### in sales be?Sales will be maximized in  ?  months .The maximum sales will be $ ?"
   ]
  },
  {
   "cell_type": "code",
   "execution_count": 49,
   "id": "889d546a-e04b-4b30-a24c-30f9996bbad5",
   "metadata": {},
   "outputs": [
    {
     "name": "stdout",
     "output_type": "stream",
     "text": [
      "Sales will be maximized in 2 months.\n",
      "The maximum sales will be $18750.00.\n"
     ]
    }
   ],
   "source": [
    "import sympy as sp\n",
    "\n",
    "# Define the variable and the sales function\n",
    "t = sp.symbols('t')\n",
    "s = 150 * t / (t + 2)**2\n",
    "\n",
    "# Step 1: Find the first derivative of the sales function\n",
    "s_prime = sp.diff(s, t)\n",
    "\n",
    "# Step 2: Solve for the critical points by setting the first derivative to 0\n",
    "critical_points = sp.solve(s_prime, t)\n",
    "\n",
    "# Step 3: Find the second derivative to confirm it's a maximum\n",
    "s_double_prime = sp.diff(s_prime, t)\n",
    "\n",
    "# Step 4: Evaluate the sales at the critical point (valid positive critical point)\n",
    "max_sales = s.subs(t, critical_points[0])\n",
    "\n",
    "# Display the results\n",
    "print(f\"Sales will be maximized in {critical_points[0]} months.\")\n",
    "print(f\"The maximum sales will be ${max_sales*1000:.2f}.\")\n"
   ]
  },
  {
   "cell_type": "markdown",
   "id": "3fe5cab3-e4c5-4e45-aed8-f89b2ce2437b",
   "metadata": {},
   "source": [
    "#### 13)A company that produces cell phones has a cost function of c(x)=2x^2-5x+234, where C is the cost in thousands of dollars and x\n",
    "####  is the number of cell phones produced (in thousands).How many cell phones should be produced to minimize costs? \n",
    "#### What is the minimum cost? (Round to two decimals as needed) "
   ]
  },
  {
   "cell_type": "code",
   "execution_count": 1,
   "id": "f59c4fa9-2fb5-42d4-895c-ecc7be7b3688",
   "metadata": {},
   "outputs": [
    {
     "name": "stdout",
     "output_type": "stream",
     "text": [
      "Number of cell phones to produce to minimize costs: 1250\n",
      "Minimum cost: $230875.00\n"
     ]
    }
   ],
   "source": [
    "import sympy\n",
    "\n",
    "# Define the variable x as a symbolic variable\n",
    "x = sympy.Symbol('x')\n",
    "\n",
    "# Define the cost function\n",
    "cost_function = 2*x**2 - 5*x + 234\n",
    "\n",
    "# Find the derivative of the cost function with respect to x\n",
    "derivative = sympy.diff(cost_function, x)\n",
    "\n",
    "# Find the critical points by setting the derivative equal to zero and solving for x\n",
    "critical_points = sympy.solve(derivative, x)\n",
    "\n",
    "# The critical point represents the number of cell phones (in thousands) that minimizes cost\n",
    "x_min = critical_points[0]\n",
    "\n",
    "# Calculate the minimum cost by substituting x_min back into the cost function\n",
    "min_cost = cost_function.subs(x, x_min)\n",
    "\n",
    "# Convert the number of cell phones to the actual number\n",
    "num_cell_phones = x_min * 1000\n",
    "\n",
    "# Convert the minimum cost to dollars\n",
    "min_cost_dollars = min_cost * 1000\n",
    "\n",
    "# Print the results\n",
    "print(f\"Number of cell phones to produce to minimize costs: {num_cell_phones:.0f}\")\n",
    "print(f\"Minimum cost: ${min_cost_dollars:.2f}\")"
   ]
  },
  {
   "cell_type": "markdown",
   "id": "2aacd338-e8e8-491f-aee2-1badae250489",
   "metadata": {},
   "source": [
    "#### 14)Evaluate the following limits. Use l'Hôpital's Rule as needed. If a limit does not exist, enter DNE as your answer.\n",
    "#### A. lim x->infinity (3x^3+2x^2+4x)/(-3+9x-4x^3)  \n",
    "#### B. lim x->infinity (10x^3+11x)/e^7x\n",
    "#### C. lim x->0 sin(9x)/8sin(4x) \n",
    "#### D. lim x->0 10e^2x-10/sin(11x)\n"
   ]
  },
  {
   "cell_type": "code",
   "execution_count": 1,
   "id": "0e2c4fab-b486-48d3-a790-73542be62657",
   "metadata": {},
   "outputs": [
    {
     "name": "stdout",
     "output_type": "stream",
     "text": [
      "The limit is: -3/4\n"
     ]
    }
   ],
   "source": [
    "#A.\n",
    "import sympy as sp\n",
    "\n",
    "# Define the variable\n",
    "x = sp.Symbol('x')\n",
    "\n",
    "# Define the numerator and denominator\n",
    "numerator = 3*x**3 + 2*x**2 + 4*x\n",
    "denominator = -3 + 9*x - 4*x**3\n",
    "\n",
    "# Define the expression\n",
    "expr = numerator / denominator\n",
    "\n",
    "# Compute the limit as x approaches infinity\n",
    "limit_result = sp.limit(expr, x, sp.oo)\n",
    "\n",
    "print(\"The limit of B is:\", limit_result)\n"
   ]
  },
  {
   "cell_type": "code",
   "execution_count": 3,
   "id": "d1293a02-f44b-4e52-a0d5-fcc0bf362765",
   "metadata": {},
   "outputs": [
    {
     "name": "stdout",
     "output_type": "stream",
     "text": [
      "The limit is of B is: 0\n"
     ]
    }
   ],
   "source": [
    "#B.\n",
    "import sympy as sp\n",
    "\n",
    "# Define the variable\n",
    "x = sp.Symbol('x')\n",
    "\n",
    "# Define the function\n",
    "numerator = 10 * x**3 + 11 * x\n",
    "denominator = sp.exp(7 * x)\n",
    "f = numerator / denominator\n",
    "\n",
    "# Compute the limit as x -> ∞\n",
    "limit_result = sp.limit(f, x, sp.oo)\n",
    "\n",
    "# Print the result\n",
    "print(\"The limit is of B is:\", limit_result)\n"
   ]
  },
  {
   "cell_type": "code",
   "execution_count": 5,
   "id": "48bf147f-d26d-4e0f-a453-3a40b15eb192",
   "metadata": {},
   "outputs": [
    {
     "name": "stdout",
     "output_type": "stream",
     "text": [
      "The limit is of C is: 9/32\n"
     ]
    }
   ],
   "source": [
    "#C.\n",
    "import sympy as sp\n",
    "\n",
    "# Define the variable\n",
    "x = sp.Symbol('x')\n",
    "\n",
    "# Define the function\n",
    "numerator = sp.sin(9 * x)\n",
    "denominator = 8 * sp.sin(4 * x)\n",
    "f = numerator / denominator\n",
    "\n",
    "# Compute the limit as x -> 0\n",
    "limit_result = sp.limit(f, x, 0)\n",
    "\n",
    "# Print the result\n",
    "print(\"The limit is of C is:\", limit_result)\n"
   ]
  },
  {
   "cell_type": "markdown",
   "id": "a151a93e-7dfe-47d6-9cea-d4bd330a44f7",
   "metadata": {},
   "source": [
    "#### 15)Use Newton's Method to estimate a root of the function. Round your answer to at least 10 decimal places as needed.\n",
    "#### f(x)=2x+3-e^x Use the initial estimate x1 = 0.4:\n",
    " "
   ]
  },
  {
   "cell_type": "code",
   "execution_count": 14,
   "id": "6738558a-a1c6-4fb1-ac34-e6531a512424",
   "metadata": {},
   "outputs": [
    {
     "name": "stdout",
     "output_type": "stream",
     "text": [
      "Iteration 1: x = -4.142084772017017\n",
      "Iteration 2: x = -1.4708324684500522\n",
      "Iteration 3: x = -1.3740113627922494\n",
      "Iteration 4: x = -1.3733745747349304\n",
      "Iteration 5: x = -1.3733745453519441\n",
      "Iteration 6: x = -1.373374545351944\n",
      "Iteration 7: x = -1.373374545351944\n",
      "Estimated root after 7 iterations: x_7 = -1.3733745454\n"
     ]
    }
   ],
   "source": [
    "import math\n",
    "\n",
    "# Function and its derivative\n",
    "def f(x):\n",
    "    return 2*x + 3 - math.exp(x)\n",
    "\n",
    "def f_prime(x):\n",
    "    return 2 - math.exp(x)\n",
    "\n",
    "# Newton's Method Implementation\n",
    "def newtons_method(x0, iterations):\n",
    "    x = x0\n",
    "    for i in range(iterations):\n",
    "        fx = f(x)\n",
    "        fx_prime = f_prime(x)\n",
    "        if fx_prime == 0:  # Prevent division by zero\n",
    "            print(\"Derivative is zero, stopping iteration.\")\n",
    "            break\n",
    "        x_new = x - fx / fx_prime\n",
    "        print(f\"Iteration {i+1}: x = {x_new}\")\n",
    "        x = x_new\n",
    "    return x\n",
    "\n",
    "# Initial guess x1 = 0.4, we need to iterate 7 times\n",
    "x1 = 0.4\n",
    "iterations = 7\n",
    "x_7 = newtons_method(x1, iterations)\n",
    "print(f\"Estimated root after {iterations} iterations: x_7 = {x_7:.10f}\")\n"
   ]
  },
  {
   "cell_type": "code",
   "execution_count": null,
   "id": "582c2f4b-f6e6-42d6-a7b8-ca1dbdd20399",
   "metadata": {},
   "outputs": [],
   "source": []
  }
 ],
 "metadata": {
  "kernelspec": {
   "display_name": "Python 3 (ipykernel)",
   "language": "python",
   "name": "python3"
  },
  "language_info": {
   "codemirror_mode": {
    "name": "ipython",
    "version": 3
   },
   "file_extension": ".py",
   "mimetype": "text/x-python",
   "name": "python",
   "nbconvert_exporter": "python",
   "pygments_lexer": "ipython3",
   "version": "3.12.9"
  }
 },
 "nbformat": 4,
 "nbformat_minor": 5
}
