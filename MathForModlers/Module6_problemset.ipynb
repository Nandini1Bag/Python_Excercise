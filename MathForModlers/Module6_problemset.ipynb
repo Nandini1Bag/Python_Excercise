{
 "cells": [
  {
   "cell_type": "markdown",
   "id": "5c813776-25b9-4306-b08e-3623cf03268a",
   "metadata": {},
   "source": [
    "#### 1)Speedometer readings for a vehicle (in motion) at 9-second intervals are given in the table.\n",
    "#### t (sec)\t0\t9\t18\t27\t36\t45\t54\n",
    "#### v (ft/s)\t0\t7\t26\t46\t59\t57\t42\n",
    "#### Estimate the distance traveled by the vehicle during this 54-second period using the Riemann sums L6 ,R6  and M3.\n",
    "#### L6 = ? feet , R6 = ? feet , M3 = ? feet"
   ]
  },
  {
   "cell_type": "code",
   "execution_count": 1,
   "id": "943d95a1-c7f8-46e3-8773-68f7c9ba6ba1",
   "metadata": {},
   "outputs": [
    {
     "name": "stdout",
     "output_type": "stream",
     "text": [
      "L6 = 1755 feet\n",
      "R6 = 2133 feet\n",
      "M3 = 1980 feet\n"
     ]
    }
   ],
   "source": [
    "# Given data\n",
    "t = [0, 9, 18, 27, 36, 45, 54]            # Time in seconds\n",
    "v = [0, 7, 26, 46, 59, 57, 42]            # Velocity in ft/s\n",
    "\n",
    "delta_t = 9  # Time interval between successive measurements\n",
    "\n",
    "# Left Riemann Sum (L6): use v[0] to v[5]\n",
    "L6 = delta_t * sum(v[0:6])\n",
    "\n",
    "# Right Riemann Sum (R6): use v[1] to v[6]\n",
    "R6 = delta_t * sum(v[1:7])\n",
    "\n",
    "# Midpoint Riemann Sum (M3): use v[1] (t=9), v[3] (t=27), v[5] (t=45)\n",
    "delta_t_mid = 18  # width of each subinterval for M3\n",
    "M3 = delta_t_mid * (v[1] + v[3] + v[5])\n",
    "\n",
    "# Print results\n",
    "print(f\"L6 = {L6} feet\")\n",
    "print(f\"R6 = {R6} feet\")\n",
    "print(f\"M3 = {M3} feet\")\n"
   ]
  },
  {
   "cell_type": "markdown",
   "id": "284759f2-b47b-4cd7-96f6-bad345584021",
   "metadata": {},
   "source": [
    "#### 2) Use part I of the Fundamental Theorem of Calculus to find the derivative of f(x)= ʃ -2 to x  √ t^3+ 2^3 dt\n",
    "#### find derivative .\n",
    "#### On Windows, you can press Alt + 8747 using the numeric keypad for integral or \n",
    "#### Using Character Map: Press Windows key + R, type charmap, and press Enter. In the Character Map window, scroll down to find the ∫ symbol.\n",
    "#### Select it and click Copy.You can now paste it wherever you need the integral symbol."
   ]
  },
  {
   "cell_type": "code",
   "execution_count": 5,
   "id": "4329cdb9-1aee-471f-b75d-eaae4037d841",
   "metadata": {},
   "outputs": [
    {
     "name": "stdout",
     "output_type": "stream",
     "text": [
      "f'(x) = sqrt(x**3 + 8)\n"
     ]
    }
   ],
   "source": [
    "import sympy as sp\n",
    "\n",
    "# Define the variable\n",
    "x = sp.symbols('x')\n",
    "\n",
    "# Define the integrand function\n",
    "integrand = sp.sqrt(x**3 + 8)\n",
    "\n",
    "# Apply the Fundamental Theorem of Calculus directly: Derivative of the integral\n",
    "f_prime_x = integrand.subs(x, x)\n",
    "\n",
    "# Display the result\n",
    "print(f\"f'(x) = {f_prime_x}\")\n"
   ]
  },
  {
   "cell_type": "code",
   "execution_count": null,
   "id": "c5afd0bc-4936-4679-8930-975457c3efe1",
   "metadata": {},
   "outputs": [],
   "source": []
  }
 ],
 "metadata": {
  "kernelspec": {
   "display_name": "Python 3 (ipykernel)",
   "language": "python",
   "name": "python3"
  },
  "language_info": {
   "codemirror_mode": {
    "name": "ipython",
    "version": 3
   },
   "file_extension": ".py",
   "mimetype": "text/x-python",
   "name": "python",
   "nbconvert_exporter": "python",
   "pygments_lexer": "ipython3",
   "version": "3.12.9"
  }
 },
 "nbformat": 4,
 "nbformat_minor": 5
}
