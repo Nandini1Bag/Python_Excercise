{
 "cells": [
  {
   "cell_type": "code",
   "execution_count": 3,
   "id": "626da2af-3293-4959-a83b-8a123967d155",
   "metadata": {},
   "outputs": [
    {
     "name": "stdout",
     "output_type": "stream",
     "text": [
      "✅ Small trucks: 2.00, Large trucks: 3.00, Total Cost: $740.00\n"
     ]
    }
   ],
   "source": [
    "from scipy.optimize import linprog\n",
    "\n",
    "# Objective function\n",
    "c = [100, 180]\n",
    "\n",
    "# Constraints\n",
    "A = [\n",
    "    [-50, -100],  # Delivery requirement (>= becomes <= when multiplied by -1)\n",
    "    [1, 0],        # Small truck limit\n",
    "    [0, 1]         # Large truck limit\n",
    "]\n",
    "b = [-400, 4, 3]\n",
    "bounds = [(0, None), (0, None)]\n",
    "\n",
    "res = linprog(c, A_ub=A, b_ub=b, bounds=bounds, method='highs')\n",
    "\n",
    "if res.success:\n",
    "    x, y = res.x\n",
    "    print(f\"✅ Small trucks: {x:.2f}, Large trucks: {y:.2f}, Total Cost: ${res.fun:.2f}\")\n",
    "else:\n",
    "    print(\"❌ Optimization failed.\")"
   ]
  },
  {
   "cell_type": "code",
   "execution_count": null,
   "id": "59977b0d-c34b-4966-9f7f-64ac3db9afef",
   "metadata": {},
   "outputs": [],
   "source": []
  }
 ],
 "metadata": {
  "kernelspec": {
   "display_name": "Python 3 (ipykernel)",
   "language": "python",
   "name": "python3"
  },
  "language_info": {
   "codemirror_mode": {
    "name": "ipython",
    "version": 3
   },
   "file_extension": ".py",
   "mimetype": "text/x-python",
   "name": "python",
   "nbconvert_exporter": "python",
   "pygments_lexer": "ipython3",
   "version": "3.12.9"
  }
 },
 "nbformat": 4,
 "nbformat_minor": 5
}
