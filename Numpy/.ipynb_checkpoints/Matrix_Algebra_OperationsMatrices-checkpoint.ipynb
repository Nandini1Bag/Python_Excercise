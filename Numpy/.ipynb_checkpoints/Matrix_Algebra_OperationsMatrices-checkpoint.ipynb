{
 "cells": [
  {
   "cell_type": "markdown",
   "id": "b1c458eb-7720-4231-a9ae-7a8ecfca71ad",
   "metadata": {},
   "source": [
    "### MATRIX TRANSPOSE\n",
    "#### The transpose of a matrix switches rows and columns, i.e. an 𝑚 × 𝑛 matrix becomes an 𝑛 × 𝑚 matrix\n",
    "####  𝐴 = [[2 −1 7][−3 0 −4]] becomes 𝐴𝑇 =[[2 −3][−1 0][7 −4]]\n",
    "####  Properties:Let 𝐴 and 𝐵 be matrices where the following operations are defined. Then:\n",
    "#### • (𝐴 + 𝐵)^ T = A^T + B^T and (𝐴 − 𝐵 )^T = A^T − B^T\n",
    "#### • (𝑘𝐴)^ 𝑇 = 𝑘𝐴^𝑇\n",
    "#### • (𝐴𝐵)^ 𝑇 = 𝐵^𝑇𝐴^𝑇\n",
    "#### • ((𝐴)^−1)^ 𝑇 = (𝐴)^𝑇 −1\n",
    "#### • (𝐴^𝑇 )^𝑇 = 𝐴"
   ]
  },
  {
   "cell_type": "code",
   "execution_count": 1,
   "id": "6c58e912-671c-4a73-b4eb-ae0df70bf968",
   "metadata": {},
   "outputs": [],
   "source": [
    "import numpy as np"
   ]
  },
  {
   "cell_type": "code",
   "execution_count": 3,
   "id": "05acd826-662a-4ed2-a72d-4c2552abc178",
   "metadata": {},
   "outputs": [
    {
     "name": "stdout",
     "output_type": "stream",
     "text": [
      "Using A.T :\n",
      "[[1 4]\n",
      " [2 5]\n",
      " [3 6]]\n",
      "\n",
      "Using A.transpose() :\n",
      "[[1 4]\n",
      " [2 5]\n",
      " [3 6]]\n"
     ]
    }
   ],
   "source": [
    "# Original Matrix\n",
    "A = np.array([\n",
    "    [1, 2, 3],\n",
    "    [4, 5, 6]\n",
    "])\n",
    "\n",
    "print(\"Using A.T :\")\n",
    "print(A.T)\n",
    "\n",
    "print(\"\\nUsing A.transpose() :\")\n",
    "print(A.transpose())\n"
   ]
  },
  {
   "cell_type": "markdown",
   "id": "67a86d66-24e3-4f28-8391-3c007cc5187c",
   "metadata": {},
   "source": [
    "### MATRIX TRACE\n",
    "#### The trace of an 𝑛 × 𝑛 matrix is the sum of the elements along the diagonal. This only works with square matrices.\n",
    "#### 𝐴 =[[6 0 −4][1 2 5][10 −1 3]]   and 𝑡𝑟(𝐴) = 6 + 2 + 3 = 11\n",
    "#### Properties:\n",
    "#### Let 𝐴 and 𝐵 be 𝑛 × 𝑛 matrices. Then:\n",
    "#### • 𝑡𝑟 (𝐴 + 𝐵) = 𝑡𝑟(𝐴)+ 𝑡𝑟(𝐵) and 𝑡𝑟 (𝐴 − 𝐵) = 𝑡𝑟 (𝐴) − 𝑡𝑟(𝐵)\n",
    "#### • 𝑡𝑟( 𝑘𝐴 )= 𝑘 ∙ 𝑡𝑟(𝐴)\n",
    "#### • 𝑡𝑟 (𝐴𝐵) = 𝑡𝑟(𝐵𝐴)\n",
    "#### • 𝑡𝑟 𝐴^𝑇 = 𝑡𝑟(𝐴)"
   ]
  },
  {
   "cell_type": "code",
   "execution_count": 5,
   "id": "591bff19-4ada-4fb8-9017-59cd92edf18c",
   "metadata": {},
   "outputs": [
    {
     "name": "stdout",
     "output_type": "stream",
     "text": [
      "Matrix A:\n",
      "[[1 2 3]\n",
      " [4 5 6]\n",
      " [7 8 9]]\n",
      "\n",
      "Trace of A: 15\n"
     ]
    }
   ],
   "source": [
    "A = np.array([\n",
    "    [1, 2, 3],\n",
    "    [4, 5, 6],\n",
    "    [7, 8, 9]\n",
    "])\n",
    "\n",
    "print(\"Matrix A:\")\n",
    "print(A)\n",
    "\n",
    "# Trace of A\n",
    "print(\"\\nTrace of A:\", np.trace(A))\n"
   ]
  },
  {
   "cell_type": "markdown",
   "id": "0437ee92-fa2d-4917-a902-ac8e041720fe",
   "metadata": {},
   "source": [
    "### DETERMINANT : 3 X 3\n",
    "#### Determinant of 𝐴 = [[𝑎11 𝑎12 𝑎13][ 𝑎21 𝑎22 𝑎23][𝑎31 𝑎32 𝑎33]]:  \n",
    "####  Steps: 1. Multiply Diagonals (Left to Right): 𝑎11𝑎22𝑎33 + 𝑎12𝑎23𝑎31 + 𝑎13𝑎21𝑎32\n",
    "####  Steps: 2. Multiply Diagonals (Right to Left): 𝑎13𝑎22𝑎31 − 𝑎11𝑎23𝑎32 − 𝑎12𝑎21𝑎33\n",
    "####  det(𝐴)= 𝑎11𝑎22𝑎33 + 𝑎12𝑎23𝑎31 + 𝑎13𝑎21𝑎32 − 𝑎13𝑎22𝑎31 − 𝑎11𝑎23𝑎32 − 𝑎12𝑎21𝑎33"
   ]
  },
  {
   "cell_type": "code",
   "execution_count": 7,
   "id": "0df0df0e-88d3-416f-9aed-36a1d976d92f",
   "metadata": {},
   "outputs": [
    {
     "name": "stdout",
     "output_type": "stream",
     "text": [
      "Determinant of A: 2\n"
     ]
    }
   ],
   "source": [
    "A = np.array([\n",
    "    [1, 3, -2],\n",
    "    [2, 7, -3],\n",
    "    [3, 8, -5]\n",
    "])\n",
    "\n",
    "print(\"Determinant of A:\", round(np.linalg.det(A)))\n"
   ]
  },
  {
   "cell_type": "markdown",
   "id": "8e8c23f9-ed91-4080-a5e9-5f3a55daaf9c",
   "metadata": {},
   "source": [
    "### MATRIX MINOR AND COFACTOR\n",
    "#### → Minor of an element in a matrix is found by: 1)Deleting the Row and Column of that element. 2)Taking Determinant of the remaining smaller matrix.\n",
    "#### → Cofactor of an element is:Cofactor = Sign × Minor   Where Sign depends on its position using:(−1)^𝑖+𝑗    (i = Row Number, j = Column Number)\n",
    "#### ex:- Example 3×3 Matrix:𝐴=[[1 2 3][0 4 5][1 0 6]]\n",
    "#### Step 1: Minor of 𝐴11  → (First Row, First Column)\n",
    "####        → Delete Row 1 and Column 1:  [ [4 5][ 0 6] ] =(4×6)−(0×5)=24\n",
    "####        → Cofactor 𝐶11=(+1)×24=24\n",
    "#### Step 2: Minor of 𝐴12  → (First Row, Second Column)\n",
    "####        → Delete Row 1 and Column 2:[[ 0 5 ][1 6 ]]  =(0×6)−(1×5)=−5\n",
    "####        → Cofactor 𝐶12=(−1)×(−5)=5\n",
    "#### Step 3: Minor of 𝐴13  → (First Row, Third Column)\n",
    "####       → Delete Row 1 and Column 3:[[ 0 4 ][1 0 ]] =(0×0)−(1×4)=−4\n",
    "####       → Cofactor 𝐶13 =(+1)×(−4)=−4\n",
    "####    Final Cofactor Matrix:𝐶=[ [24 5 −4] [… … …][… …]]\n",
    "\n",
    "\n"
   ]
  },
  {
   "cell_type": "code",
   "execution_count": 9,
   "id": "1d8920c1-e674-4054-b393-c6e1ff5123cb",
   "metadata": {},
   "outputs": [
    {
     "name": "stdout",
     "output_type": "stream",
     "text": [
      "Matrix A:\n",
      "⎡1  2  3⎤\n",
      "⎢       ⎥\n",
      "⎢0  4  5⎥\n",
      "⎢       ⎥\n",
      "⎣1  0  6⎦\n",
      "Cofactor Matrix of A:\n",
      "⎡24   5   -4⎤\n",
      "⎢           ⎥\n",
      "⎢-12  3   2 ⎥\n",
      "⎢           ⎥\n",
      "⎣-2   -5  4 ⎦\n"
     ]
    }
   ],
   "source": [
    "import sympy as sp\n",
    "\n",
    "A = sp.Matrix([\n",
    "    [1, 2, 3],\n",
    "    [0, 4, 5],\n",
    "    [1, 0, 6]\n",
    "])\n",
    "\n",
    "print(\"Matrix A:\")\n",
    "sp.pprint(A)\n",
    "\n",
    "print(\"Cofactor Matrix of A:\")\n",
    "C = A.cofactor_matrix()\n",
    "sp.pprint(C)\n"
   ]
  },
  {
   "cell_type": "markdown",
   "id": "92441ce1-6399-436e-8bd9-0ab31cd2599d",
   "metadata": {},
   "source": [
    "### COFACTOR EXPANSION(Also called Laplace Expansion)\n",
    "#### → It is a method to find the Determinant of a matrix using Cofactors.\n",
    "#### Cofactor Expansion along 𝑖𝑡ℎ  row: det(A)=ai1Ci1+ai2Ci2+⋯+ainCin\n",
    "#### This means:Multiply each element in the 𝑖𝑡ℎ row by its cofactor and add them.\n",
    "#### Cofactor Expansion along 𝑗𝑡ℎ column:det(𝐴)=a1jC1j +a2jC2j +⋯+anjCnj\n",
    "#### This means:Multiply each element in the jth  column by its cofactor and add them."
   ]
  },
  {
   "cell_type": "code",
   "execution_count": 11,
   "id": "78afa1e3-a540-4c76-a3c5-6aeeee58f67f",
   "metadata": {},
   "outputs": [
    {
     "name": "stdout",
     "output_type": "stream",
     "text": [
      "Matrix A:\n",
      "Matrix([[1, 2, 3], [4, 5, 6], [7, 8, 9]])\n",
      "\n",
      "Determinant of A = 0\n",
      "\n",
      "Cofactor Matrix (Adjoint of A):\n",
      "Matrix([[-3, 6, -3], [6, -12, 6], [-3, 6, -3]])\n"
     ]
    }
   ],
   "source": [
    "from sympy import Matrix\n",
    "\n",
    "# Define the Matrix\n",
    "A = Matrix([[1, 2, 3],\n",
    "            [4, 5, 6],\n",
    "            [7, 8, 9]])\n",
    "\n",
    "print(\"Matrix A:\")\n",
    "print(A)\n",
    "\n",
    "# Determinant\n",
    "detA = A.det()\n",
    "print(\"\\nDeterminant of A =\", detA)\n",
    "\n",
    "# Adjoint (Transpose of Cofactor Matrix)\n",
    "adjA = A.adjugate()\n",
    "print(\"\\nCofactor Matrix (Adjoint of A):\")\n",
    "print(adjA)\n"
   ]
  },
  {
   "cell_type": "markdown",
   "id": "aa168282-e12d-49bc-9879-46b3d52fc842",
   "metadata": {},
   "source": [
    "### CRAMER’S RULE : Cramer's Rule is used to solve a system of linear equations:𝐴𝑥⃗=𝑏⃗   \n",
    "####  Where:A = Coefficient Matrix (n × n),  𝑥⃗  = Column of Variables ,𝑏⃗= Constant Column Vector  =>  Condition:det(𝐴)≠0\n",
    "####  Formula for each variable 𝑥𝑖: 𝑥𝑖=det(𝐴𝑖(𝑏⃗))/det(A)  Where:𝐴𝑖(𝑏⃗) = Matrix obtained by replacing the 𝑖𝑡h column of A with 𝑏⃗\n",
    "####  Steps to Apply Cramer's Rule:\n",
    "####    1)Find Determinant of A → 𝐷=det(𝐴)\n",
    "####    2)Replace 1st column by b(ex:-b = np.array([6, 14, 14])) → Find 𝐷 1=det(𝐴1(𝑏)) \n",
    "####    3)Replace 2nd column by 𝑏 → Find 𝐷2=det(𝐴2(𝑏))\n",
    "####    4) Replace 3rd column by 𝑏 → Find 𝐷3=det(𝐴3(𝑏)) \n",
    "####   Final Solution:𝑥1=𝐷1/𝐷,𝑥2=D2/D,𝑥3=𝐷3/𝐷 "
   ]
  },
  {
   "cell_type": "code",
   "execution_count": 13,
   "id": "ed5bf29b-f421-46d3-91e5-cf57f088af9d",
   "metadata": {},
   "outputs": [
    {
     "name": "stdout",
     "output_type": "stream",
     "text": [
      "x = 1.94289029309402e-15\n",
      "y = 1.0\n",
      "z = 4.999999999999999\n"
     ]
    }
   ],
   "source": [
    "A = np.array([[1, 1, 1],\n",
    "              [2, -1, 3],\n",
    "              [3, 4, 2]])\n",
    "\n",
    "b = np.array([6, 14, 14])\n",
    "\n",
    "D = np.linalg.det(A)\n",
    "\n",
    "D1 = A.copy()\n",
    "D1[:,0] = b\n",
    "D1 = np.linalg.det(D1)\n",
    "\n",
    "D2 = A.copy()\n",
    "D2[:,1] = b\n",
    "D2 = np.linalg.det(D2)\n",
    "\n",
    "D3 = A.copy()\n",
    "D3[:,2] = b\n",
    "D3 = np.linalg.det(D3)\n",
    "\n",
    "x1 = D1 / D\n",
    "x2 = D2 / D\n",
    "x3 = D3 / D\n",
    "\n",
    "print(\"x =\", x1)\n",
    "print(\"y =\", x2)\n",
    "print(\"z =\", x3)\n"
   ]
  },
  {
   "cell_type": "markdown",
   "id": "fffb1ba7-7115-4da6-b4ae-f19badddc6c8",
   "metadata": {},
   "source": [
    "### Eigenvalues and Eigenvectors\n",
    "#### In linear algebra, eigenvalues and eigenvectors are important concepts used especially when dealing with matrices.\n",
    "#### Given a square matrix 𝐴, an eigenvector 𝑣 and an eigenvalue 𝜆 satisfy this equation:𝐴𝑣=𝜆𝑣\n",
    "#### How to find them?  \n",
    "####   1) Start with:𝐴𝑣=𝜆𝑣 \n",
    "####   2) Rewrite it:(𝐴−𝜆𝐼)𝑣=0  (where I is the identity matrix).\n",
    "####   3)For nontrivial solutions (nonzero v), the determinant must be zero:det(𝐴−𝜆𝐼)=0\n",
    "####   4)Solve for λ: This gives the eigenvalues.\n",
    "####   5)Substitute each λ back into (𝐴−𝜆𝐼)𝑣=0 to find the corresponding eigenvector"
   ]
  },
  {
   "cell_type": "code",
   "execution_count": null,
   "id": "ba38dbed-d1ad-46ed-a354-b73e520b5298",
   "metadata": {},
   "outputs": [],
   "source": [
    "# Define the matrix\n",
    "A = np.array([[2, 1],\n",
    "              [1, 2]])\n",
    "\n",
    "# Use numpy's function to find eigenvalues and eigenvectors\n",
    "eigenvalues, eigenvectors = np.linalg.eig(A)\n",
    "\n",
    "print(\"Eigenvalues:\")\n",
    "print(eigenvalues)\n",
    "\n",
    "print(\"\\nEigenvectors:\")\n",
    "print(eigenvectors)\n"
   ]
  }
 ],
 "metadata": {
  "kernelspec": {
   "display_name": "Python 3 (ipykernel)",
   "language": "python",
   "name": "python3"
  },
  "language_info": {
   "codemirror_mode": {
    "name": "ipython",
    "version": 3
   },
   "file_extension": ".py",
   "mimetype": "text/x-python",
   "name": "python",
   "nbconvert_exporter": "python",
   "pygments_lexer": "ipython3",
   "version": "3.12.9"
  }
 },
 "nbformat": 4,
 "nbformat_minor": 5
}
