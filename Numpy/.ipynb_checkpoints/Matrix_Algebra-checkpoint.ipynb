{
 "cells": [
  {
   "cell_type": "markdown",
   "id": "73f41a79-fe3c-4287-b885-d2e14bbad576",
   "metadata": {},
   "source": [
    "## MATRIX  OPERATIONS\n",
    "### Addition  and Scalar Multiplication\n",
    "#### • The sum of two 𝑚 × 𝑛 matrices 𝐴 and 𝐵 is the 𝑚 × 𝑛 matrix 𝐴 + 𝐵 in which each element is the sum of the corresponding elements of 𝐴 and 𝐵.\n",
    "#### • The product of a scalar 𝑘 and a matrix 𝐴 is the matrix 𝑘𝐴, in which each element is 𝑘 times the corresponding element of 𝐴."
   ]
  },
  {
   "cell_type": "code",
   "execution_count": 1,
   "id": "bea846fb-72e4-4505-af4f-9d1bd864352d",
   "metadata": {},
   "outputs": [],
   "source": [
    "import numpy as np"
   ]
  },
  {
   "cell_type": "code",
   "execution_count": null,
   "id": "7d056333-aad2-4bc7-864a-20a31c2a3d08",
   "metadata": {},
   "outputs": [],
   "source": [
    "# Example 1: Matrix Addition & Subtraction using numpy\n",
    "# Given matrices\n",
    "A = np.array([[1, -8, 3],\n",
    "              [9, 11, 2],\n",
    "              [5, -4, 0]])\n",
    "\n",
    "B = np.array([[-3, 0, 2],\n",
    "              [12, 7, -1],\n",
    "              [6, 8, -5]])\n",
    "\n",
    "C = np.array([[41, -6, 11],\n",
    "              [-9, -14, 2],\n",
    "              [0, 10, 4]])\n",
    "\n",
    "# Find: 2A + B - C\n",
    "result = 2 * A + B - C\n",
    "\n",
    "print(\"2A + B - C =\")\n",
    "print(result)\n"
   ]
  },
  {
   "cell_type": "markdown",
   "id": "707e5a75-04f7-4832-9371-2b40f2ccc295",
   "metadata": {},
   "source": [
    "### MATRIX MULTIPLICATION\n",
    "#### • The product 𝐴𝐵 of two matrices 𝐴 and 𝐵 can be found only if the number of columns of 𝐴 equals the number of rows of 𝐵.\n",
    "#### • If 𝐴 is an 𝑚 × 𝑛 matrix and 𝐵 is an 𝑛 × 𝑘 matrix, the product 𝐴𝐵 will be an 𝑚 × 𝑘 matrix\n",
    "#### • If 𝐴 is an 𝑚 × 𝑛 matrix and 𝐵 is an 𝑛 × 𝑚 matrix, the products 𝐴𝐵 and 𝐵𝐴 can both be found. However, 𝐴𝐵 ≠ 𝐵𝐴 in general\n",
    "#### Example :-Matrix A (2×3)     Matrix B (3×2) \n",
    "#### Multiply them: First row, first column:(W)\n",
    "####                First row, second column:(X)\n",
    "####                Second row, first column:(Y)\n",
    "####                Second row, second column:(Z)\n",
    "#### Resulting Matrix C (2×2):[[W,X],[Y,Z]]"
   ]
  },
  {
   "cell_type": "code",
   "execution_count": 7,
   "id": "cd8e91d6-9ab9-44c2-9075-54a5df1affbf",
   "metadata": {},
   "outputs": [
    {
     "name": "stdout",
     "output_type": "stream",
     "text": [
      "AB =\n",
      "[[ -8  -3 -13]\n",
      " [ 13   2   1]\n",
      " [ 13   5  22]]\n",
      "\n",
      "BA =\n",
      "[[ 3 -8]\n",
      " [ 2 13]]\n"
     ]
    }
   ],
   "source": [
    "# Matrices\n",
    "A = np.array([[1, -3],\n",
    "              [7, 2],\n",
    "              [-2, 5]])\n",
    "\n",
    "B = np.array([[1, 0, -1],\n",
    "              [3, 1, 4]])\n",
    "\n",
    "# AB → (3x2) × (2x3) = (3x3)\n",
    "AB = np.dot(A, B)\n",
    "#behind the scene:-  C=AB\n",
    "#First row of C:\n",
    "#𝑐11=(1)(1)+(−3)(3)=1−9=−8\n",
    "#𝑐12=(1)(0)+(−3)(1)=0−3=−3\n",
    "#c13 =(1)(−1)+(−3)(4)=−1−12=−13\n",
    "#Second row of C:\n",
    "#c21 =(7)(1)+(2)(3)=7+6=13\n",
    "#c22 =(7)(0)+(2)(1)=0+2=2\n",
    "#c23 =(7)(−1)+(2)(4)=−7+8=1\n",
    "#Third row of C:\n",
    "#c31 =(−2)(1)+(5)(3)=−2+15=13\n",
    "#c32 =(−2)(0)+(5)(1)=0+5=5\n",
    "#c33 =(−2)(−1)+(5)(4)=2+20=22\n",
    "\n",
    "# BA → (2x3) × (3x2) = Not Possible\n",
    "try:\n",
    "    BA = np.dot(B, A)\n",
    "except ValueError as e:\n",
    "    BA = \"Multiplication not possible: \" + str(e)\n",
    "\n",
    "print(\"AB =\")\n",
    "print(AB)\n",
    "\n",
    "print(\"\\nBA =\")\n",
    "print(BA)\n"
   ]
  },
  {
   "cell_type": "markdown",
   "id": "5f3c043e-661d-4ffe-a974-d72d6ad7cf32",
   "metadata": {},
   "source": []
  }
 ],
 "metadata": {
  "kernelspec": {
   "display_name": "Python 3 (ipykernel)",
   "language": "python",
   "name": "python3"
  },
  "language_info": {
   "codemirror_mode": {
    "name": "ipython",
    "version": 3
   },
   "file_extension": ".py",
   "mimetype": "text/x-python",
   "name": "python",
   "nbconvert_exporter": "python",
   "pygments_lexer": "ipython3",
   "version": "3.12.9"
  }
 },
 "nbformat": 4,
 "nbformat_minor": 5
}
