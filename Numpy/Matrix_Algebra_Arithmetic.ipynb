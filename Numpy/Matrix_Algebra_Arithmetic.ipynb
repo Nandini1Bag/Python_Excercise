{
 "cells": [
  {
   "cell_type": "markdown",
   "id": "73f41a79-fe3c-4287-b885-d2e14bbad576",
   "metadata": {},
   "source": [
    "## **MATRIX  OPERATIONS**\n",
    "### **Addition  and Scalar Multiplication**\n",
    "#### • The sum of two 𝑚 × 𝑛 matrices 𝐴 and 𝐵 is the 𝑚 × 𝑛 matrix 𝐴 + 𝐵 in which each element is the sum of the corresponding elements of 𝐴 and 𝐵.\n",
    "#### • The product of a scalar 𝑘 and a matrix 𝐴 is the matrix 𝑘𝐴, in which each element is 𝑘 times the corresponding element of 𝐴."
   ]
  },
  {
   "cell_type": "code",
   "execution_count": 3,
   "id": "bea846fb-72e4-4505-af4f-9d1bd864352d",
   "metadata": {},
   "outputs": [],
   "source": [
    "import numpy as np"
   ]
  },
  {
   "cell_type": "code",
   "execution_count": null,
   "id": "7d056333-aad2-4bc7-864a-20a31c2a3d08",
   "metadata": {},
   "outputs": [],
   "source": [
    "# Example 1: Matrix Addition & Subtraction using numpy\n",
    "# Given matrices\n",
    "A = np.array([[1, -8, 3],\n",
    "              [9, 11, 2],\n",
    "              [5, -4, 0]])\n",
    "\n",
    "B = np.array([[-3, 0, 2],\n",
    "              [12, 7, -1],\n",
    "              [6, 8, -5]])\n",
    "\n",
    "C = np.array([[41, -6, 11],\n",
    "              [-9, -14, 2],\n",
    "              [0, 10, 4]])\n",
    "\n",
    "# Find: 2A + B - C\n",
    "result = 2 * A + B - C\n",
    "\n",
    "print(\"2A + B - C =\")\n",
    "print(result)\n"
   ]
  },
  {
   "cell_type": "markdown",
   "id": "707e5a75-04f7-4832-9371-2b40f2ccc295",
   "metadata": {},
   "source": [
    "### **MATRIX MULTIPLICATION**\n",
    "#### • The product 𝐴𝐵 of two matrices 𝐴 and 𝐵 can be found only if the number of columns of 𝐴 equals the number of rows of 𝐵.\n",
    "#### • If 𝐴 is an 𝑚 × 𝑛 matrix and 𝐵 is an 𝑛 × 𝑘 matrix, the product 𝐴𝐵 will be an 𝑚 × 𝑘 matrix\n",
    "#### • If 𝐴 is an 𝑚 × 𝑛 matrix and 𝐵 is an 𝑛 × 𝑚 matrix, the products 𝐴𝐵 and 𝐵𝐴 can both be found. However, 𝐴𝐵 ≠ 𝐵𝐴 in general\n",
    "#### Example :-Matrix A (2×3)     Matrix B (3×2) \n",
    "#### Multiply them: First row, first column:(W)\n",
    "####                First row, second column:(X)\n",
    "####                Second row, first column:(Y)\n",
    "####                Second row, second column:(Z)\n",
    "#### Resulting Matrix C (2×2):[[W,X],[Y,Z]]"
   ]
  },
  {
   "cell_type": "code",
   "execution_count": 7,
   "id": "cd8e91d6-9ab9-44c2-9075-54a5df1affbf",
   "metadata": {},
   "outputs": [
    {
     "name": "stdout",
     "output_type": "stream",
     "text": [
      "AB =\n",
      "[[ -8  -3 -13]\n",
      " [ 13   2   1]\n",
      " [ 13   5  22]]\n",
      "\n",
      "BA =\n",
      "[[ 3 -8]\n",
      " [ 2 13]]\n"
     ]
    }
   ],
   "source": [
    "# Matrices\n",
    "A = np.array([[1, -3],\n",
    "              [7, 2],\n",
    "              [-2, 5]])\n",
    "\n",
    "B = np.array([[1, 0, -1],\n",
    "              [3, 1, 4]])\n",
    "\n",
    "# AB → (3x2) × (2x3) = (3x3)\n",
    "AB = np.dot(A, B)\n",
    "#behind the scene:-  C=AB\n",
    "#First row of C:\n",
    "#𝑐11=(1)(1)+(−3)(3)=1−9=−8\n",
    "#𝑐12=(1)(0)+(−3)(1)=0−3=−3\n",
    "#c13 =(1)(−1)+(−3)(4)=−1−12=−13\n",
    "#Second row of C:\n",
    "#c21 =(7)(1)+(2)(3)=7+6=13\n",
    "#c22 =(7)(0)+(2)(1)=0+2=2\n",
    "#c23 =(7)(−1)+(2)(4)=−7+8=1\n",
    "#Third row of C:\n",
    "#c31 =(−2)(1)+(5)(3)=−2+15=13\n",
    "#c32 =(−2)(0)+(5)(1)=0+5=5\n",
    "#c33 =(−2)(−1)+(5)(4)=2+20=22\n",
    "\n",
    "# BA → (2x3) × (3x2) = Not Possible\n",
    "try:\n",
    "    BA = np.dot(B, A)\n",
    "except ValueError as e:\n",
    "    BA = \"Multiplication not possible: \" + str(e)\n",
    "\n",
    "print(\"AB =\")\n",
    "print(AB)\n",
    "\n",
    "print(\"\\nBA =\")\n",
    "print(BA)\n"
   ]
  },
  {
   "cell_type": "markdown",
   "id": "5f3c043e-661d-4ffe-a974-d72d6ad7cf32",
   "metadata": {},
   "source": [
    "### **VECTOR SOLUTIONS**\n",
    "####  (Behind the scene theory)Steps solving a system of linear equations using matrices  :- Given Matrix Equation:𝐴𝑥⃗=𝑏\n",
    "####   1)Step 1: Write the Augmented Matrix [𝐴∣𝑏]\n",
    "####   2)Step 2: Perform Row Operations (Gaussian Elimination)\n",
    "####   3)Step 3: Solution from RREF\n",
    "#### Using numpy to solve the system 𝐴𝑥⃗=𝑏 "
   ]
  },
  {
   "cell_type": "code",
   "execution_count": 5,
   "id": "b3b20994-2155-4658-ac4f-23791e92f869",
   "metadata": {},
   "outputs": [
    {
     "name": "stdout",
     "output_type": "stream",
     "text": [
      "Solution Vector x:\n",
      "[ 1.  2. -1.]\n"
     ]
    }
   ],
   "source": [
    "# Define matrix A\n",
    "A = np.array([\n",
    "    [1, -1, 5],\n",
    "    [3, 3, -1],\n",
    "    [1, 3, 2]\n",
    "])\n",
    "\n",
    "# Define vector b\n",
    "b = np.array([-6, 10, 5])\n",
    "\n",
    "# Solve for x using numpy's linear solver\n",
    "x = np.linalg.solve(A, b)\n",
    "\n",
    "print(\"Solution Vector x:\")\n",
    "print(x)\n"
   ]
  },
  {
   "cell_type": "markdown",
   "id": "6e5becfe-ec72-4dcf-81f9-8a13d51493e6",
   "metadata": {},
   "source": [
    "####  using SymPy to solve the system 𝐴𝑥⃗=𝑏"
   ]
  },
  {
   "cell_type": "code",
   "execution_count": null,
   "id": "b9d69d80-5907-46c1-8681-306df8348dfb",
   "metadata": {},
   "outputs": [],
   "source": [
    "from sympy import Matrix, symbols, Eq, solve\n",
    "\n",
    "# Define variables\n",
    "x1, x2, x3 = symbols('x1 x2 x3')\n",
    "\n",
    "# Define the augmented matrix [A | b]\n",
    "A = Matrix([\n",
    "    [1, -1, 5],\n",
    "    [3, 3, -1],\n",
    "    [1, 3, 2]\n",
    "])\n",
    "\n",
    "b = Matrix([-6, 10, 5])\n",
    "\n",
    "# Form the system of equations\n",
    "eqs = A * Matrix([x1, x2, x3]) - b\n",
    "\n",
    "# Solve the system\n",
    "solution = solve(eqs, (x1, x2, x3))\n",
    "\n",
    "print(\"Solution:\")\n",
    "print(solution)\n"
   ]
  },
  {
   "cell_type": "markdown",
   "id": "17bf4704-5933-4976-b8e1-96d8060d27f1",
   "metadata": {},
   "source": [
    "### **Determinant of 2×2 and 3×3 Matrices**\n",
    "#### Determinant of a 2×2 Matrix: If:𝐴=[[𝑎𝑏][𝑐d]]    Then:det(A)=ad−bc\n",
    "#### Determinant of a 3×3 Matrix: If A=[[𝑎 𝑏 𝑐 ], [d 𝑒 𝑓 ], [g h 𝑖 ]]\n",
    "#### Then determinant is:det=det=a(ei−fh)−b(di−fg)+c(dh−eg) \n"
   ]
  },
  {
   "cell_type": "code",
   "execution_count": 1,
   "id": "0c8e9457-145b-48e9-b927-dccf8fe6346c",
   "metadata": {},
   "outputs": [
    {
     "name": "stdout",
     "output_type": "stream",
     "text": [
      "Determinant of 2x2 matrix: -14\n",
      "Determinant of 3x3 matrix: -0\n"
     ]
    }
   ],
   "source": [
    "import numpy as np\n",
    "\n",
    "# 2x2 matrix\n",
    "matrix_2x2 = np.array([[3, 8],\n",
    "                       [4, 6]])\n",
    "\n",
    "# Determinant\n",
    "det_2x2 = np.linalg.det(matrix_2x2)\n",
    "print(f\"Determinant of 2x2 matrix: {det_2x2:.0f}\")\n",
    "\n",
    "# 3x3 matrix\n",
    "matrix_3x3 = np.array([[1, 2, 3],\n",
    "                       [4, 5, 6],\n",
    "                       [7, 8, 9]])\n",
    "\n",
    "# Determinant\n",
    "det_3x3 = np.linalg.det(matrix_3x3)\n",
    "print(f\"Determinant of 3x3 matrix: {det_3x3:.0f}\")\n"
   ]
  },
  {
   "cell_type": "markdown",
   "id": "7f2bd116-46c5-4bfd-9c6d-8473f035b53c",
   "metadata": {},
   "source": [
    "### **MULTIPLICATIVE INVERSES** \n",
    "#### Definition:→ The inverse of a square matrix 𝐴 is a matrix 𝐴−1 such that:𝐴𝐴−1=𝐴−1𝐴=𝐼  Where I is the Identity Matrix.\n",
    "#### **Identity Matrix( I )**?→ The identity matrix is a special square matrix in which:All diagonal elements = 1    , All other elements = 0\n",
    "#### Conditions for Inverse:A matrix 𝐴 has an inverse only if:\n",
    "####      ->A is a square matrix (same rows & columns)\n",
    "####      ->det(𝐴)≠0 (Non-zero determinant)     If det⁡(𝐴)=0, inverse does not exist → called Singular Matrix\n",
    "####      → \"det\" means **Determinant** of a matrix.We write it as:    det(𝐴)or∣𝐴∣\n",
    "#### 1)Steps to find 𝐴−1  using Row Operations:\n",
    "####  Given matrix:𝐴=[[𝑎11 𝑎12 𝑎13] [𝑎21 𝑎22 𝑎23] [𝑎31 𝑎32 𝑎33]]\n",
    "####  Step 1: Write Augmented Matrix [𝐴∣𝐼] Where  I is the identity matrix of order 3.\n",
    "####  Step 2: Use Row Operations to convert LHS to Identity Matrix:Operations allowed:→ Swap rows → Multiply or divide a row by a non-zero constant\n",
    "####  → Add or subtract multiples of one row to another\n",
    "#### Goal:Convert 𝐴→I  Then RHS becomes 𝐴−1\n",
    "#### Step 3: Final Augmented Matrix When LHS =𝐼, then RHS =𝐴−1"
   ]
  },
  {
   "cell_type": "code",
   "execution_count": 10,
   "id": "4405ef69-b5ce-447f-b632-f6d3ccaf1e19",
   "metadata": {},
   "outputs": [
    {
     "name": "stdout",
     "output_type": "stream",
     "text": [
      "Matrix A:\n",
      "[[ 1  0  1]\n",
      " [ 2 -2 -1]\n",
      " [ 3  0  0]]\n",
      "\n",
      "Determinant of A: 6.0\n",
      "\n",
      "Inverse of A:\n",
      "[[ 0.          0.          0.33333333]\n",
      " [-0.5        -0.5         0.5       ]\n",
      " [ 1.          0.         -0.33333333]]\n"
     ]
    }
   ],
   "source": [
    "# Define the matrix A\n",
    "A = np.array([\n",
    "    [1, 0, 1],\n",
    "    [2, -2, -1],\n",
    "    [3, 0, 0]\n",
    "])\n",
    "\n",
    "print(\"Matrix A:\")\n",
    "print(A)\n",
    "\n",
    "# Check if Determinant is not zero (Matrix must be invertible)\n",
    "det_A = np.linalg.det(A)\n",
    "print(\"\\nDeterminant of A:\", det_A)\n",
    "\n",
    "if det_A != 0:\n",
    "    # Find Inverse of A\n",
    "    A_inv = np.linalg.inv(A)\n",
    "    print(\"\\nInverse of A:\")\n",
    "    print(A_inv)\n",
    "else:\n",
    "    print(\"Matrix is not invertible\")\n"
   ]
  },
  {
   "cell_type": "markdown",
   "id": "50764b47-6445-4ea1-b9e0-32ad4a3e8d00",
   "metadata": {},
   "source": [
    "### **USING INVERSE TO SOLVE SYSTEM**\n",
    "#### • Suppose we represent a system of linear equations by 𝐴 റ𝑥 = 𝑏\n",
    "#### • 𝐴 is an 𝑛 × 𝑛 matrix of coefficients and 𝐴−1 exists\n",
    "#### • റ𝑥 is an 𝑛 × 1 column vector of variables\n",
    "#### • 𝑏 is an 𝑛 × 1 column vector of constants\n",
    "#### • Then റ𝑥 = 𝐴−1𝑏 is the solution to the system\n",
    "#### • If 𝐴 is invertible, then the equation 𝐴 റ𝑥 = 𝑏 has exactly one solution, namely റ𝑥 = 𝐴−1𝑏"
   ]
  }
 ],
 "metadata": {
  "kernelspec": {
   "display_name": "Python 3 (ipykernel)",
   "language": "python",
   "name": "python3"
  },
  "language_info": {
   "codemirror_mode": {
    "name": "ipython",
    "version": 3
   },
   "file_extension": ".py",
   "mimetype": "text/x-python",
   "name": "python",
   "nbconvert_exporter": "python",
   "pygments_lexer": "ipython3",
   "version": "3.12.9"
  }
 },
 "nbformat": 4,
 "nbformat_minor": 5
}
