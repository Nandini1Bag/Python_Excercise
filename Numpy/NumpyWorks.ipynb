{
 "cells": [
  {
   "cell_type": "code",
   "execution_count": 2,
   "id": "99eceb6e-d3ea-4d82-a1c6-476cb871bac3",
   "metadata": {},
   "outputs": [],
   "source": [
    "#install numpy\n",
    "import numpy as np"
   ]
  },
  {
   "cell_type": "code",
   "execution_count": 4,
   "id": "9c4973a6-48df-4b72-816b-00c93dc14128",
   "metadata": {},
   "outputs": [
    {
     "name": "stdout",
     "output_type": "stream",
     "text": [
      "My numpy version is:  1.26.4\n"
     ]
    }
   ],
   "source": [
    "#Check the version of numpy\n",
    "print(\"My numpy version is: \", np.__version__)"
   ]
  },
  {
   "cell_type": "code",
   "execution_count": 10,
   "id": "14a9bc8c-6e36-4854-84fa-0e463d848e0f",
   "metadata": {},
   "outputs": [],
   "source": [
    "#Create two new lists \n",
    "person_Height=[34,67,55,90.7,44]\n",
    "person_Weight=[22,44,34,66.3,60]\n",
    "#create two numpy array from the above\n",
    "person_Height=np.array(person_Height)\n",
    "person_Weight=np.array(person_Weight)"
   ]
  },
  {
   "cell_type": "code",
   "execution_count": 12,
   "id": "7307647e-1ddd-4b1a-a642-82947c6a7e3f",
   "metadata": {},
   "outputs": [
    {
     "data": {
      "text/plain": [
       "array([22. , 44. , 34. , 66.3, 60. ])"
      ]
     },
     "execution_count": 12,
     "metadata": {},
     "output_type": "execute_result"
    }
   ],
   "source": [
    "person_Weight"
   ]
  },
  {
   "cell_type": "code",
   "execution_count": 14,
   "id": "b61c711e-eec4-4e12-9854-2a94d6ededdd",
   "metadata": {},
   "outputs": [
    {
     "data": {
      "text/plain": [
       "array([34. , 67. , 55. , 90.7, 44. ])"
      ]
     },
     "execution_count": 14,
     "metadata": {},
     "output_type": "execute_result"
    }
   ],
   "source": [
    "person_Height"
   ]
  },
  {
   "cell_type": "code",
   "execution_count": 16,
   "id": "8f055744-7d9f-44d6-8275-c0ae36d3a180",
   "metadata": {},
   "outputs": [
    {
     "name": "stdout",
     "output_type": "stream",
     "text": [
      "<class 'numpy.ndarray'>\n"
     ]
    }
   ],
   "source": [
    "print(type(person_Height))"
   ]
  },
  {
   "cell_type": "code",
   "execution_count": null,
   "id": "5c761036-4526-42f9-9188-bbb93d01dd74",
   "metadata": {},
   "outputs": [],
   "source": []
  }
 ],
 "metadata": {
  "kernelspec": {
   "display_name": "Python 3 (ipykernel)",
   "language": "python",
   "name": "python3"
  },
  "language_info": {
   "codemirror_mode": {
    "name": "ipython",
    "version": 3
   },
   "file_extension": ".py",
   "mimetype": "text/x-python",
   "name": "python",
   "nbconvert_exporter": "python",
   "pygments_lexer": "ipython3",
   "version": "3.12.7"
  }
 },
 "nbformat": 4,
 "nbformat_minor": 5
}
