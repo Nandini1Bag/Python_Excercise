{
 "cells": [
  {
   "cell_type": "markdown",
   "id": "77c17f78-7a4a-4c86-a237-e9857ea85aac",
   "metadata": {},
   "source": [
    "### Calculate the singular value decomposition of a matrix using the NumPy library:"
   ]
  },
  {
   "cell_type": "code",
   "execution_count": 11,
   "id": "33946f3a-ee95-4198-8b0d-9e7e3a84f171",
   "metadata": {},
   "outputs": [],
   "source": [
    "import numpy as np\n",
    "\n",
    "# Create a matrix M (3x2 matrix in this case)\n",
    "M = np.array([[1, 2], [3, 4], [5, 6]])"
   ]
  },
  {
   "cell_type": "code",
   "execution_count": 40,
   "id": "9a675786-d27f-498e-a91b-55f9ce9b1e62",
   "metadata": {},
   "outputs": [
    {
     "name": "stdout",
     "output_type": "stream",
     "text": [
      "Matrix M:\n",
      "[[1 2]\n",
      " [3 4]\n",
      " [5 6]]\n",
      "\n",
      "U (left singular vectors):\n",
      "[[-0.2298477   0.88346102  0.40824829]\n",
      " [-0.52474482  0.24078249 -0.81649658]\n",
      " [-0.81964194 -0.40189603  0.40824829]]\n",
      "\n",
      "S (singular values):\n",
      "[9.52551809 0.51430058]\n",
      "\n",
      "Vt (right singular vectors):\n",
      "[[-0.61962948 -0.78489445]\n",
      " [-0.78489445  0.61962948]]\n"
     ]
    }
   ],
   "source": [
    "# Perform SVD on M\n",
    "U, S, V = np.linalg.svd(M)\n",
    "\n",
    "# Print the results\n",
    "# Print the results\n",
    "print(\"Matrix M:\")\n",
    "print(M)\n",
    "\n",
    "print(\"\\nU (left singular vectors):\")\n",
    "print(U)\n",
    "\n",
    "print(\"\\nS (singular values):\")\n",
    "print(S)\n",
    "\n",
    "print(\"\\nVt (right singular vectors):\")\n",
    "print(Vt)"
   ]
  },
  {
   "cell_type": "code",
   "execution_count": 42,
   "id": "43241ae1-beea-4fc6-a6c7-0b2fa4c682f6",
   "metadata": {},
   "outputs": [
    {
     "name": "stdout",
     "output_type": "stream",
     "text": [
      "\n",
      "Reconstructed Matrix M:\n",
      "[[1. 2.]\n",
      " [3. 4.]\n",
      " [5. 6.]]\n"
     ]
    }
   ],
   "source": [
    "# Reconstruct the original matrix\n",
    "S_matrix = np.zeros_like(M, dtype=float)\n",
    "S_matrix[:len(S), :len(S)] = np.diag(S)  # Create a diagonal matrix with the singular values\n",
    "M_reconstructed = np.dot(U, np.dot(S_matrix, V))\n",
    "\n",
    "print(\"\\nReconstructed Matrix M:\")\n",
    "print(M_reconstructed)\n"
   ]
  },
  {
   "cell_type": "code",
   "execution_count": null,
   "id": "f7eb283d-81fa-4720-831c-695f3f1db92a",
   "metadata": {},
   "outputs": [],
   "source": []
  }
 ],
 "metadata": {
  "kernelspec": {
   "display_name": "Python 3 (ipykernel)",
   "language": "python",
   "name": "python3"
  },
  "language_info": {
   "codemirror_mode": {
    "name": "ipython",
    "version": 3
   },
   "file_extension": ".py",
   "mimetype": "text/x-python",
   "name": "python",
   "nbconvert_exporter": "python",
   "pygments_lexer": "ipython3",
   "version": "3.12.9"
  }
 },
 "nbformat": 4,
 "nbformat_minor": 5
}
