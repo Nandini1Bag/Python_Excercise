{
 "cells": [
  {
   "cell_type": "markdown",
   "id": "bef52555-5d9f-4ac9-ae3f-118202f3ac91",
   "metadata": {},
   "source": [
    "#### What is an outlier?\n",
    "##### An outlier is a data point in a data set that is distant from all other observations. A data point that lies outside the overall distribution of the dataset."
   ]
  },
  {
   "cell_type": "code",
   "execution_count": 1,
   "id": "175c628f-1442-4d56-87b0-7144b2143fe9",
   "metadata": {},
   "outputs": [],
   "source": [
    "import numpy as np\n",
    "import matplotlib.pyplot as plt\n",
    "%matplotlib inline"
   ]
  },
  {
   "cell_type": "markdown",
   "id": "bc4032fd-9657-4275-9676-d8ebe6fe705e",
   "metadata": {},
   "source": [
    "#### What are the criteria to identify an outlier?\n",
    "##### 1)Data point that falls outside of 1.5 times of an interquartile range above the 3rd quartile and below the 1st quartile\n",
    "##### 2)Data point that falls outside of 3 standard deviations. we can use a z score and if the z score falls outside of 2 standard deviation\n",
    "#### What is the reason for an outlier to exists in a dataset?\n",
    "##### 1)Variability in the data\n",
    "##### 2)An experimental measurement error\n",
    "#### What are the impacts of having outliers in a dataset?\n",
    "##### 1)It causes various problems during our statistical analysis\n",
    "##### 2)It may cause a significant impact on the mean and the standard deviation\n",
    "#### Various ways of finding the outlier.\n",
    "##### 1)Using scatter plots\n",
    "##### 2)Box plot\n",
    "##### 3)using z score\n",
    "##### 4)using the IQR interquantile range"
   ]
  },
  {
   "cell_type": "code",
   "execution_count": 3,
   "id": "6b7e0758-c3fe-4404-a8ef-7c7d61cf08a6",
   "metadata": {},
   "outputs": [],
   "source": [
    "dataset= [11,10,12,14,12,15,14,13,15,102,12,14,17,19,107, 10,13,12,14,12,108,12,11,14,13,15,10,15,12,10,14,13,15,10]"
   ]
  },
  {
   "cell_type": "markdown",
   "id": "fa8b19ca-e869-4fb5-947b-097805e1dc06",
   "metadata": {},
   "source": [
    "### Detecting outlier using Z score\n",
    "##### Using Z score\n",
    "##### Formula for Z score = (Observation — Mean)/Standard Deviation\n",
    "\n",
    "##### z = (X — μ) / σ"
   ]
  },
  {
   "cell_type": "code",
   "execution_count": 7,
   "id": "f8faf717-07b1-462b-82c1-d5eb6ff7c3f4",
   "metadata": {},
   "outputs": [],
   "source": [
    "outliers=[]\n",
    "def detect_outliers(data):\n",
    "    \n",
    "    threshold=3\n",
    "    mean = np.mean(data)\n",
    "    std =np.std(data)\n",
    "    \n",
    "    \n",
    "    for i in data:\n",
    "        z_score= (i - mean)/std \n",
    "        if np.abs(z_score) > threshold:\n",
    "            outliers.append(i)\n",
    "    return outliers"
   ]
  },
  {
   "cell_type": "code",
   "execution_count": 10,
   "id": "8591ea25-a4be-4b2a-8074-ce3ddfeaa403",
   "metadata": {},
   "outputs": [],
   "source": [
    "outlier_pt=detect_outliers(dataset)"
   ]
  },
  {
   "cell_type": "code",
   "execution_count": 12,
   "id": "11384f6f-0e54-4ea4-85ce-b5d6f6103300",
   "metadata": {},
   "outputs": [
    {
     "data": {
      "text/plain": [
       "[102, 107, 108]"
      ]
     },
     "execution_count": 12,
     "metadata": {},
     "output_type": "execute_result"
    }
   ],
   "source": [
    "outlier_pt"
   ]
  },
  {
   "cell_type": "markdown",
   "id": "85cffbe0-d3b0-493d-8d8b-82761336409e",
   "metadata": {},
   "source": [
    "#### InterQuantile Range   75%- 25% values in a dataset\n",
    "#### Steps\n",
    "#### 1. Arrange the data in increasing order\n",
    "#### 2. Calculate first(q1) and third quartile(q3)\n",
    "#### 3. Find interquartile range (q3-q1)\n",
    "#### 4.Find lower bound q1*1.5\n",
    "#### 5.Find upper bound q3*1.5\n",
    "#### Anything that lies outside of lower and upper bound is an outlier"
   ]
  },
  {
   "cell_type": "code",
   "execution_count": 14,
   "id": "8ff85441-65b9-4987-886e-9cf14f50f159",
   "metadata": {},
   "outputs": [
    {
     "data": {
      "text/plain": [
       "[10,\n",
       " 10,\n",
       " 10,\n",
       " 10,\n",
       " 10,\n",
       " 11,\n",
       " 11,\n",
       " 12,\n",
       " 12,\n",
       " 12,\n",
       " 12,\n",
       " 12,\n",
       " 12,\n",
       " 12,\n",
       " 13,\n",
       " 13,\n",
       " 13,\n",
       " 13,\n",
       " 14,\n",
       " 14,\n",
       " 14,\n",
       " 14,\n",
       " 14,\n",
       " 14,\n",
       " 15,\n",
       " 15,\n",
       " 15,\n",
       " 15,\n",
       " 15,\n",
       " 17,\n",
       " 19,\n",
       " 102,\n",
       " 107,\n",
       " 108]"
      ]
     },
     "execution_count": 14,
     "metadata": {},
     "output_type": "execute_result"
    }
   ],
   "source": [
    "## Perform all the steps of IQR\n",
    "sorted(dataset)"
   ]
  },
  {
   "cell_type": "code",
   "execution_count": 16,
   "id": "17cf5af4-d4de-4f30-a6c6-324bb7844084",
   "metadata": {},
   "outputs": [],
   "source": [
    "quantile1, quantile3= np.percentile(dataset,[25,75])"
   ]
  },
  {
   "cell_type": "code",
   "execution_count": 18,
   "id": "61f36b63-d619-4599-b9db-26c7361fc569",
   "metadata": {},
   "outputs": [
    {
     "name": "stdout",
     "output_type": "stream",
     "text": [
      "12.0 15.0\n"
     ]
    }
   ],
   "source": [
    "print(quantile1,quantile3)"
   ]
  },
  {
   "cell_type": "code",
   "execution_count": 20,
   "id": "545a9a52-44ae-4abc-ad3c-7d921e46d4f8",
   "metadata": {},
   "outputs": [
    {
     "name": "stdout",
     "output_type": "stream",
     "text": [
      "3.0\n"
     ]
    }
   ],
   "source": [
    "## Find the IQR\n",
    "\n",
    "iqr_value=quantile3-quantile1\n",
    "print(iqr_value)"
   ]
  },
  {
   "cell_type": "code",
   "execution_count": 26,
   "id": "7b191feb-03e4-4382-8143-a8172d05c1e2",
   "metadata": {},
   "outputs": [],
   "source": [
    "## Find the lower bound value and the higher bound value\n",
    "\n",
    "lower_bound_val = quantile1 -(1.5 * iqr_value) \n",
    "upper_bound_val = quantile3 +(1.5 * iqr_value) "
   ]
  },
  {
   "cell_type": "code",
   "execution_count": 28,
   "id": "0ade97c7-f6eb-4723-8059-72c06bbd1f8c",
   "metadata": {},
   "outputs": [
    {
     "name": "stdout",
     "output_type": "stream",
     "text": [
      "7.5 19.5\n"
     ]
    }
   ],
   "source": [
    "print(lower_bound_val,upper_bound_val)"
   ]
  },
  {
   "cell_type": "code",
   "execution_count": null,
   "id": "b46307a3-b17d-43fb-96f2-2d18ce3f866d",
   "metadata": {},
   "outputs": [],
   "source": []
  }
 ],
 "metadata": {
  "kernelspec": {
   "display_name": "Python 3 (ipykernel)",
   "language": "python",
   "name": "python3"
  },
  "language_info": {
   "codemirror_mode": {
    "name": "ipython",
    "version": 3
   },
   "file_extension": ".py",
   "mimetype": "text/x-python",
   "name": "python",
   "nbconvert_exporter": "python",
   "pygments_lexer": "ipython3",
   "version": "3.12.9"
  }
 },
 "nbformat": 4,
 "nbformat_minor": 5
}
