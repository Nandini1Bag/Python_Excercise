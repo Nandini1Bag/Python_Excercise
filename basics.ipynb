{
 "cells": [
  {
   "cell_type": "markdown",
   "id": "5e583200-83bc-4b3b-b49d-2ce45135f638",
   "metadata": {},
   "source": [
    "# Python Basics"
   ]
  },
  {
   "cell_type": "code",
   "execution_count": 1,
   "id": "9cfd4b2f-88ba-4c29-83df-5a957ed43466",
   "metadata": {},
   "outputs": [
    {
     "name": "stdout",
     "output_type": "stream",
     "text": [
      "Hello World\n"
     ]
    }
   ],
   "source": [
    "print('Hello World')"
   ]
  },
  {
   "cell_type": "code",
   "execution_count": null,
   "id": "bb71280c-e6ec-489f-b026-eb1b015f9e78",
   "metadata": {},
   "outputs": [],
   "source": [
    "# this is a single comment\n",
    "'''\n",
    "this is multiline comment\n",
    "'''"
   ]
  },
  {
   "cell_type": "code",
   "execution_count": null,
   "id": "a6c8fbe6-67a5-48dc-890a-57eafbc15201",
   "metadata": {},
   "outputs": [],
   "source": []
  }
 ],
 "metadata": {
  "kernelspec": {
   "display_name": "Python 3 (ipykernel)",
   "language": "python",
   "name": "python3"
  },
  "language_info": {
   "codemirror_mode": {
    "name": "ipython",
    "version": 3
   },
   "file_extension": ".py",
   "mimetype": "text/x-python",
   "name": "python",
   "nbconvert_exporter": "python",
   "pygments_lexer": "ipython3",
   "version": "3.12.9"
  }
 },
 "nbformat": 4,
 "nbformat_minor": 5
}
